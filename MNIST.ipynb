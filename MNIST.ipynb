{
 "cells": [
  {
   "cell_type": "code",
   "execution_count": 21,
   "id": "bf1fbee3",
   "metadata": {},
   "outputs": [],
   "source": [
    "import numpy as np\n",
    "import tensorflow as tf\n",
    "import tensorflow_datasets as tfds"
   ]
  },
  {
   "cell_type": "code",
   "execution_count": 22,
   "id": "2ce5c434",
   "metadata": {},
   "outputs": [
    {
     "name": "stderr",
     "output_type": "stream",
     "text": [
      "WARNING:absl:Warning: Setting shuffle_files=True because split=TRAIN and shuffle_files=None. This behavior will be deprecated on 2019-08-06, at which point shuffle_files=False will be the default for all splits.\n"
     ]
    },
    {
     "data": {
      "text/plain": [
       "tfds.core.DatasetInfo(\n",
       "    name='mnist',\n",
       "    version=1.0.0,\n",
       "    description='The MNIST database of handwritten digits.',\n",
       "    urls=['https://storage.googleapis.com/cvdf-datasets/mnist/'],\n",
       "    features=FeaturesDict({\n",
       "        'image': Image(shape=(28, 28, 1), dtype=tf.uint8),\n",
       "        'label': ClassLabel(shape=(), dtype=tf.int64, num_classes=10),\n",
       "    }),\n",
       "    total_num_examples=70000,\n",
       "    splits={\n",
       "        'test': 10000,\n",
       "        'train': 60000,\n",
       "    },\n",
       "    supervised_keys=('image', 'label'),\n",
       "    citation=\"\"\"@article{lecun2010mnist,\n",
       "      title={MNIST handwritten digit database},\n",
       "      author={LeCun, Yann and Cortes, Corinna and Burges, CJ},\n",
       "      journal={ATT Labs [Online]. Available: http://yann. lecun. com/exdb/mnist},\n",
       "      volume={2},\n",
       "      year={2010}\n",
       "    }\"\"\",\n",
       "    redistribution_info=,\n",
       ")"
      ]
     },
     "execution_count": 22,
     "metadata": {},
     "output_type": "execute_result"
    }
   ],
   "source": [
    "mnist_data, mnist_info = tfds.load(name=\"mnist\", with_info=True, as_supervised= True)\n",
    "mnist_info"
   ]
  },
  {
   "cell_type": "markdown",
   "id": "35f4d89c",
   "metadata": {},
   "source": [
    "## Data"
   ]
  },
  {
   "cell_type": "code",
   "execution_count": 24,
   "id": "9c0b7f99",
   "metadata": {},
   "outputs": [],
   "source": [
    "train_validation_data, test_data = mnist_data[\"train\"], mnist_data[\"test\"]\n",
    "\n",
    "number_validation = tf.cast(0.1 * mnist_info.splits[\"train\"].num_examples, dtype = tf.int64)\n",
    "number_test = tf.cast(mnist_info.splits[\"test\"].num_examples, dtype = tf.int64)\n",
    "\n",
    "def scale(image, label):\n",
    "    image = tf.cast(image, dtype= tf.float32)\n",
    "    image = image / 255.\n",
    "    return image, label\n",
    "\n",
    "scaled_train_validation_data = train_validation_data.map(scale)\n",
    "scaled_test_data = test_data.map(scale)\n",
    "\n",
    "BUFFER_SIZE = 10000\n",
    "shuffle_scaled_train_validation_data = scaled_train_validation_data.shuffle(BUFFER_SIZE)\n",
    "shuffle_scaled_test_data = scaled_test_data.shuffle(BUFFER_SIZE)\n",
    "\n",
    "real_validation_data = shuffle_scaled_train_validation_data.take(number_validation)\n",
    "real_train_data = shuffle_scaled_train_validation_data.skip(number_validation)\n",
    "\n",
    "real_test_data = shuffle_scaled_test_data\n",
    "\n",
    "BATCH_SIZE = 100\n",
    "batched_train_data = real_train_data.batch(BATCH_SIZE)\n",
    "batched_validation_data = real_validation_data.batch(number_validation)\n",
    "batched_test_data = real_test_data.batch(number_test)\n",
    "\n",
    "validation_inputs, validation_targets = next(iter(batched_validation_data))"
   ]
  },
  {
   "cell_type": "markdown",
   "id": "82836854",
   "metadata": {},
   "source": [
    "## Model"
   ]
  },
  {
   "cell_type": "code",
   "execution_count": 27,
   "id": "06b0fb40",
   "metadata": {},
   "outputs": [],
   "source": [
    "input_size = 784\n",
    "output_size = 10\n",
    "hidden_layer_size = 50\n",
    "\n",
    "model = tf.keras.Sequential([\n",
    "    # Tensorflow flatten is the function available in the tensorflow library and reduces the input data into a single \n",
    "    # dimension instead of 2 dimensions. While doing so, it does not affect the batch size.\n",
    "    tf.keras.layers.Flatten(input_shape=(28, 28, 1)),\n",
    "    tf.keras.layers.Dense(hidden_layer_size, activation=\"relu\"),\n",
    "    tf.keras.layers.Dense(hidden_layer_size, activation=\"relu\"),\n",
    "    tf.keras.layers.Dense(output_size, activation=\"softmax\")\n",
    "]\n",
    ")"
   ]
  },
  {
   "cell_type": "markdown",
   "id": "27a1dfd0",
   "metadata": {},
   "source": [
    "### Choose the optimizer and loss function"
   ]
  },
  {
   "cell_type": "code",
   "execution_count": 28,
   "id": "e6bcefb7",
   "metadata": {},
   "outputs": [],
   "source": [
    "model.compile(optimizer=\"adam\", loss='sparse_categorical_crossentropy', metrics=[\"accuracy\"])\n",
    "# if want to custom learning rate of the optimizer: optimizer = tf.keras.optimizers.Adam(learning_rate=0.02)"
   ]
  },
  {
   "cell_type": "code",
   "execution_count": 30,
   "id": "c00c2549",
   "metadata": {},
   "outputs": [
    {
     "name": "stdout",
     "output_type": "stream",
     "text": [
      "Epoch 1/100\n",
      "540/540 - 5s - loss: 0.0828 - accuracy: 0.9748 - val_loss: 0.0996 - val_accuracy: 0.9718 - 5s/epoch - 10ms/step\n",
      "Epoch 2/100\n",
      "540/540 - 6s - loss: 0.0707 - accuracy: 0.9788 - val_loss: 0.0806 - val_accuracy: 0.9753 - 6s/epoch - 11ms/step\n",
      "Epoch 3/100\n",
      "540/540 - 5s - loss: 0.0622 - accuracy: 0.9807 - val_loss: 0.0719 - val_accuracy: 0.9768 - 5s/epoch - 10ms/step\n",
      "Epoch 4/100\n",
      "540/540 - 5s - loss: 0.0562 - accuracy: 0.9829 - val_loss: 0.0658 - val_accuracy: 0.9790 - 5s/epoch - 10ms/step\n",
      "Epoch 5/100\n",
      "540/540 - 5s - loss: 0.0519 - accuracy: 0.9846 - val_loss: 0.0653 - val_accuracy: 0.9800 - 5s/epoch - 10ms/step\n",
      "Epoch 6/100\n",
      "540/540 - 5s - loss: 0.0457 - accuracy: 0.9855 - val_loss: 0.0655 - val_accuracy: 0.9807 - 5s/epoch - 9ms/step\n",
      "Epoch 7/100\n",
      "540/540 - 5s - loss: 0.0421 - accuracy: 0.9863 - val_loss: 0.0538 - val_accuracy: 0.9828 - 5s/epoch - 9ms/step\n",
      "Epoch 8/100\n",
      "540/540 - 5s - loss: 0.0375 - accuracy: 0.9890 - val_loss: 0.0452 - val_accuracy: 0.9872 - 5s/epoch - 10ms/step\n",
      "Epoch 9/100\n",
      "540/540 - 5s - loss: 0.0335 - accuracy: 0.9897 - val_loss: 0.0437 - val_accuracy: 0.9845 - 5s/epoch - 10ms/step\n",
      "Epoch 10/100\n",
      "540/540 - 5s - loss: 0.0309 - accuracy: 0.9902 - val_loss: 0.0444 - val_accuracy: 0.9862 - 5s/epoch - 9ms/step\n",
      "Epoch 11/100\n",
      "540/540 - 5s - loss: 0.0284 - accuracy: 0.9910 - val_loss: 0.0510 - val_accuracy: 0.9843 - 5s/epoch - 10ms/step\n",
      "Epoch 12/100\n",
      "540/540 - 6s - loss: 0.0275 - accuracy: 0.9916 - val_loss: 0.0433 - val_accuracy: 0.9860 - 6s/epoch - 11ms/step\n",
      "Epoch 13/100\n",
      "540/540 - 6s - loss: 0.0223 - accuracy: 0.9929 - val_loss: 0.0328 - val_accuracy: 0.9895 - 6s/epoch - 11ms/step\n",
      "Epoch 14/100\n",
      "540/540 - 5s - loss: 0.0222 - accuracy: 0.9933 - val_loss: 0.0318 - val_accuracy: 0.9907 - 5s/epoch - 9ms/step\n",
      "Epoch 15/100\n",
      "540/540 - 7s - loss: 0.0203 - accuracy: 0.9937 - val_loss: 0.0327 - val_accuracy: 0.9903 - 7s/epoch - 12ms/step\n",
      "Epoch 16/100\n",
      "540/540 - 8s - loss: 0.0165 - accuracy: 0.9951 - val_loss: 0.0296 - val_accuracy: 0.9902 - 8s/epoch - 15ms/step\n",
      "Epoch 17/100\n",
      "540/540 - 7s - loss: 0.0185 - accuracy: 0.9940 - val_loss: 0.0277 - val_accuracy: 0.9913 - 7s/epoch - 13ms/step\n",
      "Epoch 18/100\n",
      "540/540 - 6s - loss: 0.0155 - accuracy: 0.9952 - val_loss: 0.0240 - val_accuracy: 0.9927 - 6s/epoch - 11ms/step\n",
      "Epoch 19/100\n",
      "540/540 - 5s - loss: 0.0166 - accuracy: 0.9949 - val_loss: 0.0222 - val_accuracy: 0.9932 - 5s/epoch - 10ms/step\n",
      "Epoch 20/100\n",
      "540/540 - 5s - loss: 0.0121 - accuracy: 0.9965 - val_loss: 0.0191 - val_accuracy: 0.9950 - 5s/epoch - 9ms/step\n",
      "Epoch 21/100\n",
      "540/540 - 5s - loss: 0.0134 - accuracy: 0.9957 - val_loss: 0.0174 - val_accuracy: 0.9945 - 5s/epoch - 9ms/step\n",
      "Epoch 22/100\n",
      "540/540 - 5s - loss: 0.0124 - accuracy: 0.9958 - val_loss: 0.0219 - val_accuracy: 0.9927 - 5s/epoch - 10ms/step\n",
      "Epoch 23/100\n",
      "540/540 - 5s - loss: 0.0136 - accuracy: 0.9954 - val_loss: 0.0169 - val_accuracy: 0.9932 - 5s/epoch - 9ms/step\n",
      "Epoch 24/100\n",
      "540/540 - 5s - loss: 0.0105 - accuracy: 0.9967 - val_loss: 0.0128 - val_accuracy: 0.9962 - 5s/epoch - 9ms/step\n",
      "Epoch 25/100\n",
      "540/540 - 5s - loss: 0.0089 - accuracy: 0.9973 - val_loss: 0.0132 - val_accuracy: 0.9962 - 5s/epoch - 9ms/step\n",
      "Epoch 26/100\n",
      "540/540 - 6s - loss: 0.0106 - accuracy: 0.9965 - val_loss: 0.0114 - val_accuracy: 0.9963 - 6s/epoch - 10ms/step\n",
      "Epoch 27/100\n",
      "540/540 - 6s - loss: 0.0074 - accuracy: 0.9978 - val_loss: 0.0105 - val_accuracy: 0.9963 - 6s/epoch - 11ms/step\n",
      "Epoch 28/100\n",
      "540/540 - 5s - loss: 0.0082 - accuracy: 0.9974 - val_loss: 0.0109 - val_accuracy: 0.9963 - 5s/epoch - 10ms/step\n",
      "Epoch 29/100\n",
      "540/540 - 5s - loss: 0.0093 - accuracy: 0.9969 - val_loss: 0.0115 - val_accuracy: 0.9960 - 5s/epoch - 10ms/step\n",
      "Epoch 30/100\n",
      "540/540 - 6s - loss: 0.0068 - accuracy: 0.9979 - val_loss: 0.0124 - val_accuracy: 0.9958 - 6s/epoch - 11ms/step\n",
      "Epoch 31/100\n",
      "540/540 - 6s - loss: 0.0107 - accuracy: 0.9965 - val_loss: 0.0097 - val_accuracy: 0.9970 - 6s/epoch - 11ms/step\n",
      "Epoch 32/100\n",
      "540/540 - 6s - loss: 0.0078 - accuracy: 0.9973 - val_loss: 0.0147 - val_accuracy: 0.9947 - 6s/epoch - 11ms/step\n",
      "Epoch 33/100\n",
      "540/540 - 5s - loss: 0.0053 - accuracy: 0.9985 - val_loss: 0.0083 - val_accuracy: 0.9973 - 5s/epoch - 10ms/step\n",
      "Epoch 34/100\n",
      "540/540 - 5s - loss: 0.0082 - accuracy: 0.9972 - val_loss: 0.0151 - val_accuracy: 0.9950 - 5s/epoch - 10ms/step\n",
      "Epoch 35/100\n",
      "540/540 - 6s - loss: 0.0100 - accuracy: 0.9967 - val_loss: 0.0087 - val_accuracy: 0.9970 - 6s/epoch - 12ms/step\n",
      "Epoch 36/100\n",
      "540/540 - 5s - loss: 0.0045 - accuracy: 0.9988 - val_loss: 0.0090 - val_accuracy: 0.9968 - 5s/epoch - 9ms/step\n",
      "Epoch 37/100\n",
      "540/540 - 5s - loss: 0.0084 - accuracy: 0.9974 - val_loss: 0.0069 - val_accuracy: 0.9973 - 5s/epoch - 10ms/step\n",
      "Epoch 38/100\n",
      "540/540 - 6s - loss: 0.0053 - accuracy: 0.9982 - val_loss: 0.0224 - val_accuracy: 0.9920 - 6s/epoch - 10ms/step\n",
      "Epoch 39/100\n",
      "540/540 - 5s - loss: 0.0094 - accuracy: 0.9968 - val_loss: 0.0067 - val_accuracy: 0.9978 - 5s/epoch - 10ms/step\n",
      "Epoch 40/100\n",
      "540/540 - 5s - loss: 0.0056 - accuracy: 0.9982 - val_loss: 0.0087 - val_accuracy: 0.9970 - 5s/epoch - 10ms/step\n",
      "Epoch 41/100\n",
      "540/540 - 5s - loss: 0.0056 - accuracy: 0.9983 - val_loss: 0.0063 - val_accuracy: 0.9980 - 5s/epoch - 9ms/step\n",
      "Epoch 42/100\n",
      "540/540 - 5s - loss: 0.0054 - accuracy: 0.9984 - val_loss: 0.0046 - val_accuracy: 0.9990 - 5s/epoch - 9ms/step\n",
      "Epoch 43/100\n",
      "540/540 - 6s - loss: 0.0036 - accuracy: 0.9989 - val_loss: 0.0045 - val_accuracy: 0.9990 - 6s/epoch - 10ms/step\n",
      "Epoch 44/100\n",
      "540/540 - 5s - loss: 0.0080 - accuracy: 0.9974 - val_loss: 0.0123 - val_accuracy: 0.9957 - 5s/epoch - 9ms/step\n",
      "Epoch 45/100\n",
      "540/540 - 6s - loss: 0.0059 - accuracy: 0.9980 - val_loss: 0.0048 - val_accuracy: 0.9978 - 6s/epoch - 11ms/step\n",
      "Epoch 46/100\n",
      "540/540 - 7s - loss: 0.0066 - accuracy: 0.9979 - val_loss: 0.0146 - val_accuracy: 0.9953 - 7s/epoch - 13ms/step\n",
      "Epoch 47/100\n",
      "540/540 - 6s - loss: 0.0064 - accuracy: 0.9982 - val_loss: 0.0092 - val_accuracy: 0.9965 - 6s/epoch - 12ms/step\n",
      "Epoch 48/100\n",
      "540/540 - 6s - loss: 0.0064 - accuracy: 0.9978 - val_loss: 0.0064 - val_accuracy: 0.9980 - 6s/epoch - 11ms/step\n",
      "Epoch 49/100\n",
      "540/540 - 6s - loss: 0.0055 - accuracy: 0.9982 - val_loss: 0.0046 - val_accuracy: 0.9985 - 6s/epoch - 12ms/step\n",
      "Epoch 50/100\n",
      "540/540 - 6s - loss: 0.0051 - accuracy: 0.9983 - val_loss: 0.0055 - val_accuracy: 0.9985 - 6s/epoch - 11ms/step\n",
      "Epoch 51/100\n",
      "540/540 - 6s - loss: 0.0056 - accuracy: 0.9981 - val_loss: 0.0058 - val_accuracy: 0.9982 - 6s/epoch - 11ms/step\n",
      "Epoch 52/100\n",
      "540/540 - 6s - loss: 0.0043 - accuracy: 0.9985 - val_loss: 0.0071 - val_accuracy: 0.9980 - 6s/epoch - 11ms/step\n",
      "Epoch 53/100\n",
      "540/540 - 7s - loss: 0.0056 - accuracy: 0.9982 - val_loss: 0.0202 - val_accuracy: 0.9945 - 7s/epoch - 13ms/step\n",
      "Epoch 54/100\n",
      "540/540 - 7s - loss: 0.0045 - accuracy: 0.9986 - val_loss: 0.0054 - val_accuracy: 0.9982 - 7s/epoch - 12ms/step\n",
      "Epoch 55/100\n",
      "540/540 - 7s - loss: 0.0043 - accuracy: 0.9986 - val_loss: 0.0054 - val_accuracy: 0.9987 - 7s/epoch - 14ms/step\n",
      "Epoch 56/100\n",
      "540/540 - 6s - loss: 0.0071 - accuracy: 0.9976 - val_loss: 0.0073 - val_accuracy: 0.9977 - 6s/epoch - 11ms/step\n",
      "Epoch 57/100\n",
      "540/540 - 5s - loss: 0.0049 - accuracy: 0.9984 - val_loss: 0.0032 - val_accuracy: 0.9988 - 5s/epoch - 10ms/step\n",
      "Epoch 58/100\n",
      "540/540 - 5s - loss: 0.0049 - accuracy: 0.9983 - val_loss: 0.0134 - val_accuracy: 0.9953 - 5s/epoch - 9ms/step\n",
      "Epoch 59/100\n",
      "540/540 - 5s - loss: 0.0034 - accuracy: 0.9989 - val_loss: 0.0076 - val_accuracy: 0.9975 - 5s/epoch - 9ms/step\n",
      "Epoch 60/100\n",
      "540/540 - 5s - loss: 0.0031 - accuracy: 0.9989 - val_loss: 0.0060 - val_accuracy: 0.9983 - 5s/epoch - 9ms/step\n",
      "Epoch 61/100\n",
      "540/540 - 4s - loss: 0.0102 - accuracy: 0.9968 - val_loss: 0.0075 - val_accuracy: 0.9972 - 4s/epoch - 8ms/step\n",
      "Epoch 62/100\n",
      "540/540 - 5s - loss: 0.0065 - accuracy: 0.9980 - val_loss: 0.0019 - val_accuracy: 0.9997 - 5s/epoch - 9ms/step\n",
      "Epoch 63/100\n",
      "540/540 - 6s - loss: 0.0013 - accuracy: 0.9997 - val_loss: 0.0023 - val_accuracy: 0.9990 - 6s/epoch - 11ms/step\n",
      "Epoch 64/100\n",
      "540/540 - 4s - loss: 0.0018 - accuracy: 0.9995 - val_loss: 0.0028 - val_accuracy: 0.9992 - 4s/epoch - 8ms/step\n",
      "Epoch 65/100\n",
      "540/540 - 5s - loss: 0.0069 - accuracy: 0.9976 - val_loss: 0.0156 - val_accuracy: 0.9955 - 5s/epoch - 9ms/step\n",
      "Epoch 66/100\n",
      "540/540 - 5s - loss: 0.0071 - accuracy: 0.9976 - val_loss: 0.0034 - val_accuracy: 0.9988 - 5s/epoch - 10ms/step\n"
     ]
    },
    {
     "name": "stdout",
     "output_type": "stream",
     "text": [
      "Epoch 67/100\n",
      "540/540 - 5s - loss: 0.0014 - accuracy: 0.9997 - val_loss: 0.0032 - val_accuracy: 0.9988 - 5s/epoch - 10ms/step\n",
      "Epoch 68/100\n",
      "540/540 - 5s - loss: 0.0025 - accuracy: 0.9992 - val_loss: 0.0047 - val_accuracy: 0.9983 - 5s/epoch - 10ms/step\n",
      "Epoch 69/100\n",
      "540/540 - 5s - loss: 0.0079 - accuracy: 0.9970 - val_loss: 0.0166 - val_accuracy: 0.9943 - 5s/epoch - 9ms/step\n",
      "Epoch 70/100\n",
      "540/540 - 5s - loss: 0.0042 - accuracy: 0.9986 - val_loss: 0.0063 - val_accuracy: 0.9982 - 5s/epoch - 9ms/step\n",
      "Epoch 71/100\n",
      "540/540 - 5s - loss: 0.0014 - accuracy: 0.9996 - val_loss: 0.0010 - val_accuracy: 1.0000 - 5s/epoch - 10ms/step\n",
      "Epoch 72/100\n",
      "540/540 - 6s - loss: 2.2097e-04 - accuracy: 1.0000 - val_loss: 4.0548e-04 - val_accuracy: 1.0000 - 6s/epoch - 11ms/step\n",
      "Epoch 73/100\n",
      "540/540 - 5s - loss: 1.3428e-04 - accuracy: 1.0000 - val_loss: 3.5289e-04 - val_accuracy: 1.0000 - 5s/epoch - 10ms/step\n",
      "Epoch 74/100\n",
      "540/540 - 5s - loss: 0.0159 - accuracy: 0.9952 - val_loss: 0.0130 - val_accuracy: 0.9962 - 5s/epoch - 9ms/step\n",
      "Epoch 75/100\n",
      "540/540 - 6s - loss: 0.0047 - accuracy: 0.9983 - val_loss: 0.0067 - val_accuracy: 0.9972 - 6s/epoch - 11ms/step\n",
      "Epoch 76/100\n",
      "540/540 - 5s - loss: 0.0028 - accuracy: 0.9991 - val_loss: 0.0027 - val_accuracy: 0.9993 - 5s/epoch - 9ms/step\n",
      "Epoch 77/100\n",
      "540/540 - 6s - loss: 0.0020 - accuracy: 0.9994 - val_loss: 0.0027 - val_accuracy: 0.9992 - 6s/epoch - 11ms/step\n",
      "Epoch 78/100\n",
      "540/540 - 6s - loss: 0.0018 - accuracy: 0.9995 - val_loss: 0.0064 - val_accuracy: 0.9977 - 6s/epoch - 11ms/step\n",
      "Epoch 79/100\n",
      "540/540 - 5s - loss: 0.0108 - accuracy: 0.9966 - val_loss: 0.0097 - val_accuracy: 0.9967 - 5s/epoch - 9ms/step\n",
      "Epoch 80/100\n",
      "540/540 - 6s - loss: 0.0023 - accuracy: 0.9993 - val_loss: 0.0019 - val_accuracy: 0.9993 - 6s/epoch - 10ms/step\n",
      "Epoch 81/100\n",
      "540/540 - 6s - loss: 9.5208e-04 - accuracy: 0.9997 - val_loss: 0.0023 - val_accuracy: 0.9993 - 6s/epoch - 11ms/step\n",
      "Epoch 82/100\n",
      "540/540 - 6s - loss: 0.0067 - accuracy: 0.9980 - val_loss: 0.0205 - val_accuracy: 0.9932 - 6s/epoch - 12ms/step\n",
      "Epoch 83/100\n",
      "540/540 - 6s - loss: 0.0058 - accuracy: 0.9982 - val_loss: 0.0095 - val_accuracy: 0.9968 - 6s/epoch - 11ms/step\n",
      "Epoch 84/100\n",
      "540/540 - 5s - loss: 0.0026 - accuracy: 0.9992 - val_loss: 0.0030 - val_accuracy: 0.9992 - 5s/epoch - 9ms/step\n",
      "Epoch 85/100\n",
      "540/540 - 6s - loss: 0.0045 - accuracy: 0.9985 - val_loss: 0.0031 - val_accuracy: 0.9980 - 6s/epoch - 11ms/step\n",
      "Epoch 86/100\n",
      "540/540 - 6s - loss: 6.6864e-04 - accuracy: 0.9998 - val_loss: 6.0465e-04 - val_accuracy: 0.9997 - 6s/epoch - 11ms/step\n",
      "Epoch 87/100\n",
      "540/540 - 6s - loss: 0.0040 - accuracy: 0.9989 - val_loss: 0.0118 - val_accuracy: 0.9960 - 6s/epoch - 10ms/step\n",
      "Epoch 88/100\n",
      "540/540 - 5s - loss: 0.0051 - accuracy: 0.9984 - val_loss: 0.0138 - val_accuracy: 0.9955 - 5s/epoch - 10ms/step\n",
      "Epoch 89/100\n",
      "540/540 - 5s - loss: 0.0051 - accuracy: 0.9983 - val_loss: 0.0041 - val_accuracy: 0.9985 - 5s/epoch - 9ms/step\n",
      "Epoch 90/100\n",
      "540/540 - 7s - loss: 0.0039 - accuracy: 0.9987 - val_loss: 0.0061 - val_accuracy: 0.9985 - 7s/epoch - 13ms/step\n",
      "Epoch 91/100\n",
      "540/540 - 6s - loss: 0.0045 - accuracy: 0.9984 - val_loss: 0.0143 - val_accuracy: 0.9965 - 6s/epoch - 11ms/step\n",
      "Epoch 92/100\n",
      "540/540 - 5s - loss: 0.0045 - accuracy: 0.9985 - val_loss: 0.0023 - val_accuracy: 0.9993 - 5s/epoch - 9ms/step\n",
      "Epoch 93/100\n",
      "540/540 - 5s - loss: 0.0037 - accuracy: 0.9988 - val_loss: 0.0109 - val_accuracy: 0.9972 - 5s/epoch - 9ms/step\n",
      "Epoch 94/100\n",
      "540/540 - 6s - loss: 0.0040 - accuracy: 0.9987 - val_loss: 0.0077 - val_accuracy: 0.9985 - 6s/epoch - 11ms/step\n",
      "Epoch 95/100\n",
      "540/540 - 5s - loss: 0.0038 - accuracy: 0.9987 - val_loss: 0.0069 - val_accuracy: 0.9970 - 5s/epoch - 9ms/step\n",
      "Epoch 96/100\n",
      "540/540 - 5s - loss: 0.0012 - accuracy: 0.9996 - val_loss: 0.0069 - val_accuracy: 0.9983 - 5s/epoch - 9ms/step\n",
      "Epoch 97/100\n",
      "540/540 - 5s - loss: 0.0055 - accuracy: 0.9984 - val_loss: 0.0115 - val_accuracy: 0.9973 - 5s/epoch - 9ms/step\n",
      "Epoch 98/100\n",
      "540/540 - 5s - loss: 0.0055 - accuracy: 0.9982 - val_loss: 9.8720e-04 - val_accuracy: 0.9997 - 5s/epoch - 9ms/step\n",
      "Epoch 99/100\n",
      "540/540 - 6s - loss: 8.1688e-04 - accuracy: 0.9998 - val_loss: 0.0026 - val_accuracy: 0.9993 - 6s/epoch - 10ms/step\n",
      "Epoch 100/100\n",
      "540/540 - 5s - loss: 0.0012 - accuracy: 0.9996 - val_loss: 7.9202e-04 - val_accuracy: 0.9998 - 5s/epoch - 9ms/step\n"
     ]
    },
    {
     "data": {
      "text/plain": [
       "<keras.callbacks.History at 0x287e25d4a60>"
      ]
     },
     "execution_count": 30,
     "metadata": {},
     "output_type": "execute_result"
    }
   ],
   "source": [
    "NUM_EPOCH = 100\n",
    "model.fit(batched_train_data, epochs=NUM_EPOCH, validation_data = (validation_inputs, validation_targets), verbose = 2)"
   ]
  },
  {
   "cell_type": "markdown",
   "id": "407788fd",
   "metadata": {},
   "source": [
    "## Test Model"
   ]
  },
  {
   "cell_type": "code",
   "execution_count": 32,
   "id": "692cf2e5",
   "metadata": {},
   "outputs": [
    {
     "name": "stdout",
     "output_type": "stream",
     "text": [
      "100/100 [==============================] - 1s 3ms/step - loss: 0.2025 - accuracy: 0.9745\n"
     ]
    }
   ],
   "source": [
    "test_loss, test_accuracy = model.evaluate(batch_test_data)"
   ]
  },
  {
   "cell_type": "code",
   "execution_count": null,
   "id": "93ed01d7",
   "metadata": {},
   "outputs": [],
   "source": []
  }
 ],
 "metadata": {
  "kernelspec": {
   "display_name": "py3-TF2.0",
   "language": "python",
   "name": "py3-tf2.0"
  },
  "language_info": {
   "codemirror_mode": {
    "name": "ipython",
    "version": 3
   },
   "file_extension": ".py",
   "mimetype": "text/x-python",
   "name": "python",
   "nbconvert_exporter": "python",
   "pygments_lexer": "ipython3",
   "version": "3.10.9"
  }
 },
 "nbformat": 4,
 "nbformat_minor": 5
}
