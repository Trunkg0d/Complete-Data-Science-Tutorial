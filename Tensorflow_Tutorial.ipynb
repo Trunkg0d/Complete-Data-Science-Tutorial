{
 "cells": [
  {
   "cell_type": "code",
   "execution_count": 1,
   "id": "e7823867",
   "metadata": {},
   "outputs": [],
   "source": [
    "import numpy as np\n",
    "import tensorflow as tf\n",
    "tf.random.set_seed(42)"
   ]
  },
  {
   "cell_type": "code",
   "execution_count": 2,
   "id": "6f16a283",
   "metadata": {},
   "outputs": [
    {
     "name": "stdout",
     "output_type": "stream",
     "text": [
      "[<tf.Tensor: shape=(), dtype=int8, numpy=1>, <tf.Tensor: shape=(3,), dtype=float32, numpy=array([1., 2., 3.], dtype=float32)>, <tf.Tensor: shape=(2, 2), dtype=float32, numpy=\n",
      "array([[1., 2.],\n",
      "       [3., 4.]], dtype=float32)>]\n"
     ]
    }
   ],
   "source": [
    "scalar = tf.constant(1, dtype=tf.int8)\n",
    "vector = tf.constant([1, 2, 3], dtype=tf.float32)\n",
    "matrix = tf.constant(np.array([[1, 2], [3, 4]]), dtype=tf.float32)\n",
    "print([scalar, vector, matrix])"
   ]
  },
  {
   "cell_type": "code",
   "execution_count": 3,
   "id": "b266ca37",
   "metadata": {},
   "outputs": [
    {
     "name": "stdout",
     "output_type": "stream",
     "text": [
      "()\n",
      "tf.Tensor([], shape=(0,), dtype=int32)\n",
      "2060390467712\n",
      "(3,)\n",
      "tf.Tensor([3], shape=(1,), dtype=int32)\n",
      "2060390467904\n",
      "(2, 2)\n",
      "tf.Tensor([2 2], shape=(2,), dtype=int32)\n",
      "2060390468096\n"
     ]
    }
   ],
   "source": [
    "# Get shape and object shape\n",
    "print(scalar.shape)\n",
    "print(tf.shape(scalar))\n",
    "print(id(scalar))\n",
    "\n",
    "print(vector.shape)\n",
    "print(tf.shape(vector))\n",
    "print(id(vector))\n",
    "\n",
    "print(matrix.shape)\n",
    "print(tf.shape(matrix))\n",
    "print(id(matrix))"
   ]
  },
  {
   "cell_type": "code",
   "execution_count": 4,
   "id": "d3370366",
   "metadata": {},
   "outputs": [
    {
     "name": "stdout",
     "output_type": "stream",
     "text": [
      "tf.Tensor(\n",
      "[[1 2]\n",
      " [3 4]], shape=(2, 2), dtype=int8)\n",
      "2060390468288\n"
     ]
    }
   ],
   "source": [
    "# Convert data type\n",
    "matrix = tf.cast(matrix, dtype=tf.int8)\n",
    "print(matrix)\n",
    "print(id(matrix))\n",
    "# Notice the new tensor has the same values as the original tensor, but with int8 data type\n",
    "# and it also has a different id number 4, indicating that it is a new tensor object."
   ]
  },
  {
   "cell_type": "code",
   "execution_count": 5,
   "id": "f6ba6c38",
   "metadata": {},
   "outputs": [
    {
     "name": "stdout",
     "output_type": "stream",
     "text": [
      "tf.Tensor(\n",
      "[[0. 0.]\n",
      " [0. 0.]], shape=(2, 2), dtype=float32)\n",
      "tf.Tensor(\n",
      "[[0.6645621  0.44100678]\n",
      " [0.3528825  0.46448255]\n",
      " [0.03366041 0.68467236]], shape=(3, 2), dtype=float32)\n",
      "tf.Tensor(\n",
      "[[1. 1.]\n",
      " [1. 1.]], shape=(2, 2), dtype=float32)\n"
     ]
    }
   ],
   "source": [
    "# Ways to create special tensor\n",
    "o = tf.zeros((2, 2))\n",
    "x = tf.random.uniform((3, 2))\n",
    "print(o)\n",
    "print(x)\n",
    "print(tf.ones_like(o))"
   ]
  },
  {
   "cell_type": "code",
   "execution_count": 6,
   "id": "244e98f1",
   "metadata": {},
   "outputs": [
    {
     "data": {
      "text/plain": [
       "array([[1, 2],\n",
       "       [3, 4]], dtype=int8)"
      ]
     },
     "execution_count": 6,
     "metadata": {},
     "output_type": "execute_result"
    }
   ],
   "source": [
    "# We saw earlier that we can convert numpy arrays to Tensors with tf.constant , we can\n",
    "# do the reverse with .numpy() method\n",
    "numpy_matrix = matrix.numpy()\n",
    "type(numpy_matrix)\n",
    "numpy_matrix"
   ]
  },
  {
   "cell_type": "markdown",
   "id": "5f81f26e",
   "metadata": {},
   "source": [
    "## Operations"
   ]
  },
  {
   "cell_type": "code",
   "execution_count": 7,
   "id": "e15ae1d5",
   "metadata": {},
   "outputs": [
    {
     "name": "stdout",
     "output_type": "stream",
     "text": [
      "tf.Tensor(2, shape=(), dtype=int8)\n",
      "tf.Tensor([3 4], shape=(2,), dtype=int8)\n",
      "tf.Tensor([[3 4]], shape=(1, 2), dtype=int8)\n"
     ]
    }
   ],
   "source": [
    "print(matrix[0, 1])\n",
    "print(matrix[1, :2])\n",
    "print(matrix[tf.newaxis, 1, :2])"
   ]
  },
  {
   "cell_type": "code",
   "execution_count": 8,
   "id": "c6447d58",
   "metadata": {},
   "outputs": [
    {
     "name": "stdout",
     "output_type": "stream",
     "text": [
      "tf.Tensor([5. 7. 9.], shape=(3,), dtype=float32)\n",
      "tf.Tensor([ 4. 10. 18.], shape=(3,), dtype=float32)\n",
      "tf.Tensor(\n",
      "[[ 1  4]\n",
      " [ 9 16]], shape=(2, 2), dtype=int8)\n"
     ]
    }
   ],
   "source": [
    "# Addition\n",
    "a = tf.constant([1, 2, 3], dtype=tf.float32)\n",
    "b = tf.constant([4, 5, 6], dtype=tf.float32)\n",
    "print(tf.add(a, b))\n",
    "\n",
    "# Multiplication\n",
    "print(tf.multiply(a, b))\n",
    "\n",
    "# Matrix - Multiplication\n",
    "print(tf.multiply(matrix, matrix))"
   ]
  },
  {
   "cell_type": "markdown",
   "id": "7f663ce2",
   "metadata": {},
   "source": [
    "## Variables"
   ]
  },
  {
   "cell_type": "code",
   "execution_count": 9,
   "id": "46d72c1c",
   "metadata": {},
   "outputs": [
    {
     "name": "stdout",
     "output_type": "stream",
     "text": [
      "<tf.Variable 'Variable:0' shape=(3, 2) dtype=float32, numpy=\n",
      "array([[0.6645621 , 0.44100678],\n",
      "       [0.3528825 , 0.46448255],\n",
      "       [0.03366041, 0.68467236]], dtype=float32)>\n"
     ]
    }
   ],
   "source": [
    "v = tf.Variable(x)\n",
    "print(v)"
   ]
  },
  {
   "cell_type": "code",
   "execution_count": 10,
   "id": "095a82e8",
   "metadata": {},
   "outputs": [
    {
     "name": "stdout",
     "output_type": "stream",
     "text": [
      "tf.Tensor(\n",
      "[[0.4416428  0.19448698]\n",
      " [0.12452606 0.21574403]\n",
      " [0.00113302 0.46877623]], shape=(3, 2), dtype=float32)\n"
     ]
    }
   ],
   "source": [
    "# Variables can be inputs to operations just as Tensors, note the output is a Tensor not Variable.\n",
    "print(tf.square(v))"
   ]
  },
  {
   "cell_type": "code",
   "execution_count": 11,
   "id": "0f01f24e",
   "metadata": {},
   "outputs": [
    {
     "name": "stdout",
     "output_type": "stream",
     "text": [
      "<tf.Variable 'Variable:0' shape=(3, 2) dtype=float32, numpy=\n",
      "array([[0.4416428 , 0.19448698],\n",
      "       [0.12452606, 0.21574403],\n",
      "       [0.00113302, 0.46877623]], dtype=float32)>\n"
     ]
    }
   ],
   "source": [
    "# Variables can be updated with .assign , .assign_add or .assign_sub methods.\n",
    "v.assign(tf.square(v))\n",
    "print(v)"
   ]
  },
  {
   "cell_type": "markdown",
   "id": "5cc66836",
   "metadata": {},
   "source": [
    "## Automatic Differentiation"
   ]
  },
  {
   "cell_type": "code",
   "execution_count": 16,
   "id": "7e26a7cf",
   "metadata": {},
   "outputs": [
    {
     "name": "stdout",
     "output_type": "stream",
     "text": [
      "[<tf.Tensor: shape=(1,), dtype=float32, numpy=array([8.], dtype=float32)>, <tf.Tensor: shape=(1,), dtype=float32, numpy=array([3.], dtype=float32)>]\n",
      "tf.Tensor([31.], shape=(1,), dtype=float32)\n"
     ]
    }
   ],
   "source": [
    "a = tf.Variable([4], dtype=tf.float32)\n",
    "b = tf.Variable([5], dtype=tf.float32)\n",
    "def f(a, b, power=2, d=3):\n",
    "    return tf.pow(a, power) + d * b\n",
    "\n",
    "with tf.GradientTape(watch_accessed_variables=True) as tape:\n",
    "    c = f(a, b)\n",
    "print(tape.gradient(target=c, sources=[a, b]))\n",
    "print(f(a, b))"
   ]
  },
  {
   "cell_type": "markdown",
   "id": "9cf4dd63",
   "metadata": {},
   "source": [
    "## Linear Regression"
   ]
  },
  {
   "cell_type": "code",
   "execution_count": 27,
   "id": "ffb34f3c",
   "metadata": {},
   "outputs": [
    {
     "name": "stdout",
     "output_type": "stream",
     "text": [
      "mean squared loss at iteration    0 is 18.2589\n",
      "mean squared loss at iteration  100 is 0.1475\n",
      "mean squared loss at iteration  200 is 0.0290\n",
      "mean squared loss at iteration  300 is 0.0062\n",
      "mean squared loss at iteration  400 is 0.0014\n",
      "mean squared loss at iteration  500 is 0.0003\n",
      "mean squared loss at iteration  600 is 0.0001\n",
      "mean squared loss at iteration  700 is 0.0000\n",
      "mean squared loss at iteration  800 is 0.0000\n",
      "mean squared loss at iteration  900 is 0.0000\n",
      "mean squared loss at iteration 1000 is 0.0000\n",
      "<tf.Variable 'Variable:0' shape=(5, 1) dtype=float32, numpy=\n",
      "array([[4.5362278e-04],\n",
      "       [1.0005250e+00],\n",
      "       [2.0009515e+00],\n",
      "       [2.9989629e+00],\n",
      "       [3.9992294e+00]], dtype=float32)>\n"
     ]
    }
   ],
   "source": [
    "# ground truth\n",
    "true_weights = tf.constant(list(range(5)), dtype=tf.float32)[:, tf.newaxis]\n",
    "\n",
    "# some random training data\n",
    "x = tf.constant(tf.random.uniform((32, 5)), dtype=tf.float32)\n",
    "y = tf.constant(x @ true_weights, dtype=tf.float32)\n",
    "\n",
    "# model parameters\n",
    "weights = tf.Variable(tf.random.uniform((5, 1)), dtype=tf.float32)\n",
    "for iteration in range(1001):\n",
    "    with tf.GradientTape() as tape:\n",
    "        y_hat = tf.linalg.matmul(x, weights)\n",
    "        loss = tf.reduce_mean(tf.square(y - y_hat))\n",
    "    if not (iteration % 100):\n",
    "        print('mean squared loss at iteration {:4d} is {:5.4f}'.format(iteration, loss))\n",
    "    gradients = tape.gradient(loss, weights)\n",
    "    weights.assign_add(-0.05 * gradients)\n",
    "print(weights)"
   ]
  },
  {
   "cell_type": "code",
   "execution_count": null,
   "id": "a08005fc",
   "metadata": {},
   "outputs": [],
   "source": []
  }
 ],
 "metadata": {
  "kernelspec": {
   "display_name": "py3-TF2.0",
   "language": "python",
   "name": "py3-tf2.0"
  },
  "language_info": {
   "codemirror_mode": {
    "name": "ipython",
    "version": 3
   },
   "file_extension": ".py",
   "mimetype": "text/x-python",
   "name": "python",
   "nbconvert_exporter": "python",
   "pygments_lexer": "ipython3",
   "version": "3.10.9"
  }
 },
 "nbformat": 4,
 "nbformat_minor": 5
}
