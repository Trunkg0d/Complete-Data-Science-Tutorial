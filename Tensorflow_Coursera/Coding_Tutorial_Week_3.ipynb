{
 "cells": [
  {
   "cell_type": "code",
   "execution_count": 1,
   "metadata": {
    "scrolled": true
   },
   "outputs": [
    {
     "name": "stdout",
     "output_type": "stream",
     "text": [
      "2.10.0\n"
     ]
    }
   ],
   "source": [
    "import tensorflow as tf\n",
    "print(tf.__version__)"
   ]
  },
  {
   "cell_type": "markdown",
   "metadata": {},
   "source": [
    "# Validation, regularisation and callbacks"
   ]
  },
  {
   "cell_type": "markdown",
   "metadata": {},
   "source": [
    " ## Coding tutorials\n",
    " #### [1. Validation sets](#coding_tutorial_1)\n",
    " #### [2. Model regularisation](#coding_tutorial_2)\n",
    " #### [3. Introduction to callbacks](#coding_tutorial_3)\n",
    " #### [4. Early stopping / patience](#coding_tutorial_4)"
   ]
  },
  {
   "cell_type": "markdown",
   "metadata": {},
   "source": [
    "***\n",
    "<a id=\"coding_tutorial_1\"></a>\n",
    "## Validation sets"
   ]
  },
  {
   "cell_type": "markdown",
   "metadata": {},
   "source": [
    "#### Load the data"
   ]
  },
  {
   "cell_type": "code",
   "execution_count": 13,
   "metadata": {},
   "outputs": [
    {
     "name": "stdout",
     "output_type": "stream",
     "text": [
      ".. _diabetes_dataset:\n",
      "\n",
      "Diabetes dataset\n",
      "----------------\n",
      "\n",
      "Ten baseline variables, age, sex, body mass index, average blood\n",
      "pressure, and six blood serum measurements were obtained for each of n =\n",
      "442 diabetes patients, as well as the response of interest, a\n",
      "quantitative measure of disease progression one year after baseline.\n",
      "\n",
      "**Data Set Characteristics:**\n",
      "\n",
      "  :Number of Instances: 442\n",
      "\n",
      "  :Number of Attributes: First 10 columns are numeric predictive values\n",
      "\n",
      "  :Target: Column 11 is a quantitative measure of disease progression one year after baseline\n",
      "\n",
      "  :Attribute Information:\n",
      "      - age     age in years\n",
      "      - sex\n",
      "      - bmi     body mass index\n",
      "      - bp      average blood pressure\n",
      "      - s1      tc, total serum cholesterol\n",
      "      - s2      ldl, low-density lipoproteins\n",
      "      - s3      hdl, high-density lipoproteins\n",
      "      - s4      tch, total cholesterol / HDL\n",
      "      - s5      ltg, possibly log of serum triglycerides level\n",
      "      - s6      glu, blood sugar level\n",
      "\n",
      "Note: Each of these 10 feature variables have been mean centered and scaled by the standard deviation times the square root of `n_samples` (i.e. the sum of squares of each column totals 1).\n",
      "\n",
      "Source URL:\n",
      "https://www4.stat.ncsu.edu/~boos/var.select/diabetes.html\n",
      "\n",
      "For more information see:\n",
      "Bradley Efron, Trevor Hastie, Iain Johnstone and Robert Tibshirani (2004) \"Least Angle Regression,\" Annals of Statistics (with discussion), 407-499.\n",
      "(https://web.stanford.edu/~hastie/Papers/LARS/LeastAngle_2002.pdf)\n",
      "\n"
     ]
    }
   ],
   "source": [
    "# Load the diabetes dataset\n",
    "from sklearn.datasets import load_diabetes\n",
    "\n",
    "diabetes_dataset = load_diabetes()\n",
    "print(diabetes_dataset[\"DESCR\"])"
   ]
  },
  {
   "cell_type": "code",
   "execution_count": 15,
   "metadata": {},
   "outputs": [
    {
     "name": "stdout",
     "output_type": "stream",
     "text": [
      "dict_keys(['data', 'target', 'frame', 'DESCR', 'feature_names', 'data_filename', 'target_filename', 'data_module'])\n"
     ]
    }
   ],
   "source": [
    "# Save the input and target variables\n",
    "print(diabetes_dataset.keys())\n",
    "data = diabetes_dataset[\"data\"]\n",
    "targets = diabetes_dataset[\"target\"]"
   ]
  },
  {
   "cell_type": "code",
   "execution_count": 17,
   "metadata": {},
   "outputs": [
    {
     "data": {
      "text/plain": [
       "array([-1.47194752e-02, -1.00165882e+00, -1.44579915e-01,  6.99512942e-01,\n",
       "       -2.22496178e-01, -7.15965848e-01, -1.83538046e-01, -1.15749134e+00,\n",
       "       -5.47147277e-01,  2.05006151e+00, -6.64021672e-01, -1.07957508e+00,\n",
       "        3.48889755e-01,  4.26806019e-01, -4.43258925e-01,  2.45001404e-01,\n",
       "        1.80071184e-01, -1.05621783e-01, -7.15965848e-01,  2.06043272e-01,\n",
       "       -1.09256112e+00, -1.33929596e+00, -1.09256112e+00,  1.20596866e+00,\n",
       "        4.13819975e-01,  6.47568766e-01, -1.96524090e-01, -8.71798376e-01,\n",
       "       -2.74440354e-01,  1.69943833e+00, -3.00412442e-01, -1.20943552e+00,\n",
       "        2.45262887e+00, -8.45826288e-01, -1.13151925e+00, -6.51035629e-01,\n",
       "        1.46568953e+00,  1.60853602e+00,  1.29687096e+00, -8.06868156e-01,\n",
       "       -6.77007716e-01, -1.26137969e+00, -1.18346343e+00, -7.80896068e-01,\n",
       "        1.38777327e+00, -1.28735178e+00,  4.91736239e-01, -1.31593871e-01,\n",
       "       -1.00165882e+00, -1.31593871e-01,  3.72247006e-02,  9.46247777e-01,\n",
       "       -1.20943552e+00, -6.25063541e-01,  3.87847887e-01, -3.13398486e-01,\n",
       "       -1.30033783e+00, -1.49512849e+00,  2.32015360e-01,  2.32015360e-01,\n",
       "       -1.18346343e+00, -1.05621783e-01, -1.30033783e+00, -3.13398486e-01,\n",
       "       -1.05360299e+00,  1.41113052e-01, -2.77055191e-02, -7.15965848e-01,\n",
       "        1.02154920e-01,  3.35903711e-01, -1.35228200e+00,  1.53061975e+00,\n",
       "        6.47568766e-01, -5.34161233e-01, -8.71798376e-01, -1.43019827e+00,\n",
       "        2.32015360e-01,  6.21596678e-01,  1.29687096e+00, -5.08189145e-01,\n",
       "       -1.18607827e-01, -1.31332387e+00, -1.30033783e+00,  7.51457118e-01,\n",
       "       -1.13151925e+00, -1.44579915e-01, -1.26137969e+00, -2.35482222e-01,\n",
       "       -1.43019827e+00, -5.34161233e-01, -7.02979804e-01,  1.54099096e-01,\n",
       "       -1.35228200e+00, -7.28951892e-01, -8.06868156e-01,  1.28127008e-01,\n",
       "       -2.77055191e-02,  1.64749415e+00, -7.80896068e-01, -8.97770464e-01,\n",
       "       -3.13398486e-01, -6.51035629e-01,  1.94617316e+00,  5.95624590e-01,\n",
       "       -7.41937936e-01, -1.28735178e+00, -2.35482222e-01, -1.05621783e-01,\n",
       "        1.03715008e+00, -9.23742551e-01, -6.25063541e-01, -1.20943552e+00,\n",
       "        1.21895470e+00,  1.88124294e+00,  1.37478723e+00,  9.98191953e-01,\n",
       "        1.59554997e+00,  1.67346624e+00,  3.48889755e-01,  6.21596678e-01,\n",
       "        6.21596678e-01,  2.70973492e-01,  3.61875799e-01, -8.84784420e-01,\n",
       "       -4.04300794e-01,  1.15140964e-01, -6.89993760e-01, -5.60133321e-01,\n",
       "       -4.82217057e-01,  1.50464767e+00,  1.58256393e+00,  7.61828325e-02,\n",
       "       -5.86105409e-01, -8.97770464e-01, -6.38049585e-01,  1.55659184e+00,\n",
       "       -8.71798376e-01,  1.66048019e+00,  2.38769865e+00,  1.67346624e+00,\n",
       "       -4.43258925e-01,  2.14096382e+00,  1.07610822e+00, -1.19644947e+00,\n",
       "        2.83959536e-01,  1.38777327e+00,  3.35903711e-01, -3.13398486e-01,\n",
       "       -7.28951892e-01, -3.39370574e-01,  1.76436855e+00, -8.32840244e-01,\n",
       "        1.81631272e+00, -1.05360299e+00,  5.82638546e-01,  4.39792063e-01,\n",
       "       -1.65096101e+00, -8.84784420e-01, -7.28951892e-01,  5.56666458e-01,\n",
       "       -1.28735178e+00,  8.42359425e-01,  2.57987448e-01, -2.74440354e-01,\n",
       "        8.03401293e-01, -1.20943552e+00, -1.06658903e+00,  8.81317557e-01,\n",
       "        1.50464767e+00, -1.73343121e-03, -1.36526805e+00, -1.01464486e+00,\n",
       "        1.85527085e+00, -6.64021672e-01, -1.47194752e-02, -3.26384530e-01,\n",
       "        1.10208030e+00,  9.46247777e-01, -9.23742551e-01, -1.47194752e-02,\n",
       "       -5.86105409e-01, -1.14450530e+00, -1.83538046e-01,  4.26806019e-01,\n",
       "        1.46568953e+00, -6.64021672e-01, -1.96524090e-01, -1.18607827e-01,\n",
       "       -1.44579915e-01, -9.49714639e-01,  1.81631272e+00,  3.35903711e-01,\n",
       "       -7.93882112e-01, -4.69231013e-01, -8.58812332e-01, -3.91314750e-01,\n",
       "       -1.04061695e+00, -3.00412442e-01, -1.31593871e-01, -8.06868156e-01,\n",
       "        7.61828325e-02, -1.46915640e+00,  5.69652502e-01,  9.07289645e-01,\n",
       "        1.62152206e+00, -6.89993760e-01,  5.69652502e-01,  6.47568766e-01,\n",
       "        3.72247006e-02, -9.75686727e-01,  5.04722283e-01, -1.06658903e+00,\n",
       "       -1.02763090e+00, -1.33929596e+00, -1.13151925e+00,  1.43971745e+00,\n",
       "        1.24492679e+00,  1.86825690e+00,  8.03401293e-01,  4.26806019e-01,\n",
       "       -9.62700683e-01, -7.67910024e-01,  1.29687096e+00, -2.77055191e-02,\n",
       "       -9.75686727e-01,  7.25485030e-01, -9.75686727e-01, -5.73119365e-01,\n",
       "        1.02154920e-01, -1.28735178e+00,  8.81317557e-01,  2.42386567e-02,\n",
       "        1.38777327e+00, -8.06868156e-01,  1.21895470e+00, -3.65342662e-01,\n",
       "       -1.10554717e+00, -1.04061695e+00,  1.36180118e+00,  1.42673140e+00,\n",
       "        1.59554997e+00,  3.22917667e-01, -1.05360299e+00, -1.36526805e+00,\n",
       "        4.52778107e-01, -3.52356618e-01, -9.62700683e-01, -1.31332387e+00,\n",
       "        1.37478723e+00,  8.16387337e-01,  1.95915920e+00,  1.17999657e+00,\n",
       "       -7.93882112e-01, -2.77055191e-02,  2.05006151e+00,  1.12526127e-02,\n",
       "        2.51755909e+00, -1.15749134e+00, -8.19854200e-01, -1.32630991e+00,\n",
       "       -1.46915640e+00, -6.38049585e-01,  2.02408942e+00, -4.69231013e-01,\n",
       "       -9.26357388e-02, -1.01464486e+00, -1.39124013e+00, -4.82217057e-01,\n",
       "        1.45270349e+00, -8.45826288e-01,  6.47568766e-01, -3.26384530e-01,\n",
       "        3.87847887e-01,  1.15402448e+00, -1.11853321e+00, -7.54923980e-01,\n",
       "        1.69943833e+00, -1.14450530e+00, -6.51035629e-01,  6.21596678e-01,\n",
       "        1.46568953e+00, -7.54923980e-01,  1.01117800e+00,  3.74861843e-01,\n",
       "        5.02107446e-02,  1.05013613e+00, -1.19644947e+00,  8.68331513e-01,\n",
       "       -9.36728595e-01, -1.09256112e+00,  2.33575448e+00,  1.24492679e+00,\n",
       "       -8.84784420e-01,  6.21596678e-01, -1.26137969e+00, -8.71798376e-01,\n",
       "       -8.19854200e-01, -1.57304475e+00, -3.00412442e-01, -8.97770464e-01,\n",
       "        1.59554997e+00, -1.13151925e+00,  5.95624590e-01,  1.08909426e+00,\n",
       "        1.30985701e+00, -3.65342662e-01, -1.40422618e+00,  2.57987448e-01,\n",
       "       -4.95203101e-01, -1.31593871e-01, -5.60133321e-01,  3.61875799e-01,\n",
       "       -1.05621783e-01,  1.41113052e-01, -6.66636509e-02, -7.15965848e-01,\n",
       "        8.81317557e-01,  4.91736239e-01, -5.60133321e-01,  5.04722283e-01,\n",
       "       -3.91314750e-01,  1.01117800e+00,  1.16701052e+00,  1.24492679e+00,\n",
       "        1.25791283e+00,  5.17708327e-01, -2.74440354e-01,  1.10208030e+00,\n",
       "       -9.62700683e-01, -2.22496178e-01,  1.19298261e+00,  6.08610634e-01,\n",
       "        1.53061975e+00,  1.54099096e-01, -1.04061695e+00, -7.28951892e-01,\n",
       "        1.99811734e+00, -7.93882112e-01,  8.03401293e-01, -7.41937936e-01,\n",
       "        8.29373381e-01,  1.43971745e+00,  3.35903711e-01, -5.08189145e-01,\n",
       "        6.21596678e-01, -1.70552003e-01, -1.70552003e-01, -8.32840244e-01,\n",
       "       -5.36776070e-02, -8.32840244e-01,  1.17999657e+00, -1.05360299e+00,\n",
       "       -9.75686727e-01, -5.60133321e-01,  1.55659184e+00, -1.19644947e+00,\n",
       "       -1.27436574e+00,  8.94303601e-01, -8.06868156e-01,  2.06304756e+00,\n",
       "        1.67346624e+00,  3.87847887e-01,  2.19290800e+00, -1.22242156e+00,\n",
       "        1.42673140e+00,  6.99512942e-01,  1.05013613e+00,  1.16701052e+00,\n",
       "       -3.78328706e-01,  1.93057228e-01, -1.15749134e+00,  5.82638546e-01,\n",
       "       -1.05360299e+00,  2.06043272e-01, -1.57565959e-01,  8.42359425e-01,\n",
       "       -4.04300794e-01,  1.07610822e+00,  1.20596866e+00, -1.45617035e+00,\n",
       "       -1.30033783e+00, -6.25063541e-01, -2.61454310e-01, -8.32840244e-01,\n",
       "       -1.07957508e+00,  8.68331513e-01, -1.04061695e+00,  6.34582722e-01,\n",
       "       -5.47147277e-01, -1.31332387e+00,  1.62152206e+00, -1.15749134e+00,\n",
       "       -4.43258925e-01, -1.07957508e+00,  1.56957789e+00,  1.37478723e+00,\n",
       "       -1.41721222e+00,  5.95624590e-01,  1.16701052e+00,  1.03715008e+00,\n",
       "        2.96945580e-01, -7.67910024e-01,  2.06043272e-01,  1.59554997e+00,\n",
       "        1.82929877e+00,  1.67346624e+00, -1.04061695e+00, -1.57565959e-01,\n",
       "        4.78750195e-01,  3.74861843e-01,  7.38471074e-01, -2.09510134e-01,\n",
       "        1.41374536e+00, -5.08189145e-01, -2.74440354e-01,  2.83959536e-01,\n",
       "        1.36180118e+00, -1.26137969e+00, -8.84784420e-01, -1.43019827e+00,\n",
       "       -7.96496949e-02,  7.77429206e-01,  1.05013613e+00, -7.93882112e-01,\n",
       "       -5.34161233e-01, -1.73343121e-03, -4.17286837e-01, -1.10554717e+00,\n",
       "        2.05006151e+00, -7.54923980e-01,  4.00833931e-01, -1.11853321e+00,\n",
       "        2.70973492e-01, -1.04061695e+00, -1.33929596e+00, -1.14450530e+00,\n",
       "       -1.35228200e+00,  3.35903711e-01, -6.25063541e-01, -2.61454310e-01,\n",
       "        8.81317557e-01, -1.23540761e+00])"
      ]
     },
     "execution_count": 17,
     "metadata": {},
     "output_type": "execute_result"
    }
   ],
   "source": [
    "# Normalise the target data (this will make clearer training curves)\n",
    "targets = (targets - targets.mean(axis = 0)) / targets.std()\n",
    "targets"
   ]
  },
  {
   "cell_type": "code",
   "execution_count": 18,
   "metadata": {},
   "outputs": [
    {
     "name": "stdout",
     "output_type": "stream",
     "text": [
      "(397, 10)\n",
      "(45, 10)\n",
      "(397,)\n",
      "(45,)\n"
     ]
    }
   ],
   "source": [
    "# Split the data into train and test sets\n",
    "\n",
    "from sklearn.model_selection import train_test_split\n",
    "\n",
    "train_data, test_data, train_targets, test_targets = train_test_split(data, targets, test_size= 0.1)\n",
    "\n",
    "print(train_data.shape)\n",
    "print(test_data.shape)\n",
    "print(train_targets.shape)\n",
    "print(test_targets.shape)"
   ]
  },
  {
   "cell_type": "markdown",
   "metadata": {},
   "source": [
    "#### Train a feedforward neural network model"
   ]
  },
  {
   "cell_type": "code",
   "execution_count": 19,
   "metadata": {},
   "outputs": [],
   "source": [
    "# Build the model\n",
    "from tensorflow.keras.models import Sequential\n",
    "from tensorflow.keras.layers import Dense\n",
    "\n",
    "def get_model():\n",
    "    model = Sequential([\n",
    "        Dense(128, activation=\"relu\", input_shape=(train_data.shape[1],)),\n",
    "        Dense(128, activation=\"relu\"),\n",
    "        Dense(128, activation=\"relu\"),\n",
    "        Dense(128, activation=\"relu\"),\n",
    "        Dense(128, activation=\"relu\"),\n",
    "        Dense(128, activation=\"relu\"),\n",
    "        Dense(1)\n",
    "    ])\n",
    "    return model\n",
    "\n",
    "model = get_model()"
   ]
  },
  {
   "cell_type": "code",
   "execution_count": 20,
   "metadata": {},
   "outputs": [
    {
     "name": "stdout",
     "output_type": "stream",
     "text": [
      "Model: \"sequential\"\n",
      "_________________________________________________________________\n",
      " Layer (type)                Output Shape              Param #   \n",
      "=================================================================\n",
      " dense (Dense)               (None, 128)               1408      \n",
      "                                                                 \n",
      " dense_1 (Dense)             (None, 128)               16512     \n",
      "                                                                 \n",
      " dense_2 (Dense)             (None, 128)               16512     \n",
      "                                                                 \n",
      " dense_3 (Dense)             (None, 128)               16512     \n",
      "                                                                 \n",
      " dense_4 (Dense)             (None, 128)               16512     \n",
      "                                                                 \n",
      " dense_5 (Dense)             (None, 128)               16512     \n",
      "                                                                 \n",
      " dense_6 (Dense)             (None, 1)                 129       \n",
      "                                                                 \n",
      "=================================================================\n",
      "Total params: 84,097\n",
      "Trainable params: 84,097\n",
      "Non-trainable params: 0\n",
      "_________________________________________________________________\n"
     ]
    }
   ],
   "source": [
    "# Print the model summary\n",
    "model.summary()\n"
   ]
  },
  {
   "cell_type": "code",
   "execution_count": 21,
   "metadata": {},
   "outputs": [],
   "source": [
    "# Compile the model\n",
    "model.compile(optimizer=\"adam\", loss=\"mae\", metrics=[\"mae\"])\n"
   ]
  },
  {
   "cell_type": "code",
   "execution_count": 22,
   "metadata": {},
   "outputs": [
    {
     "name": "stdout",
     "output_type": "stream",
     "text": [
      "Epoch 1/100\n",
      "6/6 - 1s - loss: 0.8515 - mae: 0.8515 - val_loss: 0.8609 - val_mae: 0.8609 - 899ms/epoch - 150ms/step\n",
      "Epoch 2/100\n",
      "6/6 - 0s - loss: 0.8205 - mae: 0.8205 - val_loss: 0.7977 - val_mae: 0.7977 - 54ms/epoch - 9ms/step\n",
      "Epoch 3/100\n",
      "6/6 - 0s - loss: 0.7346 - mae: 0.7346 - val_loss: 0.6679 - val_mae: 0.6679 - 55ms/epoch - 9ms/step\n",
      "Epoch 4/100\n",
      "6/6 - 0s - loss: 0.6176 - mae: 0.6176 - val_loss: 0.5773 - val_mae: 0.5773 - 57ms/epoch - 9ms/step\n",
      "Epoch 5/100\n",
      "6/6 - 0s - loss: 0.5731 - mae: 0.5731 - val_loss: 0.5641 - val_mae: 0.5641 - 56ms/epoch - 9ms/step\n",
      "Epoch 6/100\n",
      "6/6 - 0s - loss: 0.5561 - mae: 0.5561 - val_loss: 0.6061 - val_mae: 0.6061 - 56ms/epoch - 9ms/step\n",
      "Epoch 7/100\n",
      "6/6 - 0s - loss: 0.5477 - mae: 0.5477 - val_loss: 0.5794 - val_mae: 0.5794 - 54ms/epoch - 9ms/step\n",
      "Epoch 8/100\n",
      "6/6 - 0s - loss: 0.5360 - mae: 0.5360 - val_loss: 0.5842 - val_mae: 0.5842 - 52ms/epoch - 9ms/step\n",
      "Epoch 9/100\n",
      "6/6 - 0s - loss: 0.5239 - mae: 0.5239 - val_loss: 0.5608 - val_mae: 0.5608 - 55ms/epoch - 9ms/step\n",
      "Epoch 10/100\n",
      "6/6 - 0s - loss: 0.5178 - mae: 0.5178 - val_loss: 0.5021 - val_mae: 0.5021 - 54ms/epoch - 9ms/step\n",
      "Epoch 11/100\n",
      "6/6 - 0s - loss: 0.5394 - mae: 0.5394 - val_loss: 0.7194 - val_mae: 0.7194 - 56ms/epoch - 9ms/step\n",
      "Epoch 12/100\n",
      "6/6 - 0s - loss: 0.5168 - mae: 0.5168 - val_loss: 0.5182 - val_mae: 0.5182 - 55ms/epoch - 9ms/step\n",
      "Epoch 13/100\n",
      "6/6 - 0s - loss: 0.5360 - mae: 0.5360 - val_loss: 0.6603 - val_mae: 0.6603 - 53ms/epoch - 9ms/step\n",
      "Epoch 14/100\n",
      "6/6 - 0s - loss: 0.5223 - mae: 0.5223 - val_loss: 0.5097 - val_mae: 0.5097 - 56ms/epoch - 9ms/step\n",
      "Epoch 15/100\n",
      "6/6 - 0s - loss: 0.5320 - mae: 0.5320 - val_loss: 0.6030 - val_mae: 0.6030 - 59ms/epoch - 10ms/step\n",
      "Epoch 16/100\n",
      "6/6 - 0s - loss: 0.5197 - mae: 0.5197 - val_loss: 0.5461 - val_mae: 0.5461 - 60ms/epoch - 10ms/step\n",
      "Epoch 17/100\n",
      "6/6 - 0s - loss: 0.5042 - mae: 0.5042 - val_loss: 0.5529 - val_mae: 0.5529 - 56ms/epoch - 9ms/step\n",
      "Epoch 18/100\n",
      "6/6 - 0s - loss: 0.4996 - mae: 0.4996 - val_loss: 0.5620 - val_mae: 0.5620 - 53ms/epoch - 9ms/step\n",
      "Epoch 19/100\n",
      "6/6 - 0s - loss: 0.5009 - mae: 0.5009 - val_loss: 0.6042 - val_mae: 0.6042 - 55ms/epoch - 9ms/step\n",
      "Epoch 20/100\n",
      "6/6 - 0s - loss: 0.4938 - mae: 0.4938 - val_loss: 0.5302 - val_mae: 0.5302 - 55ms/epoch - 9ms/step\n",
      "Epoch 21/100\n",
      "6/6 - 0s - loss: 0.5011 - mae: 0.5011 - val_loss: 0.6376 - val_mae: 0.6376 - 55ms/epoch - 9ms/step\n",
      "Epoch 22/100\n",
      "6/6 - 0s - loss: 0.4849 - mae: 0.4849 - val_loss: 0.5172 - val_mae: 0.5172 - 57ms/epoch - 10ms/step\n",
      "Epoch 23/100\n",
      "6/6 - 0s - loss: 0.4764 - mae: 0.4764 - val_loss: 0.5796 - val_mae: 0.5796 - 56ms/epoch - 9ms/step\n",
      "Epoch 24/100\n",
      "6/6 - 0s - loss: 0.4799 - mae: 0.4799 - val_loss: 0.5292 - val_mae: 0.5292 - 56ms/epoch - 9ms/step\n",
      "Epoch 25/100\n",
      "6/6 - 0s - loss: 0.4996 - mae: 0.4996 - val_loss: 0.6056 - val_mae: 0.6056 - 59ms/epoch - 10ms/step\n",
      "Epoch 26/100\n",
      "6/6 - 0s - loss: 0.4705 - mae: 0.4705 - val_loss: 0.5574 - val_mae: 0.5574 - 61ms/epoch - 10ms/step\n",
      "Epoch 27/100\n",
      "6/6 - 0s - loss: 0.4756 - mae: 0.4756 - val_loss: 0.6328 - val_mae: 0.6328 - 61ms/epoch - 10ms/step\n",
      "Epoch 28/100\n",
      "6/6 - 0s - loss: 0.4596 - mae: 0.4596 - val_loss: 0.5367 - val_mae: 0.5367 - 56ms/epoch - 9ms/step\n",
      "Epoch 29/100\n",
      "6/6 - 0s - loss: 0.4725 - mae: 0.4725 - val_loss: 0.6125 - val_mae: 0.6125 - 51ms/epoch - 9ms/step\n",
      "Epoch 30/100\n",
      "6/6 - 0s - loss: 0.4524 - mae: 0.4524 - val_loss: 0.5480 - val_mae: 0.5480 - 54ms/epoch - 9ms/step\n",
      "Epoch 31/100\n",
      "6/6 - 0s - loss: 0.4388 - mae: 0.4388 - val_loss: 0.5650 - val_mae: 0.5650 - 53ms/epoch - 9ms/step\n",
      "Epoch 32/100\n",
      "6/6 - 0s - loss: 0.4417 - mae: 0.4417 - val_loss: 0.6585 - val_mae: 0.6585 - 54ms/epoch - 9ms/step\n",
      "Epoch 33/100\n",
      "6/6 - 0s - loss: 0.4410 - mae: 0.4410 - val_loss: 0.5460 - val_mae: 0.5460 - 54ms/epoch - 9ms/step\n",
      "Epoch 34/100\n",
      "6/6 - 0s - loss: 0.4378 - mae: 0.4378 - val_loss: 0.5965 - val_mae: 0.5965 - 55ms/epoch - 9ms/step\n",
      "Epoch 35/100\n",
      "6/6 - 0s - loss: 0.4205 - mae: 0.4205 - val_loss: 0.5810 - val_mae: 0.5810 - 55ms/epoch - 9ms/step\n",
      "Epoch 36/100\n",
      "6/6 - 0s - loss: 0.4080 - mae: 0.4080 - val_loss: 0.6365 - val_mae: 0.6365 - 58ms/epoch - 10ms/step\n",
      "Epoch 37/100\n",
      "6/6 - 0s - loss: 0.4237 - mae: 0.4237 - val_loss: 0.5807 - val_mae: 0.5807 - 60ms/epoch - 10ms/step\n",
      "Epoch 38/100\n",
      "6/6 - 0s - loss: 0.3942 - mae: 0.3942 - val_loss: 0.5722 - val_mae: 0.5722 - 73ms/epoch - 12ms/step\n",
      "Epoch 39/100\n",
      "6/6 - 0s - loss: 0.3869 - mae: 0.3869 - val_loss: 0.6065 - val_mae: 0.6065 - 59ms/epoch - 10ms/step\n",
      "Epoch 40/100\n",
      "6/6 - 0s - loss: 0.3808 - mae: 0.3808 - val_loss: 0.6252 - val_mae: 0.6252 - 58ms/epoch - 10ms/step\n",
      "Epoch 41/100\n",
      "6/6 - 0s - loss: 0.3856 - mae: 0.3856 - val_loss: 0.5630 - val_mae: 0.5630 - 55ms/epoch - 9ms/step\n",
      "Epoch 42/100\n",
      "6/6 - 0s - loss: 0.4092 - mae: 0.4092 - val_loss: 0.6011 - val_mae: 0.6011 - 54ms/epoch - 9ms/step\n",
      "Epoch 43/100\n",
      "6/6 - 0s - loss: 0.3801 - mae: 0.3801 - val_loss: 0.6828 - val_mae: 0.6828 - 55ms/epoch - 9ms/step\n",
      "Epoch 44/100\n",
      "6/6 - 0s - loss: 0.3867 - mae: 0.3867 - val_loss: 0.6350 - val_mae: 0.6350 - 52ms/epoch - 9ms/step\n",
      "Epoch 45/100\n",
      "6/6 - 0s - loss: 0.3867 - mae: 0.3867 - val_loss: 0.5583 - val_mae: 0.5583 - 54ms/epoch - 9ms/step\n",
      "Epoch 46/100\n",
      "6/6 - 0s - loss: 0.4021 - mae: 0.4021 - val_loss: 0.5980 - val_mae: 0.5980 - 53ms/epoch - 9ms/step\n",
      "Epoch 47/100\n",
      "6/6 - 0s - loss: 0.3764 - mae: 0.3764 - val_loss: 0.6283 - val_mae: 0.6283 - 55ms/epoch - 9ms/step\n",
      "Epoch 48/100\n",
      "6/6 - 0s - loss: 0.3710 - mae: 0.3710 - val_loss: 0.5945 - val_mae: 0.5945 - 54ms/epoch - 9ms/step\n",
      "Epoch 49/100\n",
      "6/6 - 0s - loss: 0.3665 - mae: 0.3665 - val_loss: 0.5751 - val_mae: 0.5751 - 58ms/epoch - 10ms/step\n",
      "Epoch 50/100\n",
      "6/6 - 0s - loss: 0.3513 - mae: 0.3513 - val_loss: 0.6338 - val_mae: 0.6338 - 62ms/epoch - 10ms/step\n",
      "Epoch 51/100\n",
      "6/6 - 0s - loss: 0.3616 - mae: 0.3616 - val_loss: 0.6218 - val_mae: 0.6218 - 55ms/epoch - 9ms/step\n",
      "Epoch 52/100\n",
      "6/6 - 0s - loss: 0.3586 - mae: 0.3586 - val_loss: 0.5650 - val_mae: 0.5650 - 53ms/epoch - 9ms/step\n",
      "Epoch 53/100\n",
      "6/6 - 0s - loss: 0.3615 - mae: 0.3615 - val_loss: 0.5674 - val_mae: 0.5674 - 53ms/epoch - 9ms/step\n",
      "Epoch 54/100\n",
      "6/6 - 0s - loss: 0.3402 - mae: 0.3402 - val_loss: 0.5897 - val_mae: 0.5897 - 53ms/epoch - 9ms/step\n",
      "Epoch 55/100\n",
      "6/6 - 0s - loss: 0.3202 - mae: 0.3202 - val_loss: 0.6952 - val_mae: 0.6952 - 55ms/epoch - 9ms/step\n",
      "Epoch 56/100\n",
      "6/6 - 0s - loss: 0.3516 - mae: 0.3516 - val_loss: 0.6451 - val_mae: 0.6451 - 59ms/epoch - 10ms/step\n",
      "Epoch 57/100\n",
      "6/6 - 0s - loss: 0.3380 - mae: 0.3380 - val_loss: 0.6245 - val_mae: 0.6245 - 59ms/epoch - 10ms/step\n",
      "Epoch 58/100\n",
      "6/6 - 0s - loss: 0.3178 - mae: 0.3178 - val_loss: 0.6277 - val_mae: 0.6277 - 62ms/epoch - 10ms/step\n",
      "Epoch 59/100\n",
      "6/6 - 0s - loss: 0.3200 - mae: 0.3200 - val_loss: 0.5996 - val_mae: 0.5996 - 61ms/epoch - 10ms/step\n",
      "Epoch 60/100\n",
      "6/6 - 0s - loss: 0.3111 - mae: 0.3111 - val_loss: 0.6310 - val_mae: 0.6310 - 61ms/epoch - 10ms/step\n",
      "Epoch 61/100\n",
      "6/6 - 0s - loss: 0.3148 - mae: 0.3148 - val_loss: 0.6831 - val_mae: 0.6831 - 55ms/epoch - 9ms/step\n",
      "Epoch 62/100\n",
      "6/6 - 0s - loss: 0.3410 - mae: 0.3410 - val_loss: 0.6908 - val_mae: 0.6908 - 55ms/epoch - 9ms/step\n",
      "Epoch 63/100\n",
      "6/6 - 0s - loss: 0.3318 - mae: 0.3318 - val_loss: 0.6105 - val_mae: 0.6105 - 53ms/epoch - 9ms/step\n",
      "Epoch 64/100\n",
      "6/6 - 0s - loss: 0.3071 - mae: 0.3071 - val_loss: 0.6292 - val_mae: 0.6292 - 52ms/epoch - 9ms/step\n",
      "Epoch 65/100\n",
      "6/6 - 0s - loss: 0.3129 - mae: 0.3129 - val_loss: 0.6630 - val_mae: 0.6630 - 55ms/epoch - 9ms/step\n",
      "Epoch 66/100\n",
      "6/6 - 0s - loss: 0.3315 - mae: 0.3315 - val_loss: 0.6194 - val_mae: 0.6194 - 52ms/epoch - 9ms/step\n",
      "Epoch 67/100\n",
      "6/6 - 0s - loss: 0.3363 - mae: 0.3363 - val_loss: 0.6026 - val_mae: 0.6026 - 57ms/epoch - 9ms/step\n",
      "Epoch 68/100\n",
      "6/6 - 0s - loss: 0.3187 - mae: 0.3187 - val_loss: 0.6184 - val_mae: 0.6184 - 53ms/epoch - 9ms/step\n",
      "Epoch 69/100\n",
      "6/6 - 0s - loss: 0.2928 - mae: 0.2928 - val_loss: 0.6322 - val_mae: 0.6322 - 54ms/epoch - 9ms/step\n",
      "Epoch 70/100\n",
      "6/6 - 0s - loss: 0.2986 - mae: 0.2986 - val_loss: 0.5713 - val_mae: 0.5713 - 53ms/epoch - 9ms/step\n",
      "Epoch 71/100\n",
      "6/6 - 0s - loss: 0.3136 - mae: 0.3136 - val_loss: 0.5853 - val_mae: 0.5853 - 57ms/epoch - 9ms/step\n",
      "Epoch 72/100\n",
      "6/6 - 0s - loss: 0.2934 - mae: 0.2934 - val_loss: 0.6217 - val_mae: 0.6217 - 57ms/epoch - 10ms/step\n",
      "Epoch 73/100\n",
      "6/6 - 0s - loss: 0.3058 - mae: 0.3058 - val_loss: 0.5977 - val_mae: 0.5977 - 59ms/epoch - 10ms/step\n",
      "Epoch 74/100\n"
     ]
    },
    {
     "name": "stdout",
     "output_type": "stream",
     "text": [
      "6/6 - 0s - loss: 0.3059 - mae: 0.3059 - val_loss: 0.6092 - val_mae: 0.6092 - 53ms/epoch - 9ms/step\n",
      "Epoch 75/100\n",
      "6/6 - 0s - loss: 0.3058 - mae: 0.3058 - val_loss: 0.6629 - val_mae: 0.6629 - 55ms/epoch - 9ms/step\n",
      "Epoch 76/100\n",
      "6/6 - 0s - loss: 0.3092 - mae: 0.3092 - val_loss: 0.7077 - val_mae: 0.7077 - 55ms/epoch - 9ms/step\n",
      "Epoch 77/100\n",
      "6/6 - 0s - loss: 0.3281 - mae: 0.3281 - val_loss: 0.5852 - val_mae: 0.5852 - 55ms/epoch - 9ms/step\n",
      "Epoch 78/100\n",
      "6/6 - 0s - loss: 0.3132 - mae: 0.3132 - val_loss: 0.5730 - val_mae: 0.5730 - 53ms/epoch - 9ms/step\n",
      "Epoch 79/100\n",
      "6/6 - 0s - loss: 0.3186 - mae: 0.3186 - val_loss: 0.6814 - val_mae: 0.6814 - 59ms/epoch - 10ms/step\n",
      "Epoch 80/100\n",
      "6/6 - 0s - loss: 0.2858 - mae: 0.2858 - val_loss: 0.6226 - val_mae: 0.6226 - 57ms/epoch - 10ms/step\n",
      "Epoch 81/100\n",
      "6/6 - 0s - loss: 0.2615 - mae: 0.2615 - val_loss: 0.5934 - val_mae: 0.5934 - 59ms/epoch - 10ms/step\n",
      "Epoch 82/100\n",
      "6/6 - 0s - loss: 0.2894 - mae: 0.2894 - val_loss: 0.5905 - val_mae: 0.5905 - 60ms/epoch - 10ms/step\n",
      "Epoch 83/100\n",
      "6/6 - 0s - loss: 0.3237 - mae: 0.3237 - val_loss: 0.6994 - val_mae: 0.6994 - 53ms/epoch - 9ms/step\n",
      "Epoch 84/100\n",
      "6/6 - 0s - loss: 0.3115 - mae: 0.3115 - val_loss: 0.6043 - val_mae: 0.6043 - 54ms/epoch - 9ms/step\n",
      "Epoch 85/100\n",
      "6/6 - 0s - loss: 0.2700 - mae: 0.2700 - val_loss: 0.6109 - val_mae: 0.6109 - 53ms/epoch - 9ms/step\n",
      "Epoch 86/100\n",
      "6/6 - 0s - loss: 0.2632 - mae: 0.2632 - val_loss: 0.6376 - val_mae: 0.6376 - 53ms/epoch - 9ms/step\n",
      "Epoch 87/100\n",
      "6/6 - 0s - loss: 0.2545 - mae: 0.2545 - val_loss: 0.6255 - val_mae: 0.6255 - 52ms/epoch - 9ms/step\n",
      "Epoch 88/100\n",
      "6/6 - 0s - loss: 0.2454 - mae: 0.2454 - val_loss: 0.6354 - val_mae: 0.6354 - 51ms/epoch - 8ms/step\n",
      "Epoch 89/100\n",
      "6/6 - 0s - loss: 0.2285 - mae: 0.2285 - val_loss: 0.6199 - val_mae: 0.6199 - 57ms/epoch - 9ms/step\n",
      "Epoch 90/100\n",
      "6/6 - 0s - loss: 0.2271 - mae: 0.2271 - val_loss: 0.6321 - val_mae: 0.6321 - 59ms/epoch - 10ms/step\n",
      "Epoch 91/100\n",
      "6/6 - 0s - loss: 0.2214 - mae: 0.2214 - val_loss: 0.6639 - val_mae: 0.6639 - 59ms/epoch - 10ms/step\n",
      "Epoch 92/100\n",
      "6/6 - 0s - loss: 0.2220 - mae: 0.2220 - val_loss: 0.6248 - val_mae: 0.6248 - 57ms/epoch - 10ms/step\n",
      "Epoch 93/100\n",
      "6/6 - 0s - loss: 0.2204 - mae: 0.2204 - val_loss: 0.6280 - val_mae: 0.6280 - 55ms/epoch - 9ms/step\n",
      "Epoch 94/100\n",
      "6/6 - 0s - loss: 0.2311 - mae: 0.2311 - val_loss: 0.6218 - val_mae: 0.6218 - 54ms/epoch - 9ms/step\n",
      "Epoch 95/100\n",
      "6/6 - 0s - loss: 0.2297 - mae: 0.2297 - val_loss: 0.5653 - val_mae: 0.5653 - 52ms/epoch - 9ms/step\n",
      "Epoch 96/100\n",
      "6/6 - 0s - loss: 0.2474 - mae: 0.2474 - val_loss: 0.6351 - val_mae: 0.6351 - 59ms/epoch - 10ms/step\n",
      "Epoch 97/100\n",
      "6/6 - 0s - loss: 0.2460 - mae: 0.2460 - val_loss: 0.6240 - val_mae: 0.6240 - 59ms/epoch - 10ms/step\n",
      "Epoch 98/100\n",
      "6/6 - 0s - loss: 0.2404 - mae: 0.2404 - val_loss: 0.6228 - val_mae: 0.6228 - 58ms/epoch - 10ms/step\n",
      "Epoch 99/100\n",
      "6/6 - 0s - loss: 0.2332 - mae: 0.2332 - val_loss: 0.6305 - val_mae: 0.6305 - 57ms/epoch - 10ms/step\n",
      "Epoch 100/100\n",
      "6/6 - 0s - loss: 0.2230 - mae: 0.2230 - val_loss: 0.6497 - val_mae: 0.6497 - 54ms/epoch - 9ms/step\n"
     ]
    }
   ],
   "source": [
    "# Train the model, with some of the data reserved for validation\n",
    "history = model.fit(train_data, train_targets, epochs=100, validation_split=0.15, batch_size=64, verbose = 2)\n"
   ]
  },
  {
   "cell_type": "code",
   "execution_count": 23,
   "metadata": {},
   "outputs": [
    {
     "name": "stdout",
     "output_type": "stream",
     "text": [
      "2/2 - 0s - loss: 0.7117 - mae: 0.7117 - 30ms/epoch - 15ms/step\n"
     ]
    },
    {
     "data": {
      "text/plain": [
       "[0.7116574645042419, 0.7116574645042419]"
      ]
     },
     "execution_count": 23,
     "metadata": {},
     "output_type": "execute_result"
    }
   ],
   "source": [
    "# Evaluate the model on the test set\n",
    "model.evaluate(test_data, test_targets, verbose=2)\n"
   ]
  },
  {
   "cell_type": "markdown",
   "metadata": {},
   "source": [
    "#### Plot the learning curves"
   ]
  },
  {
   "cell_type": "code",
   "execution_count": 24,
   "metadata": {},
   "outputs": [],
   "source": [
    "import matplotlib.pyplot as plt\n",
    "%matplotlib inline"
   ]
  },
  {
   "cell_type": "code",
   "execution_count": 25,
   "metadata": {},
   "outputs": [
    {
     "data": {
      "image/png": "[encoded data removed]",
      "text/plain": [
       "<Figure size 640x480 with 1 Axes>"
      ]
     },
     "metadata": {},
     "output_type": "display_data"
    }
   ],
   "source": [
    "# Plot the training and validation loss\n",
    "\n",
    "plt.plot(history.history['loss'])\n",
    "plt.plot(history.history['val_loss'])\n",
    "plt.title('Loss vs. epochs')\n",
    "plt.ylabel('Loss')\n",
    "plt.xlabel('Epoch')\n",
    "plt.legend(['Training', 'Validation'], loc='upper right')\n",
    "plt.show()"
   ]
  },
  {
   "cell_type": "markdown",
   "metadata": {},
   "source": [
    "***\n",
    "<a id=\"coding_tutorial_2\"></a>\n",
    "## Model regularisation"
   ]
  },
  {
   "cell_type": "markdown",
   "metadata": {},
   "source": [
    "#### Adding regularisation with weight decay and dropout"
   ]
  },
  {
   "cell_type": "code",
   "execution_count": null,
   "metadata": {},
   "outputs": [],
   "source": [
    "from tensorflow.keras.layers import Dropout\n",
    "from tensorflow.keras import regularizers"
   ]
  },
  {
   "cell_type": "code",
   "execution_count": null,
   "metadata": {},
   "outputs": [],
   "source": [
    "def get_regularised_model(wd, rate):\n",
    "    model = Sequential([\n",
    "        Dense(128, activation=\"relu\", input_shape=(train_data.shape[1],)),\n",
    "        Dense(128, activation=\"relu\"),\n",
    "        Dense(128, activation=\"relu\"),\n",
    "        Dense(128, activation=\"relu\"),\n",
    "        Dense(128, activation=\"relu\"),\n",
    "        Dense(128, activation=\"relu\"),\n",
    "        Dense(1)\n",
    "    ])\n",
    "    return model"
   ]
  },
  {
   "cell_type": "code",
   "execution_count": null,
   "metadata": {},
   "outputs": [],
   "source": [
    "# Re-build the model with weight decay and dropout layers\n",
    "\n"
   ]
  },
  {
   "cell_type": "code",
   "execution_count": null,
   "metadata": {},
   "outputs": [],
   "source": [
    "# Compile the model\n",
    "\n"
   ]
  },
  {
   "cell_type": "code",
   "execution_count": null,
   "metadata": {},
   "outputs": [],
   "source": [
    "# Train the model, with some of the data reserved for validation\n",
    "\n"
   ]
  },
  {
   "cell_type": "code",
   "execution_count": null,
   "metadata": {},
   "outputs": [],
   "source": [
    "# Evaluate the model on the test set\n",
    "\n"
   ]
  },
  {
   "cell_type": "markdown",
   "metadata": {},
   "source": [
    "#### Plot the learning curves"
   ]
  },
  {
   "cell_type": "code",
   "execution_count": null,
   "metadata": {},
   "outputs": [],
   "source": [
    "# Plot the training and validation loss\n",
    "\n",
    "import matplotlib.pyplot as plt\n",
    "\n",
    "plt.plot(history.history['loss'])\n",
    "plt.plot(history.history['val_loss'])\n",
    "plt.title('Loss vs. epochs')\n",
    "plt.ylabel('Loss')\n",
    "plt.xlabel('Epoch')\n",
    "plt.legend(['Training', 'Validation'], loc='upper right')\n",
    "plt.show()"
   ]
  },
  {
   "cell_type": "markdown",
   "metadata": {},
   "source": [
    "***\n",
    "<a id=\"coding_tutorial_3\"></a>\n",
    "## Introduction to callbacks"
   ]
  },
  {
   "cell_type": "markdown",
   "metadata": {},
   "source": [
    "#### Example training callback"
   ]
  },
  {
   "cell_type": "code",
   "execution_count": null,
   "metadata": {},
   "outputs": [],
   "source": [
    "# Write a custom callback\n",
    "\n"
   ]
  },
  {
   "cell_type": "code",
   "execution_count": null,
   "metadata": {},
   "outputs": [],
   "source": [
    "# Re-build the model\n",
    "\n"
   ]
  },
  {
   "cell_type": "code",
   "execution_count": null,
   "metadata": {},
   "outputs": [],
   "source": [
    "# Compile the model\n",
    "\n"
   ]
  },
  {
   "cell_type": "markdown",
   "metadata": {},
   "source": [
    "#### Train the model with the callback"
   ]
  },
  {
   "cell_type": "code",
   "execution_count": null,
   "metadata": {},
   "outputs": [],
   "source": [
    "# Train the model, with some of the data reserved for validation\n",
    "\n"
   ]
  },
  {
   "cell_type": "code",
   "execution_count": null,
   "metadata": {},
   "outputs": [],
   "source": [
    "# Evaluate the model\n",
    "\n"
   ]
  },
  {
   "cell_type": "code",
   "execution_count": null,
   "metadata": {},
   "outputs": [],
   "source": [
    "# Make predictions with the model\n",
    "\n"
   ]
  },
  {
   "cell_type": "markdown",
   "metadata": {},
   "source": [
    "***\n",
    "<a id=\"coding_tutorial_4\"></a>\n",
    "## Early stopping / patience"
   ]
  },
  {
   "cell_type": "markdown",
   "metadata": {},
   "source": [
    "#### Re-train the models with early stopping"
   ]
  },
  {
   "cell_type": "code",
   "execution_count": null,
   "metadata": {},
   "outputs": [],
   "source": [
    "# Re-train the unregularised model\n",
    "\n"
   ]
  },
  {
   "cell_type": "code",
   "execution_count": null,
   "metadata": {},
   "outputs": [],
   "source": [
    "# Evaluate the model on the test set\n",
    "\n"
   ]
  },
  {
   "cell_type": "code",
   "execution_count": null,
   "metadata": {},
   "outputs": [],
   "source": [
    "# Re-train the regularised model\n",
    "\n"
   ]
  },
  {
   "cell_type": "code",
   "execution_count": null,
   "metadata": {},
   "outputs": [],
   "source": [
    "# Evaluate the model on the test set\n",
    "\n"
   ]
  },
  {
   "cell_type": "markdown",
   "metadata": {},
   "source": [
    "#### Plot the learning curves"
   ]
  },
  {
   "cell_type": "code",
   "execution_count": null,
   "metadata": {},
   "outputs": [],
   "source": [
    "# Plot the training and validation loss\n",
    "\n",
    "import matplotlib.pyplot as plt\n",
    "\n",
    "fig = plt.figure(figsize=(12, 5))\n",
    "\n",
    "fig.add_subplot(121)\n",
    "\n",
    "plt.plot(unreg_history.history['loss'])\n",
    "plt.plot(unreg_history.history['val_loss'])\n",
    "plt.title('Unregularised model: loss vs. epochs')\n",
    "plt.ylabel('Loss')\n",
    "plt.xlabel('Epoch')\n",
    "plt.legend(['Training', 'Validation'], loc='upper right')\n",
    "\n",
    "fig.add_subplot(122)\n",
    "\n",
    "plt.plot(reg_history.history['loss'])\n",
    "plt.plot(reg_history.history['val_loss'])\n",
    "plt.title('Regularised model: loss vs. epochs')\n",
    "plt.ylabel('Loss')\n",
    "plt.xlabel('Epoch')\n",
    "plt.legend(['Training', 'Validation'], loc='upper right')\n",
    "\n",
    "plt.show()"
   ]
  }
 ],
 "metadata": {
  "kernelspec": {
   "display_name": "py3-TF2.0",
   "language": "python",
   "name": "py3-tf2.0"
  },
  "language_info": {
   "codemirror_mode": {
    "name": "ipython",
    "version": 3
   },
   "file_extension": ".py",
   "mimetype": "text/x-python",
   "name": "python",
   "nbconvert_exporter": "python",
   "pygments_lexer": "ipython3",
   "version": "3.10.9"
  }
 },
 "nbformat": 4,
 "nbformat_minor": 2
}
