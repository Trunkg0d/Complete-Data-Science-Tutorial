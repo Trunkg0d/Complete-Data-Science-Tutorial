{
 "cells": [
  {
   "cell_type": "code",
   "execution_count": 1,
   "metadata": {},
   "outputs": [
    {
     "name": "stdout",
     "output_type": "stream",
     "text": [
      "2.10.0\n"
     ]
    }
   ],
   "source": [
    "import tensorflow as tf\n",
    "print(tf.__version__)"
   ]
  },
  {
   "cell_type": "markdown",
   "metadata": {},
   "source": [
    "# The Sequential model API"
   ]
  },
  {
   "cell_type": "markdown",
   "metadata": {},
   "source": [
    " ## Coding tutorials\n",
    " #### [1. Building a Sequential model](#coding_tutorial_1)\n",
    " #### [2. Convolutional and pooling layers](#coding_tutorial_2)\n",
    " #### [3. The compile method](#coding_tutorial_3)\n",
    " #### [4. The fit method](#coding_tutorial_4)\n",
    " #### [5. The evaluate and predict methods](#coding_tutorial_5)"
   ]
  },
  {
   "cell_type": "markdown",
   "metadata": {},
   "source": [
    "***\n",
    "<a id=\"coding_tutorial_1\"></a>\n",
    "## Building a Sequential model"
   ]
  },
  {
   "cell_type": "code",
   "execution_count": 2,
   "metadata": {},
   "outputs": [],
   "source": [
    "from tensorflow.keras.models import Sequential\n",
    "from tensorflow.keras.layers import Dense, Flatten, Softmax"
   ]
  },
  {
   "cell_type": "markdown",
   "metadata": {},
   "source": [
    "#### Build a feedforward neural network model"
   ]
  },
  {
   "cell_type": "code",
   "execution_count": 3,
   "metadata": {},
   "outputs": [],
   "source": [
    "# Build the Sequential feedforward neural network model\n",
    "# Build the Sequential feedforward neural network model\n",
    "model = Sequential([\n",
    "    Flatten(input_shape = (28, 28, 1)),\n",
    "    Dense(16, activation = \"relu\", name = \"hidden_layer_1\"),\n",
    "    Dense(16, activation = \"relu\", name = \"hidden_layer_2\"),\n",
    "    Dense(10, activation = \"softmax\", name = \"hidden_layer_3\")\n",
    "])"
   ]
  },
  {
   "cell_type": "code",
   "execution_count": 4,
   "metadata": {},
   "outputs": [
    {
     "name": "stdout",
     "output_type": "stream",
     "text": [
      "Model: \"sequential\"\n",
      "_________________________________________________________________\n",
      " Layer (type)                Output Shape              Param #   \n",
      "=================================================================\n",
      " flatten (Flatten)           (None, 784)               0         \n",
      "                                                                 \n",
      " hidden_layer_1 (Dense)      (None, 16)                12560     \n",
      "                                                                 \n",
      " hidden_layer_2 (Dense)      (None, 16)                272       \n",
      "                                                                 \n",
      " hidden_layer_3 (Dense)      (None, 10)                170       \n",
      "                                                                 \n",
      "=================================================================\n",
      "Total params: 13,002\n",
      "Trainable params: 13,002\n",
      "Non-trainable params: 0\n",
      "_________________________________________________________________\n"
     ]
    },
    {
     "data": {
      "text/plain": [
       "([<tf.Variable 'hidden_layer_1/kernel:0' shape=(784, 16) dtype=float32, numpy=\n",
       "  array([[ 0.0199478 , -0.03961416, -0.06103358, ..., -0.06734598,\n",
       "           0.06493564, -0.04233331],\n",
       "         [-0.02469565, -0.05291372,  0.0756584 , ...,  0.04072504,\n",
       "          -0.00128354, -0.0031862 ],\n",
       "         [-0.04699212,  0.05349295, -0.02373095, ..., -0.01138222,\n",
       "           0.03795902,  0.04194428],\n",
       "         ...,\n",
       "         [-0.08063783, -0.03120852,  0.02429991, ..., -0.00106507,\n",
       "           0.06194501,  0.0112373 ],\n",
       "         [-0.0050021 ,  0.07134131, -0.05659115, ..., -0.00693082,\n",
       "           0.05781201,  0.04330659],\n",
       "         [ 0.03652679, -0.04309097,  0.06191951, ..., -0.01336029,\n",
       "           0.02896439, -0.0408544 ]], dtype=float32)>,\n",
       "  <tf.Variable 'hidden_layer_1/bias:0' shape=(16,) dtype=float32, numpy=\n",
       "  array([0., 0., 0., 0., 0., 0., 0., 0., 0., 0., 0., 0., 0., 0., 0., 0.],\n",
       "        dtype=float32)>,\n",
       "  <tf.Variable 'hidden_layer_2/kernel:0' shape=(16, 16) dtype=float32, numpy=\n",
       "  array([[-0.40189648, -0.2136706 ,  0.30790547,  0.01165941, -0.31276694,\n",
       "           0.31875464, -0.16435999,  0.03471315, -0.03319266, -0.24130046,\n",
       "           0.18173572,  0.42000416,  0.298721  ,  0.01777971, -0.39775568,\n",
       "           0.29891083],\n",
       "         [ 0.06083512, -0.30238417,  0.10639539, -0.3990534 , -0.27338588,\n",
       "          -0.03029114,  0.33574596,  0.20280632,  0.24463525,  0.09354469,\n",
       "           0.08762285, -0.15490243,  0.24951616, -0.26046634,  0.08775607,\n",
       "           0.24047992],\n",
       "         [-0.31702542, -0.16524515, -0.2721876 ,  0.29023728,  0.17085937,\n",
       "           0.01996845,  0.13276926,  0.20934138, -0.05945018, -0.07045671,\n",
       "           0.2298086 ,  0.18532291,  0.13173327,  0.39602306,  0.26212153,\n",
       "          -0.18914531],\n",
       "         [ 0.16648367, -0.32492685, -0.02362195,  0.23732391, -0.42484573,\n",
       "          -0.19978929, -0.10334957,  0.02623099, -0.23719767, -0.43172055,\n",
       "           0.21828786,  0.27494714,  0.02903154,  0.24842432, -0.13418654,\n",
       "           0.3031253 ],\n",
       "         [-0.1944752 ,  0.23525408,  0.11386892, -0.15818664,  0.33044878,\n",
       "          -0.23016839,  0.28378138,  0.27089307,  0.03730422,  0.02026835,\n",
       "           0.38435188,  0.0578573 , -0.08468905, -0.41047236,  0.01920006,\n",
       "          -0.260579  ],\n",
       "         [ 0.05436516,  0.06702134,  0.38639894,  0.14225551,  0.39867505,\n",
       "          -0.38543317, -0.07070985, -0.04422882,  0.32943526, -0.26559573,\n",
       "          -0.16459846, -0.16657752,  0.37249526,  0.40060613,  0.08703402,\n",
       "          -0.14194912],\n",
       "         [ 0.25846127, -0.03391066,  0.19325325,  0.26730308,  0.10335276,\n",
       "           0.19611493,  0.14018103, -0.33038786, -0.22114731, -0.0804697 ,\n",
       "           0.27318487, -0.3305869 , -0.11039504,  0.19645068, -0.11961475,\n",
       "          -0.168518  ],\n",
       "         [ 0.32259288, -0.05027136, -0.4031503 , -0.14154616, -0.40605316,\n",
       "           0.19491425,  0.2537041 ,  0.07384053, -0.38654712,  0.12810412,\n",
       "           0.26447186, -0.2348299 , -0.17286143, -0.11107469,  0.11894658,\n",
       "           0.24056748],\n",
       "         [ 0.41016945,  0.0580264 ,  0.1414834 , -0.08343357,  0.02120763,\n",
       "           0.37376663,  0.01740813, -0.20728427, -0.20148394,  0.14732471,\n",
       "           0.33354017, -0.36513653, -0.37253076,  0.31352523,  0.1332396 ,\n",
       "           0.26275274],\n",
       "         [-0.07873672,  0.42980954,  0.36963192,  0.02538505, -0.2964899 ,\n",
       "           0.2609755 , -0.1407631 ,  0.42669567, -0.30639303,  0.13253316,\n",
       "          -0.01803097, -0.23040366,  0.32703373,  0.43118742,  0.14653   ,\n",
       "           0.37255058],\n",
       "         [ 0.04574427,  0.28242925,  0.2493746 ,  0.36279872, -0.11191297,\n",
       "          -0.16269246,  0.09836975, -0.42263064,  0.19042918,  0.12133709,\n",
       "           0.07219991,  0.20213732,  0.3697078 ,  0.3264878 ,  0.37697396,\n",
       "          -0.07738349],\n",
       "         [-0.37204522, -0.21037027,  0.42208412,  0.30256876, -0.13657978,\n",
       "           0.08396515,  0.27512017, -0.42062017, -0.20393926, -0.37288725,\n",
       "           0.19777307,  0.28857788,  0.41101757,  0.24404982, -0.07203358,\n",
       "          -0.17804265],\n",
       "         [-0.24204667, -0.18477865,  0.20903459, -0.11463886,  0.05152714,\n",
       "          -0.15390977, -0.00241917,  0.23086247, -0.17927325, -0.06000754,\n",
       "          -0.35712814, -0.03924656, -0.16790786,  0.07468072, -0.17280746,\n",
       "           0.19304195],\n",
       "         [-0.39224803, -0.02719069,  0.42754552, -0.10941523,  0.10024157,\n",
       "          -0.32200098,  0.3277113 , -0.15690535,  0.13199827, -0.00119972,\n",
       "          -0.1342304 , -0.17706913,  0.28965595, -0.02007198,  0.16892311,\n",
       "           0.21497265],\n",
       "         [ 0.26878247, -0.22907509, -0.2171013 ,  0.13857499, -0.03887272,\n",
       "          -0.09243923, -0.09125459,  0.26238552,  0.12373796,  0.31298426,\n",
       "           0.36848918, -0.11687833,  0.15696225,  0.01689175,  0.05742216,\n",
       "           0.06445083],\n",
       "         [-0.19469665, -0.3689459 ,  0.01965356, -0.22731684,  0.17186311,\n",
       "           0.02312753,  0.00171438,  0.03790343, -0.35559544, -0.12507886,\n",
       "           0.03556982, -0.35226312, -0.29636332, -0.27431452, -0.42429814,\n",
       "           0.03138971]], dtype=float32)>,\n",
       "  <tf.Variable 'hidden_layer_2/bias:0' shape=(16,) dtype=float32, numpy=\n",
       "  array([0., 0., 0., 0., 0., 0., 0., 0., 0., 0., 0., 0., 0., 0., 0., 0.],\n",
       "        dtype=float32)>,\n",
       "  <tf.Variable 'hidden_layer_3/kernel:0' shape=(16, 10) dtype=float32, numpy=\n",
       "  array([[-0.47869053, -0.20703745,  0.13265085, -0.04344222,  0.12567806,\n",
       "           0.24413091,  0.14136952, -0.04647252,  0.43011403,  0.40866268],\n",
       "         [ 0.36839885, -0.46888104, -0.08493519, -0.24917148,  0.4447943 ,\n",
       "           0.19146651,  0.1543268 , -0.09427178,  0.40513724,  0.45200974],\n",
       "         [ 0.2688704 , -0.11818755,  0.10999435, -0.24580398,  0.44327033,\n",
       "           0.16299647,  0.03810775,  0.17643857, -0.43945935, -0.07492253],\n",
       "         [-0.22245848,  0.36850023,  0.33490646, -0.37215793,  0.10978156,\n",
       "           0.09202462, -0.30514562,  0.25612968,  0.08232898, -0.03445163],\n",
       "         [ 0.2305997 ,  0.33048147,  0.32797104,  0.23759782, -0.28805977,\n",
       "          -0.19479668, -0.37817502,  0.06804323,  0.18183571,  0.4261446 ],\n",
       "         [-0.02027044, -0.4711409 , -0.13651252, -0.14509788, -0.11029121,\n",
       "           0.26429582,  0.24566507, -0.20138127,  0.27652872,  0.15130782],\n",
       "         [-0.08753601,  0.07354891, -0.2094053 , -0.26762965,  0.4291625 ,\n",
       "          -0.1758059 ,  0.37997603, -0.27902713, -0.32131797, -0.26046783],\n",
       "         [ 0.32761806,  0.06663883, -0.35867733, -0.29104137, -0.12528512,\n",
       "           0.46277165,  0.13599956, -0.32731682,  0.18560326,  0.40826333],\n",
       "         [ 0.20874512, -0.3812666 ,  0.43735927, -0.24551605,  0.46840298,\n",
       "           0.34182847, -0.27101994,  0.18482721, -0.09131947,  0.43146545],\n",
       "         [ 0.23170924, -0.05730283,  0.22929746, -0.08119616,  0.01269481,\n",
       "          -0.00987899, -0.06096524,  0.2052778 , -0.08674571, -0.30617684],\n",
       "         [ 0.11881024,  0.27718365,  0.02438778, -0.4087204 ,  0.02954584,\n",
       "           0.12697107,  0.1919123 , -0.05767849,  0.28741884, -0.24652784],\n",
       "         [ 0.31951278,  0.18966526,  0.24048465,  0.27513725, -0.1928699 ,\n",
       "           0.23987591, -0.23919031, -0.2493837 ,  0.44115096,  0.20460719],\n",
       "         [-0.06827   , -0.17443907,  0.3822888 , -0.4400975 , -0.06386074,\n",
       "           0.43822592, -0.16583699, -0.31830198, -0.27748382,  0.2935983 ],\n",
       "         [-0.2110706 ,  0.30871856, -0.01743242,  0.45337367, -0.1289401 ,\n",
       "          -0.23916534, -0.45177823, -0.20213902, -0.3382302 , -0.30425018],\n",
       "         [ 0.20320702, -0.06139621,  0.40681517, -0.10923889,  0.37093556,\n",
       "          -0.3271473 ,  0.02703345, -0.38562456, -0.0785602 , -0.23324664],\n",
       "         [-0.091043  ,  0.03057253, -0.29295868,  0.39968908, -0.09987217,\n",
       "          -0.3627539 , -0.12341151, -0.29984975,  0.35775113, -0.27506143]],\n",
       "        dtype=float32)>,\n",
       "  <tf.Variable 'hidden_layer_3/bias:0' shape=(10,) dtype=float32, numpy=array([0., 0., 0., 0., 0., 0., 0., 0., 0., 0.], dtype=float32)>],\n",
       " None)"
      ]
     },
     "execution_count": 4,
     "metadata": {},
     "output_type": "execute_result"
    }
   ],
   "source": [
    "# Print the model summary\n",
    "model.weights, model.summary()"
   ]
  },
  {
   "cell_type": "markdown",
   "metadata": {},
   "source": [
    "***\n",
    "<a id=\"coding_tutorial_2\"></a>\n",
    "## Convolutional and pooling layers"
   ]
  },
  {
   "cell_type": "code",
   "execution_count": 5,
   "metadata": {},
   "outputs": [],
   "source": [
    "from tensorflow.keras.models import Sequential\n",
    "from tensorflow.keras.layers import Dense, Flatten, Conv2D, MaxPooling2D"
   ]
  },
  {
   "cell_type": "markdown",
   "metadata": {},
   "source": [
    "#### Build a convolutional neural network model"
   ]
  },
  {
   "cell_type": "code",
   "execution_count": 6,
   "metadata": {},
   "outputs": [],
   "source": [
    "# Build the Sequential convolutional neural network model\n",
    "\n",
    "model = Sequential([\n",
    "    Conv2D(16, (3,3), activation = \"relu\", input_shape = (28, 28, 1)),\n",
    "    MaxPooling2D((3,3)),\n",
    "    Flatten(),\n",
    "    Dense(10, activation= \"softmax\")\n",
    "])\n"
   ]
  },
  {
   "cell_type": "code",
   "execution_count": 7,
   "metadata": {},
   "outputs": [
    {
     "name": "stdout",
     "output_type": "stream",
     "text": [
      "Model: \"sequential_1\"\n",
      "_________________________________________________________________\n",
      " Layer (type)                Output Shape              Param #   \n",
      "=================================================================\n",
      " conv2d (Conv2D)             (None, 26, 26, 16)        160       \n",
      "                                                                 \n",
      " max_pooling2d (MaxPooling2D  (None, 8, 8, 16)         0         \n",
      " )                                                               \n",
      "                                                                 \n",
      " flatten_1 (Flatten)         (None, 1024)              0         \n",
      "                                                                 \n",
      " dense (Dense)               (None, 10)                10250     \n",
      "                                                                 \n",
      "=================================================================\n",
      "Total params: 10,410\n",
      "Trainable params: 10,410\n",
      "Non-trainable params: 0\n",
      "_________________________________________________________________\n"
     ]
    }
   ],
   "source": [
    "# Print the model summary\n",
    "model.summary()\n"
   ]
  },
  {
   "cell_type": "code",
   "execution_count": 8,
   "metadata": {},
   "outputs": [],
   "source": [
    "# or you can change the padding and stride\n",
    "model1 = Sequential([\n",
    "    Conv2D(16, (3, 3), padding=\"same\", strides= 2, activation=\"relu\", input_shape = (28, 28, 1)),\n",
    "    MaxPooling2D((3, 3)),\n",
    "    Flatten(),\n",
    "    Dense(10, activation=\"softmax\")\n",
    "])"
   ]
  },
  {
   "cell_type": "code",
   "execution_count": 9,
   "metadata": {},
   "outputs": [
    {
     "name": "stdout",
     "output_type": "stream",
     "text": [
      "Model: \"sequential_2\"\n",
      "_________________________________________________________________\n",
      " Layer (type)                Output Shape              Param #   \n",
      "=================================================================\n",
      " conv2d_1 (Conv2D)           (None, 14, 14, 16)        160       \n",
      "                                                                 \n",
      " max_pooling2d_1 (MaxPooling  (None, 4, 4, 16)         0         \n",
      " 2D)                                                             \n",
      "                                                                 \n",
      " flatten_2 (Flatten)         (None, 256)               0         \n",
      "                                                                 \n",
      " dense_1 (Dense)             (None, 10)                2570      \n",
      "                                                                 \n",
      "=================================================================\n",
      "Total params: 2,730\n",
      "Trainable params: 2,730\n",
      "Non-trainable params: 0\n",
      "_________________________________________________________________\n"
     ]
    }
   ],
   "source": [
    "model1.summary()"
   ]
  },
  {
   "cell_type": "code",
   "execution_count": 10,
   "metadata": {},
   "outputs": [],
   "source": [
    "# or you can change the data format of the model\n",
    "model2 = Sequential([\n",
    "    Conv2D(16, (3, 3), activation=\"relu\", input_shape = (1, 28, 28), data_format=\"channels_first\"),\n",
    "    MaxPooling2D((3, 3), data_format=\"channels_first\"),\n",
    "    Flatten(),\n",
    "    Dense(10, activation=\"softmax\")\n",
    "])"
   ]
  },
  {
   "cell_type": "code",
   "execution_count": 11,
   "metadata": {},
   "outputs": [
    {
     "name": "stdout",
     "output_type": "stream",
     "text": [
      "Model: \"sequential_3\"\n",
      "_________________________________________________________________\n",
      " Layer (type)                Output Shape              Param #   \n",
      "=================================================================\n",
      " conv2d_2 (Conv2D)           (None, 16, 26, 26)        160       \n",
      "                                                                 \n",
      " max_pooling2d_2 (MaxPooling  (None, 16, 8, 8)         0         \n",
      " 2D)                                                             \n",
      "                                                                 \n",
      " flatten_3 (Flatten)         (None, 1024)              0         \n",
      "                                                                 \n",
      " dense_2 (Dense)             (None, 10)                10250     \n",
      "                                                                 \n",
      "=================================================================\n",
      "Total params: 10,410\n",
      "Trainable params: 10,410\n",
      "Non-trainable params: 0\n",
      "_________________________________________________________________\n"
     ]
    }
   ],
   "source": [
    "model2.summary()"
   ]
  },
  {
   "cell_type": "markdown",
   "metadata": {},
   "source": [
    "***\n",
    "<a id=\"coding_tutorial_3\"></a>\n",
    "## The compile method"
   ]
  },
  {
   "cell_type": "markdown",
   "metadata": {},
   "source": [
    "#### Compile the model"
   ]
  },
  {
   "cell_type": "code",
   "execution_count": 12,
   "metadata": {},
   "outputs": [],
   "source": [
    "# Define the model optimizer, loss function and metrics\n",
    "model.compile(\n",
    "    optimizer=\"adam\",\n",
    "    loss=\"sparse_categorical_crossentropy\",\n",
    "    metrics=[\"accuray\"]\n",
    ")\n"
   ]
  },
  {
   "cell_type": "code",
   "execution_count": 13,
   "metadata": {},
   "outputs": [
    {
     "name": "stdout",
     "output_type": "stream",
     "text": [
      "<keras.optimizers.optimizer_v2.adam.Adam object at 0x00000132DAEE3520>\n",
      "sparse_categorical_crossentropy\n",
      "[]\n",
      "<tf.Variable 'learning_rate:0' shape=() dtype=float32, numpy=0.001>\n",
      "<tf.Variable 'learning_rate:0' shape=() dtype=float32, numpy=0.001>\n"
     ]
    }
   ],
   "source": [
    "# Print the resulting model attributes\n",
    "print(model.optimizer)\n",
    "print(model.loss)\n",
    "print(model.metrics)\n",
    "print(model.optimizer.lr)  # learning rate of the optimizer function\n",
    "# or\n",
    "print(model.optimizer.learning_rate)"
   ]
  },
  {
   "cell_type": "code",
   "execution_count": 14,
   "metadata": {},
   "outputs": [],
   "source": [
    "# or you can define model compile by\n",
    "opt = tf.keras.optimizers.Adam(learning_rate=0.005)\n",
    "acc = tf.keras.metrics.SparseCategoricalAccuracy()\n",
    "mae = tf.keras.metrics.MeanAbsoluteError()\n",
    "\n",
    "model.compile(\n",
    "    optimizer=opt,\n",
    "    loss=\"sparse_categorical_crossentropy\",\n",
    "    metrics=[acc, mae]\n",
    ")"
   ]
  },
  {
   "cell_type": "code",
   "execution_count": 15,
   "metadata": {},
   "outputs": [
    {
     "name": "stdout",
     "output_type": "stream",
     "text": [
      "<keras.optimizers.optimizer_v2.adam.Adam object at 0x00000132DAEBE830>\n",
      "sparse_categorical_crossentropy\n",
      "[]\n",
      "<tf.Variable 'learning_rate:0' shape=() dtype=float32, numpy=0.005>\n",
      "<tf.Variable 'learning_rate:0' shape=() dtype=float32, numpy=0.005>\n"
     ]
    }
   ],
   "source": [
    "# Print the resulting model attributes\n",
    "print(model.optimizer)\n",
    "print(model.loss)\n",
    "print(model.metrics)\n",
    "print(model.optimizer.lr)  # learning rate of the optimizer function\n",
    "# or\n",
    "print(model.optimizer.learning_rate)"
   ]
  },
  {
   "cell_type": "markdown",
   "metadata": {},
   "source": [
    "***\n",
    "<a id=\"coding_tutorial_4\"></a>\n",
    "## The fit method"
   ]
  },
  {
   "cell_type": "code",
   "execution_count": 16,
   "metadata": {},
   "outputs": [],
   "source": [
    "from tensorflow.keras.preprocessing import image\n",
    "import matplotlib.pyplot as plt\n",
    "import numpy as np\n",
    "import pandas as pd"
   ]
  },
  {
   "cell_type": "markdown",
   "metadata": {},
   "source": [
    "#### Load the data"
   ]
  },
  {
   "cell_type": "code",
   "execution_count": 17,
   "metadata": {},
   "outputs": [],
   "source": [
    "# Load the Fashion-MNIST dataset\n",
    "\n",
    "fashion_mnist_data = tf.keras.datasets.fashion_mnist\n",
    "(train_images, train_labels), (test_images, test_labels) = fashion_mnist_data.load_data()"
   ]
  },
  {
   "cell_type": "code",
   "execution_count": 18,
   "metadata": {},
   "outputs": [
    {
     "data": {
      "text/plain": [
       "(60000, 28, 28)"
      ]
     },
     "execution_count": 18,
     "metadata": {},
     "output_type": "execute_result"
    }
   ],
   "source": [
    "# Print the shape of the training data\n",
    "train_images.shape\n"
   ]
  },
  {
   "cell_type": "code",
   "execution_count": 19,
   "metadata": {},
   "outputs": [],
   "source": [
    "# Define the labels\n",
    "\n",
    "labels = [\n",
    "    'T-shirt/top',\n",
    "    'Trouser',\n",
    "    'Pullover',\n",
    "    'Dress',\n",
    "    'Coat',\n",
    "    'Sandal',\n",
    "    'Shirt',\n",
    "    'Sneaker',\n",
    "    'Bag',\n",
    "    'Ankle boot'\n",
    "]"
   ]
  },
  {
   "cell_type": "code",
   "execution_count": 20,
   "metadata": {},
   "outputs": [],
   "source": [
    "# Rescale the image values so that they lie in between 0 and 1.\n",
    "train_images = train_images / 255.\n",
    "test_images = test_images / 255."
   ]
  },
  {
   "cell_type": "code",
   "execution_count": 21,
   "metadata": {},
   "outputs": [
    {
     "data": {
      "image/png": "[encoded data removed]",
      "text/plain": [
       "<Figure size 640x480 with 1 Axes>"
      ]
     },
     "metadata": {},
     "output_type": "display_data"
    },
    {
     "name": "stdout",
     "output_type": "stream",
     "text": [
      "Label:  Ankle boot\n"
     ]
    }
   ],
   "source": [
    "# Display one of the images\n",
    "img = train_images[0,:,:]\n",
    "plt.imshow(img)\n",
    "plt.show()\n",
    "print(\"Label: \", labels[train_labels[0]])"
   ]
  },
  {
   "cell_type": "markdown",
   "metadata": {},
   "source": [
    "#### Fit the model"
   ]
  },
  {
   "cell_type": "code",
   "execution_count": 22,
   "metadata": {},
   "outputs": [
    {
     "name": "stdout",
     "output_type": "stream",
     "text": [
      "Epoch 1/8\n",
      "235/235 - 4s - loss: 0.5413 - sparse_categorical_accuracy: 0.8119 - mean_absolute_error: 4.4200 - 4s/epoch - 16ms/step\n",
      "Epoch 2/8\n",
      "235/235 - 3s - loss: 0.3502 - sparse_categorical_accuracy: 0.8763 - mean_absolute_error: 4.4200 - 3s/epoch - 14ms/step\n",
      "Epoch 3/8\n",
      "235/235 - 3s - loss: 0.3201 - sparse_categorical_accuracy: 0.8857 - mean_absolute_error: 4.4200 - 3s/epoch - 13ms/step\n",
      "Epoch 4/8\n",
      "235/235 - 3s - loss: 0.3044 - sparse_categorical_accuracy: 0.8922 - mean_absolute_error: 4.4200 - 3s/epoch - 14ms/step\n",
      "Epoch 5/8\n",
      "235/235 - 3s - loss: 0.2938 - sparse_categorical_accuracy: 0.8941 - mean_absolute_error: 4.4200 - 3s/epoch - 14ms/step\n",
      "Epoch 6/8\n",
      "235/235 - 3s - loss: 0.2852 - sparse_categorical_accuracy: 0.8976 - mean_absolute_error: 4.4200 - 3s/epoch - 13ms/step\n",
      "Epoch 7/8\n",
      "235/235 - 3s - loss: 0.2764 - sparse_categorical_accuracy: 0.9000 - mean_absolute_error: 4.4200 - 3s/epoch - 13ms/step\n",
      "Epoch 8/8\n",
      "235/235 - 3s - loss: 0.2727 - sparse_categorical_accuracy: 0.9014 - mean_absolute_error: 4.4200 - 3s/epoch - 14ms/step\n"
     ]
    }
   ],
   "source": [
    "# Fit the model\n",
    "history = model.fit(train_images[..., np.newaxis], train_labels, epochs=8, batch_size=256, verbose=2)\n"
   ]
  },
  {
   "cell_type": "markdown",
   "metadata": {},
   "source": [
    "#### Plot training history"
   ]
  },
  {
   "cell_type": "code",
   "execution_count": 23,
   "metadata": {},
   "outputs": [
    {
     "data": {
      "text/html": [
       "<div>\n",
       "<style scoped>\n",
       "    .dataframe tbody tr th:only-of-type {\n",
       "        vertical-align: middle;\n",
       "    }\n",
       "\n",
       "    .dataframe tbody tr th {\n",
       "        vertical-align: top;\n",
       "    }\n",
       "\n",
       "    .dataframe thead th {\n",
       "        text-align: right;\n",
       "    }\n",
       "</style>\n",
       "<table border=\"1\" class=\"dataframe\">\n",
       "  <thead>\n",
       "    <tr style=\"text-align: right;\">\n",
       "      <th></th>\n",
       "      <th>loss</th>\n",
       "      <th>sparse_categorical_accuracy</th>\n",
       "      <th>mean_absolute_error</th>\n",
       "    </tr>\n",
       "  </thead>\n",
       "  <tbody>\n",
       "    <tr>\n",
       "      <th>0</th>\n",
       "      <td>0.541295</td>\n",
       "      <td>0.811933</td>\n",
       "      <td>4.420002</td>\n",
       "    </tr>\n",
       "    <tr>\n",
       "      <th>1</th>\n",
       "      <td>0.350171</td>\n",
       "      <td>0.876283</td>\n",
       "      <td>4.419999</td>\n",
       "    </tr>\n",
       "    <tr>\n",
       "      <th>2</th>\n",
       "      <td>0.320128</td>\n",
       "      <td>0.885700</td>\n",
       "      <td>4.420001</td>\n",
       "    </tr>\n",
       "    <tr>\n",
       "      <th>3</th>\n",
       "      <td>0.304447</td>\n",
       "      <td>0.892167</td>\n",
       "      <td>4.420001</td>\n",
       "    </tr>\n",
       "    <tr>\n",
       "      <th>4</th>\n",
       "      <td>0.293780</td>\n",
       "      <td>0.894083</td>\n",
       "      <td>4.420000</td>\n",
       "    </tr>\n",
       "  </tbody>\n",
       "</table>\n",
       "</div>"
      ],
      "text/plain": [
       "       loss  sparse_categorical_accuracy  mean_absolute_error\n",
       "0  0.541295                     0.811933             4.420002\n",
       "1  0.350171                     0.876283             4.419999\n",
       "2  0.320128                     0.885700             4.420001\n",
       "3  0.304447                     0.892167             4.420001\n",
       "4  0.293780                     0.894083             4.420000"
      ]
     },
     "execution_count": 23,
     "metadata": {},
     "output_type": "execute_result"
    }
   ],
   "source": [
    "# Load the history into a pandas Dataframe\n",
    "df = pd.DataFrame(history.history)\n",
    "df.head()\n"
   ]
  },
  {
   "cell_type": "code",
   "execution_count": 24,
   "metadata": {},
   "outputs": [
    {
     "data": {
      "text/plain": [
       "[Text(0.5, 0, 'Epochs'), Text(0, 0.5, 'Loss')]"
      ]
     },
     "execution_count": 24,
     "metadata": {},
     "output_type": "execute_result"
    },
    {
     "data": {
      "image/png": "[encoded data removed]",
      "text/plain": [
       "<Figure size 640x480 with 1 Axes>"
      ]
     },
     "metadata": {},
     "output_type": "display_data"
    }
   ],
   "source": [
    "# Make a plot for the loss\n",
    "loss_plot = df.plot(y=\"loss\", title = \"Loss vs. Epochs\", legend=False)\n",
    "loss_plot.set(xlabel=\"Epochs\", ylabel = \"Loss\")"
   ]
  },
  {
   "cell_type": "code",
   "execution_count": 25,
   "metadata": {},
   "outputs": [
    {
     "data": {
      "text/plain": [
       "[Text(0.5, 0, 'Epochs'), Text(0, 0.5, 'sparse_categorical_accuracy')]"
      ]
     },
     "execution_count": 25,
     "metadata": {},
     "output_type": "execute_result"
    },
    {
     "data": {
      "image/png": "[encoded data removed]",
      "text/plain": [
       "<Figure size 640x480 with 1 Axes>"
      ]
     },
     "metadata": {},
     "output_type": "display_data"
    }
   ],
   "source": [
    "# Make a plot for the accuracy\n",
    "loss_plot = df.plot(y=\"sparse_categorical_accuracy\", title = \"Accuracy vs. Epochs\", legend=False)\n",
    "loss_plot.set(xlabel=\"Epochs\", ylabel = \"sparse_categorical_accuracy\")"
   ]
  },
  {
   "cell_type": "code",
   "execution_count": 26,
   "metadata": {},
   "outputs": [
    {
     "data": {
      "text/plain": [
       "[Text(0.5, 0, 'Epochs'), Text(0, 0.5, 'MAE')]"
      ]
     },
     "execution_count": 26,
     "metadata": {},
     "output_type": "execute_result"
    },
    {
     "data": {
      "image/png": "[encoded data removed]",
      "text/plain": [
       "<Figure size 640x480 with 1 Axes>"
      ]
     },
     "metadata": {},
     "output_type": "display_data"
    }
   ],
   "source": [
    "# Make a plot for the additional metric\n",
    "loss_plot = df.plot(y=\"mean_absolute_error\", title = \"MAE vs. Epochs\", legend=False)\n",
    "loss_plot.set(xlabel=\"Epochs\", ylabel = \"MAE\")"
   ]
  },
  {
   "cell_type": "markdown",
   "metadata": {},
   "source": [
    "***\n",
    "<a id=\"coding_tutorial_5\"></a>\n",
    "## The evaluate and predict methods"
   ]
  },
  {
   "cell_type": "code",
   "execution_count": 27,
   "metadata": {},
   "outputs": [],
   "source": [
    "import matplotlib.pyplot as plt\n",
    "import numpy as np"
   ]
  },
  {
   "cell_type": "markdown",
   "metadata": {},
   "source": [
    "#### Evaluate the model on the test set"
   ]
  },
  {
   "cell_type": "code",
   "execution_count": 32,
   "metadata": {},
   "outputs": [
    {
     "name": "stdout",
     "output_type": "stream",
     "text": [
      "313/313 [==============================] - 1s 2ms/step - loss: 0.3108 - sparse_categorical_accuracy: 0.8891 - mean_absolute_error: 4.4200\n"
     ]
    }
   ],
   "source": [
    "# Evaluate the model\n",
    "test_loss, test_accuract, test_mae = model.evaluate(test_images[..., np.newaxis], test_labels)"
   ]
  },
  {
   "cell_type": "markdown",
   "metadata": {},
   "source": [
    "#### Make predictions from the model"
   ]
  },
  {
   "cell_type": "code",
   "execution_count": 33,
   "metadata": {},
   "outputs": [
    {
     "data": {
      "image/png": "[encoded data removed]",
      "text/plain": [
       "<Figure size 640x480 with 1 Axes>"
      ]
     },
     "metadata": {},
     "output_type": "display_data"
    },
    {
     "name": "stdout",
     "output_type": "stream",
     "text": [
      "Label: Ankle boot\n"
     ]
    }
   ],
   "source": [
    "# Choose a random test image\n",
    "\n",
    "random_inx = np.random.choice(test_images.shape[0])\n",
    "\n",
    "test_image = test_images[random_inx]\n",
    "plt.imshow(test_image)\n",
    "plt.show()\n",
    "print(f\"Label: {labels[test_labels[random_inx]]}\")"
   ]
  },
  {
   "cell_type": "code",
   "execution_count": 34,
   "metadata": {},
   "outputs": [
    {
     "name": "stdout",
     "output_type": "stream",
     "text": [
      "1/1 [==============================] - 0s 52ms/step\n",
      "Nodel prediction:  Ankle boot\n"
     ]
    }
   ],
   "source": [
    "# Get the model predictions\n",
    "predictions = model.predict(test_image[np.newaxis,..., np.newaxis])\n",
    "print(\"Nodel prediction: \",labels[np.argmax(predictions)])"
   ]
  }
 ],
 "metadata": {
  "kernelspec": {
   "display_name": "py3-TF2.0",
   "language": "python",
   "name": "py3-tf2.0"
  },
  "language_info": {
   "codemirror_mode": {
    "name": "ipython",
    "version": 3
   },
   "file_extension": ".py",
   "mimetype": "text/x-python",
   "name": "python",
   "nbconvert_exporter": "python",
   "pygments_lexer": "ipython3",
   "version": "3.10.9"
  }
 },
 "nbformat": 4,
 "nbformat_minor": 2
}
