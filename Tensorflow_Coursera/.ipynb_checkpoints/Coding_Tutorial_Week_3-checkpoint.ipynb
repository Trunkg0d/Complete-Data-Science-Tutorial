{
 "cells": [
  {
   "cell_type": "code",
   "execution_count": 1,
   "metadata": {
    "scrolled": true
   },
   "outputs": [
    {
     "name": "stdout",
     "output_type": "stream",
     "text": [
      "2.10.0\n"
     ]
    }
   ],
   "source": [
    "import tensorflow as tf\n",
    "print(tf.__version__)"
   ]
  },
  {
   "cell_type": "markdown",
   "metadata": {},
   "source": [
    "# Validation, regularisation and callbacks"
   ]
  },
  {
   "cell_type": "markdown",
   "metadata": {},
   "source": [
    " ## Coding tutorials\n",
    " #### [1. Validation sets](#coding_tutorial_1)\n",
    " #### [2. Model regularisation](#coding_tutorial_2)\n",
    " #### [3. Introduction to callbacks](#coding_tutorial_3)\n",
    " #### [4. Early stopping / patience](#coding_tutorial_4)"
   ]
  },
  {
   "cell_type": "markdown",
   "metadata": {},
   "source": [
    "***\n",
    "<a id=\"coding_tutorial_1\"></a>\n",
    "## Validation sets"
   ]
  },
  {
   "cell_type": "markdown",
   "metadata": {},
   "source": [
    "#### Load the data"
   ]
  },
  {
   "cell_type": "code",
   "execution_count": 2,
   "metadata": {},
   "outputs": [
    {
     "name": "stdout",
     "output_type": "stream",
     "text": [
      ".. _diabetes_dataset:\n",
      "\n",
      "Diabetes dataset\n",
      "----------------\n",
      "\n",
      "Ten baseline variables, age, sex, body mass index, average blood\n",
      "pressure, and six blood serum measurements were obtained for each of n =\n",
      "442 diabetes patients, as well as the response of interest, a\n",
      "quantitative measure of disease progression one year after baseline.\n",
      "\n",
      "**Data Set Characteristics:**\n",
      "\n",
      "  :Number of Instances: 442\n",
      "\n",
      "  :Number of Attributes: First 10 columns are numeric predictive values\n",
      "\n",
      "  :Target: Column 11 is a quantitative measure of disease progression one year after baseline\n",
      "\n",
      "  :Attribute Information:\n",
      "      - age     age in years\n",
      "      - sex\n",
      "      - bmi     body mass index\n",
      "      - bp      average blood pressure\n",
      "      - s1      tc, total serum cholesterol\n",
      "      - s2      ldl, low-density lipoproteins\n",
      "      - s3      hdl, high-density lipoproteins\n",
      "      - s4      tch, total cholesterol / HDL\n",
      "      - s5      ltg, possibly log of serum triglycerides level\n",
      "      - s6      glu, blood sugar level\n",
      "\n",
      "Note: Each of these 10 feature variables have been mean centered and scaled by the standard deviation times the square root of `n_samples` (i.e. the sum of squares of each column totals 1).\n",
      "\n",
      "Source URL:\n",
      "https://www4.stat.ncsu.edu/~boos/var.select/diabetes.html\n",
      "\n",
      "For more information see:\n",
      "Bradley Efron, Trevor Hastie, Iain Johnstone and Robert Tibshirani (2004) \"Least Angle Regression,\" Annals of Statistics (with discussion), 407-499.\n",
      "(https://web.stanford.edu/~hastie/Papers/LARS/LeastAngle_2002.pdf)\n",
      "\n"
     ]
    }
   ],
   "source": [
    "# Load the diabetes dataset\n",
    "from sklearn.datasets import load_diabetes\n",
    "\n",
    "diabetes_dataset = load_diabetes()\n",
    "print(diabetes_dataset[\"DESCR\"])"
   ]
  },
  {
   "cell_type": "code",
   "execution_count": 3,
   "metadata": {},
   "outputs": [
    {
     "name": "stdout",
     "output_type": "stream",
     "text": [
      "dict_keys(['data', 'target', 'frame', 'DESCR', 'feature_names', 'data_filename', 'target_filename', 'data_module'])\n"
     ]
    }
   ],
   "source": [
    "# Save the input and target variables\n",
    "print(diabetes_dataset.keys())\n",
    "data = diabetes_dataset[\"data\"]\n",
    "targets = diabetes_dataset[\"target\"]"
   ]
  },
  {
   "cell_type": "code",
   "execution_count": 4,
   "metadata": {},
   "outputs": [
    {
     "data": {
      "text/plain": [
       "array([-1.47194752e-02, -1.00165882e+00, -1.44579915e-01,  6.99512942e-01,\n",
       "       -2.22496178e-01, -7.15965848e-01, -1.83538046e-01, -1.15749134e+00,\n",
       "       -5.47147277e-01,  2.05006151e+00, -6.64021672e-01, -1.07957508e+00,\n",
       "        3.48889755e-01,  4.26806019e-01, -4.43258925e-01,  2.45001404e-01,\n",
       "        1.80071184e-01, -1.05621783e-01, -7.15965848e-01,  2.06043272e-01,\n",
       "       -1.09256112e+00, -1.33929596e+00, -1.09256112e+00,  1.20596866e+00,\n",
       "        4.13819975e-01,  6.47568766e-01, -1.96524090e-01, -8.71798376e-01,\n",
       "       -2.74440354e-01,  1.69943833e+00, -3.00412442e-01, -1.20943552e+00,\n",
       "        2.45262887e+00, -8.45826288e-01, -1.13151925e+00, -6.51035629e-01,\n",
       "        1.46568953e+00,  1.60853602e+00,  1.29687096e+00, -8.06868156e-01,\n",
       "       -6.77007716e-01, -1.26137969e+00, -1.18346343e+00, -7.80896068e-01,\n",
       "        1.38777327e+00, -1.28735178e+00,  4.91736239e-01, -1.31593871e-01,\n",
       "       -1.00165882e+00, -1.31593871e-01,  3.72247006e-02,  9.46247777e-01,\n",
       "       -1.20943552e+00, -6.25063541e-01,  3.87847887e-01, -3.13398486e-01,\n",
       "       -1.30033783e+00, -1.49512849e+00,  2.32015360e-01,  2.32015360e-01,\n",
       "       -1.18346343e+00, -1.05621783e-01, -1.30033783e+00, -3.13398486e-01,\n",
       "       -1.05360299e+00,  1.41113052e-01, -2.77055191e-02, -7.15965848e-01,\n",
       "        1.02154920e-01,  3.35903711e-01, -1.35228200e+00,  1.53061975e+00,\n",
       "        6.47568766e-01, -5.34161233e-01, -8.71798376e-01, -1.43019827e+00,\n",
       "        2.32015360e-01,  6.21596678e-01,  1.29687096e+00, -5.08189145e-01,\n",
       "       -1.18607827e-01, -1.31332387e+00, -1.30033783e+00,  7.51457118e-01,\n",
       "       -1.13151925e+00, -1.44579915e-01, -1.26137969e+00, -2.35482222e-01,\n",
       "       -1.43019827e+00, -5.34161233e-01, -7.02979804e-01,  1.54099096e-01,\n",
       "       -1.35228200e+00, -7.28951892e-01, -8.06868156e-01,  1.28127008e-01,\n",
       "       -2.77055191e-02,  1.64749415e+00, -7.80896068e-01, -8.97770464e-01,\n",
       "       -3.13398486e-01, -6.51035629e-01,  1.94617316e+00,  5.95624590e-01,\n",
       "       -7.41937936e-01, -1.28735178e+00, -2.35482222e-01, -1.05621783e-01,\n",
       "        1.03715008e+00, -9.23742551e-01, -6.25063541e-01, -1.20943552e+00,\n",
       "        1.21895470e+00,  1.88124294e+00,  1.37478723e+00,  9.98191953e-01,\n",
       "        1.59554997e+00,  1.67346624e+00,  3.48889755e-01,  6.21596678e-01,\n",
       "        6.21596678e-01,  2.70973492e-01,  3.61875799e-01, -8.84784420e-01,\n",
       "       -4.04300794e-01,  1.15140964e-01, -6.89993760e-01, -5.60133321e-01,\n",
       "       -4.82217057e-01,  1.50464767e+00,  1.58256393e+00,  7.61828325e-02,\n",
       "       -5.86105409e-01, -8.97770464e-01, -6.38049585e-01,  1.55659184e+00,\n",
       "       -8.71798376e-01,  1.66048019e+00,  2.38769865e+00,  1.67346624e+00,\n",
       "       -4.43258925e-01,  2.14096382e+00,  1.07610822e+00, -1.19644947e+00,\n",
       "        2.83959536e-01,  1.38777327e+00,  3.35903711e-01, -3.13398486e-01,\n",
       "       -7.28951892e-01, -3.39370574e-01,  1.76436855e+00, -8.32840244e-01,\n",
       "        1.81631272e+00, -1.05360299e+00,  5.82638546e-01,  4.39792063e-01,\n",
       "       -1.65096101e+00, -8.84784420e-01, -7.28951892e-01,  5.56666458e-01,\n",
       "       -1.28735178e+00,  8.42359425e-01,  2.57987448e-01, -2.74440354e-01,\n",
       "        8.03401293e-01, -1.20943552e+00, -1.06658903e+00,  8.81317557e-01,\n",
       "        1.50464767e+00, -1.73343121e-03, -1.36526805e+00, -1.01464486e+00,\n",
       "        1.85527085e+00, -6.64021672e-01, -1.47194752e-02, -3.26384530e-01,\n",
       "        1.10208030e+00,  9.46247777e-01, -9.23742551e-01, -1.47194752e-02,\n",
       "       -5.86105409e-01, -1.14450530e+00, -1.83538046e-01,  4.26806019e-01,\n",
       "        1.46568953e+00, -6.64021672e-01, -1.96524090e-01, -1.18607827e-01,\n",
       "       -1.44579915e-01, -9.49714639e-01,  1.81631272e+00,  3.35903711e-01,\n",
       "       -7.93882112e-01, -4.69231013e-01, -8.58812332e-01, -3.91314750e-01,\n",
       "       -1.04061695e+00, -3.00412442e-01, -1.31593871e-01, -8.06868156e-01,\n",
       "        7.61828325e-02, -1.46915640e+00,  5.69652502e-01,  9.07289645e-01,\n",
       "        1.62152206e+00, -6.89993760e-01,  5.69652502e-01,  6.47568766e-01,\n",
       "        3.72247006e-02, -9.75686727e-01,  5.04722283e-01, -1.06658903e+00,\n",
       "       -1.02763090e+00, -1.33929596e+00, -1.13151925e+00,  1.43971745e+00,\n",
       "        1.24492679e+00,  1.86825690e+00,  8.03401293e-01,  4.26806019e-01,\n",
       "       -9.62700683e-01, -7.67910024e-01,  1.29687096e+00, -2.77055191e-02,\n",
       "       -9.75686727e-01,  7.25485030e-01, -9.75686727e-01, -5.73119365e-01,\n",
       "        1.02154920e-01, -1.28735178e+00,  8.81317557e-01,  2.42386567e-02,\n",
       "        1.38777327e+00, -8.06868156e-01,  1.21895470e+00, -3.65342662e-01,\n",
       "       -1.10554717e+00, -1.04061695e+00,  1.36180118e+00,  1.42673140e+00,\n",
       "        1.59554997e+00,  3.22917667e-01, -1.05360299e+00, -1.36526805e+00,\n",
       "        4.52778107e-01, -3.52356618e-01, -9.62700683e-01, -1.31332387e+00,\n",
       "        1.37478723e+00,  8.16387337e-01,  1.95915920e+00,  1.17999657e+00,\n",
       "       -7.93882112e-01, -2.77055191e-02,  2.05006151e+00,  1.12526127e-02,\n",
       "        2.51755909e+00, -1.15749134e+00, -8.19854200e-01, -1.32630991e+00,\n",
       "       -1.46915640e+00, -6.38049585e-01,  2.02408942e+00, -4.69231013e-01,\n",
       "       -9.26357388e-02, -1.01464486e+00, -1.39124013e+00, -4.82217057e-01,\n",
       "        1.45270349e+00, -8.45826288e-01,  6.47568766e-01, -3.26384530e-01,\n",
       "        3.87847887e-01,  1.15402448e+00, -1.11853321e+00, -7.54923980e-01,\n",
       "        1.69943833e+00, -1.14450530e+00, -6.51035629e-01,  6.21596678e-01,\n",
       "        1.46568953e+00, -7.54923980e-01,  1.01117800e+00,  3.74861843e-01,\n",
       "        5.02107446e-02,  1.05013613e+00, -1.19644947e+00,  8.68331513e-01,\n",
       "       -9.36728595e-01, -1.09256112e+00,  2.33575448e+00,  1.24492679e+00,\n",
       "       -8.84784420e-01,  6.21596678e-01, -1.26137969e+00, -8.71798376e-01,\n",
       "       -8.19854200e-01, -1.57304475e+00, -3.00412442e-01, -8.97770464e-01,\n",
       "        1.59554997e+00, -1.13151925e+00,  5.95624590e-01,  1.08909426e+00,\n",
       "        1.30985701e+00, -3.65342662e-01, -1.40422618e+00,  2.57987448e-01,\n",
       "       -4.95203101e-01, -1.31593871e-01, -5.60133321e-01,  3.61875799e-01,\n",
       "       -1.05621783e-01,  1.41113052e-01, -6.66636509e-02, -7.15965848e-01,\n",
       "        8.81317557e-01,  4.91736239e-01, -5.60133321e-01,  5.04722283e-01,\n",
       "       -3.91314750e-01,  1.01117800e+00,  1.16701052e+00,  1.24492679e+00,\n",
       "        1.25791283e+00,  5.17708327e-01, -2.74440354e-01,  1.10208030e+00,\n",
       "       -9.62700683e-01, -2.22496178e-01,  1.19298261e+00,  6.08610634e-01,\n",
       "        1.53061975e+00,  1.54099096e-01, -1.04061695e+00, -7.28951892e-01,\n",
       "        1.99811734e+00, -7.93882112e-01,  8.03401293e-01, -7.41937936e-01,\n",
       "        8.29373381e-01,  1.43971745e+00,  3.35903711e-01, -5.08189145e-01,\n",
       "        6.21596678e-01, -1.70552003e-01, -1.70552003e-01, -8.32840244e-01,\n",
       "       -5.36776070e-02, -8.32840244e-01,  1.17999657e+00, -1.05360299e+00,\n",
       "       -9.75686727e-01, -5.60133321e-01,  1.55659184e+00, -1.19644947e+00,\n",
       "       -1.27436574e+00,  8.94303601e-01, -8.06868156e-01,  2.06304756e+00,\n",
       "        1.67346624e+00,  3.87847887e-01,  2.19290800e+00, -1.22242156e+00,\n",
       "        1.42673140e+00,  6.99512942e-01,  1.05013613e+00,  1.16701052e+00,\n",
       "       -3.78328706e-01,  1.93057228e-01, -1.15749134e+00,  5.82638546e-01,\n",
       "       -1.05360299e+00,  2.06043272e-01, -1.57565959e-01,  8.42359425e-01,\n",
       "       -4.04300794e-01,  1.07610822e+00,  1.20596866e+00, -1.45617035e+00,\n",
       "       -1.30033783e+00, -6.25063541e-01, -2.61454310e-01, -8.32840244e-01,\n",
       "       -1.07957508e+00,  8.68331513e-01, -1.04061695e+00,  6.34582722e-01,\n",
       "       -5.47147277e-01, -1.31332387e+00,  1.62152206e+00, -1.15749134e+00,\n",
       "       -4.43258925e-01, -1.07957508e+00,  1.56957789e+00,  1.37478723e+00,\n",
       "       -1.41721222e+00,  5.95624590e-01,  1.16701052e+00,  1.03715008e+00,\n",
       "        2.96945580e-01, -7.67910024e-01,  2.06043272e-01,  1.59554997e+00,\n",
       "        1.82929877e+00,  1.67346624e+00, -1.04061695e+00, -1.57565959e-01,\n",
       "        4.78750195e-01,  3.74861843e-01,  7.38471074e-01, -2.09510134e-01,\n",
       "        1.41374536e+00, -5.08189145e-01, -2.74440354e-01,  2.83959536e-01,\n",
       "        1.36180118e+00, -1.26137969e+00, -8.84784420e-01, -1.43019827e+00,\n",
       "       -7.96496949e-02,  7.77429206e-01,  1.05013613e+00, -7.93882112e-01,\n",
       "       -5.34161233e-01, -1.73343121e-03, -4.17286837e-01, -1.10554717e+00,\n",
       "        2.05006151e+00, -7.54923980e-01,  4.00833931e-01, -1.11853321e+00,\n",
       "        2.70973492e-01, -1.04061695e+00, -1.33929596e+00, -1.14450530e+00,\n",
       "       -1.35228200e+00,  3.35903711e-01, -6.25063541e-01, -2.61454310e-01,\n",
       "        8.81317557e-01, -1.23540761e+00])"
      ]
     },
     "execution_count": 4,
     "metadata": {},
     "output_type": "execute_result"
    }
   ],
   "source": [
    "# Normalise the target data (this will make clearer training curves)\n",
    "targets = (targets - targets.mean(axis = 0)) / targets.std()\n",
    "targets"
   ]
  },
  {
   "cell_type": "code",
   "execution_count": 5,
   "metadata": {},
   "outputs": [
    {
     "name": "stdout",
     "output_type": "stream",
     "text": [
      "(397, 10)\n",
      "(45, 10)\n",
      "(397,)\n",
      "(45,)\n"
     ]
    }
   ],
   "source": [
    "# Split the data into train and test sets\n",
    "\n",
    "from sklearn.model_selection import train_test_split\n",
    "\n",
    "train_data, test_data, train_targets, test_targets = train_test_split(data, targets, test_size= 0.1)\n",
    "\n",
    "print(train_data.shape)\n",
    "print(test_data.shape)\n",
    "print(train_targets.shape)\n",
    "print(test_targets.shape)"
   ]
  },
  {
   "cell_type": "markdown",
   "metadata": {},
   "source": [
    "#### Train a feedforward neural network model"
   ]
  },
  {
   "cell_type": "code",
   "execution_count": 6,
   "metadata": {},
   "outputs": [],
   "source": [
    "# Build the model\n",
    "from tensorflow.keras.models import Sequential\n",
    "from tensorflow.keras.layers import Dense\n",
    "\n",
    "def get_model():\n",
    "    model = Sequential([\n",
    "        Dense(128, activation=\"relu\", input_shape=(train_data.shape[1],)),\n",
    "        Dense(128, activation=\"relu\"),\n",
    "        Dense(128, activation=\"relu\"),\n",
    "        Dense(128, activation=\"relu\"),\n",
    "        Dense(128, activation=\"relu\"),\n",
    "        Dense(128, activation=\"relu\"),\n",
    "        Dense(1)\n",
    "    ])\n",
    "    return model\n",
    "\n",
    "model = get_model()"
   ]
  },
  {
   "cell_type": "code",
   "execution_count": 7,
   "metadata": {},
   "outputs": [
    {
     "name": "stdout",
     "output_type": "stream",
     "text": [
      "Model: \"sequential\"\n",
      "_________________________________________________________________\n",
      " Layer (type)                Output Shape              Param #   \n",
      "=================================================================\n",
      " dense (Dense)               (None, 128)               1408      \n",
      "                                                                 \n",
      " dense_1 (Dense)             (None, 128)               16512     \n",
      "                                                                 \n",
      " dense_2 (Dense)             (None, 128)               16512     \n",
      "                                                                 \n",
      " dense_3 (Dense)             (None, 128)               16512     \n",
      "                                                                 \n",
      " dense_4 (Dense)             (None, 128)               16512     \n",
      "                                                                 \n",
      " dense_5 (Dense)             (None, 128)               16512     \n",
      "                                                                 \n",
      " dense_6 (Dense)             (None, 1)                 129       \n",
      "                                                                 \n",
      "=================================================================\n",
      "Total params: 84,097\n",
      "Trainable params: 84,097\n",
      "Non-trainable params: 0\n",
      "_________________________________________________________________\n"
     ]
    }
   ],
   "source": [
    "# Print the model summary\n",
    "model.summary()\n"
   ]
  },
  {
   "cell_type": "code",
   "execution_count": 8,
   "metadata": {},
   "outputs": [],
   "source": [
    "# Compile the model\n",
    "model.compile(optimizer=\"adam\", loss=\"mae\", metrics=[\"mae\"])\n"
   ]
  },
  {
   "cell_type": "code",
   "execution_count": 9,
   "metadata": {},
   "outputs": [
    {
     "name": "stdout",
     "output_type": "stream",
     "text": [
      "Epoch 1/100\n",
      "6/6 - 1s - loss: 0.8294 - mae: 0.8294 - val_loss: 0.9061 - val_mae: 0.9061 - 912ms/epoch - 152ms/step\n",
      "Epoch 2/100\n",
      "6/6 - 0s - loss: 0.7875 - mae: 0.7875 - val_loss: 0.8067 - val_mae: 0.8067 - 63ms/epoch - 11ms/step\n",
      "Epoch 3/100\n",
      "6/6 - 0s - loss: 0.6808 - mae: 0.6808 - val_loss: 0.6881 - val_mae: 0.6881 - 60ms/epoch - 10ms/step\n",
      "Epoch 4/100\n",
      "6/6 - 0s - loss: 0.5932 - mae: 0.5932 - val_loss: 0.6005 - val_mae: 0.6005 - 60ms/epoch - 10ms/step\n",
      "Epoch 5/100\n",
      "6/6 - 0s - loss: 0.5922 - mae: 0.5922 - val_loss: 0.5631 - val_mae: 0.5631 - 56ms/epoch - 9ms/step\n",
      "Epoch 6/100\n",
      "6/6 - 0s - loss: 0.5495 - mae: 0.5495 - val_loss: 0.5592 - val_mae: 0.5592 - 54ms/epoch - 9ms/step\n",
      "Epoch 7/100\n",
      "6/6 - 0s - loss: 0.5561 - mae: 0.5561 - val_loss: 0.5485 - val_mae: 0.5485 - 59ms/epoch - 10ms/step\n",
      "Epoch 8/100\n",
      "6/6 - 0s - loss: 0.5602 - mae: 0.5602 - val_loss: 0.5531 - val_mae: 0.5531 - 67ms/epoch - 11ms/step\n",
      "Epoch 9/100\n",
      "6/6 - 0s - loss: 0.5420 - mae: 0.5420 - val_loss: 0.5502 - val_mae: 0.5502 - 66ms/epoch - 11ms/step\n",
      "Epoch 10/100\n",
      "6/6 - 0s - loss: 0.5328 - mae: 0.5328 - val_loss: 0.5604 - val_mae: 0.5604 - 58ms/epoch - 10ms/step\n",
      "Epoch 11/100\n",
      "6/6 - 0s - loss: 0.5315 - mae: 0.5315 - val_loss: 0.5517 - val_mae: 0.5517 - 51ms/epoch - 8ms/step\n",
      "Epoch 12/100\n",
      "6/6 - 0s - loss: 0.5096 - mae: 0.5096 - val_loss: 0.5501 - val_mae: 0.5501 - 53ms/epoch - 9ms/step\n",
      "Epoch 13/100\n",
      "6/6 - 0s - loss: 0.5042 - mae: 0.5042 - val_loss: 0.5681 - val_mae: 0.5681 - 54ms/epoch - 9ms/step\n",
      "Epoch 14/100\n",
      "6/6 - 0s - loss: 0.5044 - mae: 0.5044 - val_loss: 0.5703 - val_mae: 0.5703 - 56ms/epoch - 9ms/step\n",
      "Epoch 15/100\n",
      "6/6 - 0s - loss: 0.4973 - mae: 0.4973 - val_loss: 0.5636 - val_mae: 0.5636 - 52ms/epoch - 9ms/step\n",
      "Epoch 16/100\n",
      "6/6 - 0s - loss: 0.5338 - mae: 0.5338 - val_loss: 0.5817 - val_mae: 0.5817 - 54ms/epoch - 9ms/step\n",
      "Epoch 17/100\n",
      "6/6 - 0s - loss: 0.5053 - mae: 0.5053 - val_loss: 0.5829 - val_mae: 0.5829 - 53ms/epoch - 9ms/step\n",
      "Epoch 18/100\n",
      "6/6 - 0s - loss: 0.5312 - mae: 0.5312 - val_loss: 0.6060 - val_mae: 0.6060 - 52ms/epoch - 9ms/step\n",
      "Epoch 19/100\n",
      "6/6 - 0s - loss: 0.5629 - mae: 0.5629 - val_loss: 0.5733 - val_mae: 0.5733 - 53ms/epoch - 9ms/step\n",
      "Epoch 20/100\n",
      "6/6 - 0s - loss: 0.5579 - mae: 0.5579 - val_loss: 0.5672 - val_mae: 0.5672 - 56ms/epoch - 9ms/step\n",
      "Epoch 21/100\n",
      "6/6 - 0s - loss: 0.5110 - mae: 0.5110 - val_loss: 0.5970 - val_mae: 0.5970 - 66ms/epoch - 11ms/step\n",
      "Epoch 22/100\n",
      "6/6 - 0s - loss: 0.5172 - mae: 0.5172 - val_loss: 0.5783 - val_mae: 0.5783 - 67ms/epoch - 11ms/step\n",
      "Epoch 23/100\n",
      "6/6 - 0s - loss: 0.4882 - mae: 0.4882 - val_loss: 0.6033 - val_mae: 0.6033 - 67ms/epoch - 11ms/step\n",
      "Epoch 24/100\n",
      "6/6 - 0s - loss: 0.5052 - mae: 0.5052 - val_loss: 0.5845 - val_mae: 0.5845 - 63ms/epoch - 11ms/step\n",
      "Epoch 25/100\n",
      "6/6 - 0s - loss: 0.4771 - mae: 0.4771 - val_loss: 0.5889 - val_mae: 0.5889 - 61ms/epoch - 10ms/step\n",
      "Epoch 26/100\n",
      "6/6 - 0s - loss: 0.4741 - mae: 0.4741 - val_loss: 0.6156 - val_mae: 0.6156 - 64ms/epoch - 11ms/step\n",
      "Epoch 27/100\n",
      "6/6 - 0s - loss: 0.4684 - mae: 0.4684 - val_loss: 0.6122 - val_mae: 0.6122 - 59ms/epoch - 10ms/step\n",
      "Epoch 28/100\n",
      "6/6 - 0s - loss: 0.4591 - mae: 0.4591 - val_loss: 0.6076 - val_mae: 0.6076 - 58ms/epoch - 10ms/step\n",
      "Epoch 29/100\n",
      "6/6 - 0s - loss: 0.4507 - mae: 0.4507 - val_loss: 0.6062 - val_mae: 0.6062 - 56ms/epoch - 9ms/step\n",
      "Epoch 30/100\n",
      "6/6 - 0s - loss: 0.4490 - mae: 0.4490 - val_loss: 0.6042 - val_mae: 0.6042 - 64ms/epoch - 11ms/step\n",
      "Epoch 31/100\n",
      "6/6 - 0s - loss: 0.4498 - mae: 0.4498 - val_loss: 0.6173 - val_mae: 0.6173 - 66ms/epoch - 11ms/step\n",
      "Epoch 32/100\n",
      "6/6 - 0s - loss: 0.4459 - mae: 0.4459 - val_loss: 0.6179 - val_mae: 0.6179 - 66ms/epoch - 11ms/step\n",
      "Epoch 33/100\n",
      "6/6 - 0s - loss: 0.4341 - mae: 0.4341 - val_loss: 0.6138 - val_mae: 0.6138 - 56ms/epoch - 9ms/step\n",
      "Epoch 34/100\n",
      "6/6 - 0s - loss: 0.4338 - mae: 0.4338 - val_loss: 0.6185 - val_mae: 0.6185 - 54ms/epoch - 9ms/step\n",
      "Epoch 35/100\n",
      "6/6 - 0s - loss: 0.4321 - mae: 0.4321 - val_loss: 0.6413 - val_mae: 0.6413 - 54ms/epoch - 9ms/step\n",
      "Epoch 36/100\n",
      "6/6 - 0s - loss: 0.4752 - mae: 0.4752 - val_loss: 0.6300 - val_mae: 0.6300 - 54ms/epoch - 9ms/step\n",
      "Epoch 37/100\n",
      "6/6 - 0s - loss: 0.4530 - mae: 0.4530 - val_loss: 0.6248 - val_mae: 0.6248 - 54ms/epoch - 9ms/step\n",
      "Epoch 38/100\n",
      "6/6 - 0s - loss: 0.4228 - mae: 0.4228 - val_loss: 0.6216 - val_mae: 0.6216 - 56ms/epoch - 9ms/step\n",
      "Epoch 39/100\n",
      "6/6 - 0s - loss: 0.4114 - mae: 0.4114 - val_loss: 0.6228 - val_mae: 0.6228 - 52ms/epoch - 9ms/step\n",
      "Epoch 40/100\n",
      "6/6 - 0s - loss: 0.4083 - mae: 0.4083 - val_loss: 0.6266 - val_mae: 0.6266 - 51ms/epoch - 9ms/step\n",
      "Epoch 41/100\n",
      "6/6 - 0s - loss: 0.4030 - mae: 0.4030 - val_loss: 0.6499 - val_mae: 0.6499 - 52ms/epoch - 9ms/step\n",
      "Epoch 42/100\n",
      "6/6 - 0s - loss: 0.4307 - mae: 0.4307 - val_loss: 0.6397 - val_mae: 0.6397 - 53ms/epoch - 9ms/step\n",
      "Epoch 43/100\n",
      "6/6 - 0s - loss: 0.4065 - mae: 0.4065 - val_loss: 0.6292 - val_mae: 0.6292 - 53ms/epoch - 9ms/step\n",
      "Epoch 44/100\n",
      "6/6 - 0s - loss: 0.3977 - mae: 0.3977 - val_loss: 0.6108 - val_mae: 0.6108 - 51ms/epoch - 9ms/step\n",
      "Epoch 45/100\n",
      "6/6 - 0s - loss: 0.3884 - mae: 0.3884 - val_loss: 0.6103 - val_mae: 0.6103 - 52ms/epoch - 9ms/step\n",
      "Epoch 46/100\n",
      "6/6 - 0s - loss: 0.3932 - mae: 0.3932 - val_loss: 0.6315 - val_mae: 0.6315 - 52ms/epoch - 9ms/step\n",
      "Epoch 47/100\n",
      "6/6 - 0s - loss: 0.3795 - mae: 0.3795 - val_loss: 0.6196 - val_mae: 0.6196 - 59ms/epoch - 10ms/step\n",
      "Epoch 48/100\n",
      "6/6 - 0s - loss: 0.3655 - mae: 0.3655 - val_loss: 0.6324 - val_mae: 0.6324 - 49ms/epoch - 8ms/step\n",
      "Epoch 49/100\n",
      "6/6 - 0s - loss: 0.3663 - mae: 0.3663 - val_loss: 0.6608 - val_mae: 0.6608 - 52ms/epoch - 9ms/step\n",
      "Epoch 50/100\n",
      "6/6 - 0s - loss: 0.3873 - mae: 0.3873 - val_loss: 0.6143 - val_mae: 0.6143 - 50ms/epoch - 8ms/step\n",
      "Epoch 51/100\n",
      "6/6 - 0s - loss: 0.3952 - mae: 0.3952 - val_loss: 0.6292 - val_mae: 0.6292 - 53ms/epoch - 9ms/step\n",
      "Epoch 52/100\n",
      "6/6 - 0s - loss: 0.4221 - mae: 0.4221 - val_loss: 0.6410 - val_mae: 0.6410 - 52ms/epoch - 9ms/step\n",
      "Epoch 53/100\n",
      "6/6 - 0s - loss: 0.3762 - mae: 0.3762 - val_loss: 0.6532 - val_mae: 0.6532 - 53ms/epoch - 9ms/step\n",
      "Epoch 54/100\n",
      "6/6 - 0s - loss: 0.3911 - mae: 0.3911 - val_loss: 0.6432 - val_mae: 0.6432 - 50ms/epoch - 8ms/step\n",
      "Epoch 55/100\n",
      "6/6 - 0s - loss: 0.3603 - mae: 0.3603 - val_loss: 0.6360 - val_mae: 0.6360 - 53ms/epoch - 9ms/step\n",
      "Epoch 56/100\n",
      "6/6 - 0s - loss: 0.3881 - mae: 0.3881 - val_loss: 0.6706 - val_mae: 0.6706 - 52ms/epoch - 9ms/step\n",
      "Epoch 57/100\n",
      "6/6 - 0s - loss: 0.3834 - mae: 0.3834 - val_loss: 0.6518 - val_mae: 0.6518 - 50ms/epoch - 8ms/step\n",
      "Epoch 58/100\n",
      "6/6 - 0s - loss: 0.3854 - mae: 0.3854 - val_loss: 0.6147 - val_mae: 0.6147 - 50ms/epoch - 8ms/step\n",
      "Epoch 59/100\n",
      "6/6 - 0s - loss: 0.3881 - mae: 0.3881 - val_loss: 0.6168 - val_mae: 0.6168 - 54ms/epoch - 9ms/step\n",
      "Epoch 60/100\n",
      "6/6 - 0s - loss: 0.3798 - mae: 0.3798 - val_loss: 0.6400 - val_mae: 0.6400 - 50ms/epoch - 8ms/step\n",
      "Epoch 61/100\n",
      "6/6 - 0s - loss: 0.3899 - mae: 0.3899 - val_loss: 0.6271 - val_mae: 0.6271 - 51ms/epoch - 8ms/step\n",
      "Epoch 62/100\n",
      "6/6 - 0s - loss: 0.3487 - mae: 0.3487 - val_loss: 0.6137 - val_mae: 0.6137 - 52ms/epoch - 9ms/step\n",
      "Epoch 63/100\n",
      "6/6 - 0s - loss: 0.3628 - mae: 0.3628 - val_loss: 0.6400 - val_mae: 0.6400 - 63ms/epoch - 10ms/step\n",
      "Epoch 64/100\n",
      "6/6 - 0s - loss: 0.3718 - mae: 0.3718 - val_loss: 0.6323 - val_mae: 0.6323 - 62ms/epoch - 10ms/step\n",
      "Epoch 65/100\n",
      "6/6 - 0s - loss: 0.3468 - mae: 0.3468 - val_loss: 0.6322 - val_mae: 0.6322 - 57ms/epoch - 9ms/step\n",
      "Epoch 66/100\n",
      "6/6 - 0s - loss: 0.3525 - mae: 0.3525 - val_loss: 0.6368 - val_mae: 0.6368 - 52ms/epoch - 9ms/step\n",
      "Epoch 67/100\n",
      "6/6 - 0s - loss: 0.3273 - mae: 0.3273 - val_loss: 0.6418 - val_mae: 0.6418 - 55ms/epoch - 9ms/step\n",
      "Epoch 68/100\n",
      "6/6 - 0s - loss: 0.3522 - mae: 0.3522 - val_loss: 0.6224 - val_mae: 0.6224 - 59ms/epoch - 10ms/step\n",
      "Epoch 69/100\n",
      "6/6 - 0s - loss: 0.3410 - mae: 0.3410 - val_loss: 0.6442 - val_mae: 0.6442 - 64ms/epoch - 11ms/step\n",
      "Epoch 70/100\n",
      "6/6 - 0s - loss: 0.3054 - mae: 0.3054 - val_loss: 0.6474 - val_mae: 0.6474 - 63ms/epoch - 11ms/step\n",
      "Epoch 71/100\n",
      "6/6 - 0s - loss: 0.3077 - mae: 0.3077 - val_loss: 0.6583 - val_mae: 0.6583 - 68ms/epoch - 11ms/step\n",
      "Epoch 72/100\n",
      "6/6 - 0s - loss: 0.3057 - mae: 0.3057 - val_loss: 0.6344 - val_mae: 0.6344 - 64ms/epoch - 11ms/step\n",
      "Epoch 73/100\n",
      "6/6 - 0s - loss: 0.2821 - mae: 0.2821 - val_loss: 0.6485 - val_mae: 0.6485 - 60ms/epoch - 10ms/step\n"
     ]
    },
    {
     "name": "stdout",
     "output_type": "stream",
     "text": [
      "Epoch 74/100\n",
      "6/6 - 0s - loss: 0.2713 - mae: 0.2713 - val_loss: 0.6744 - val_mae: 0.6744 - 57ms/epoch - 10ms/step\n",
      "Epoch 75/100\n",
      "6/6 - 0s - loss: 0.3070 - mae: 0.3070 - val_loss: 0.6541 - val_mae: 0.6541 - 51ms/epoch - 8ms/step\n",
      "Epoch 76/100\n",
      "6/6 - 0s - loss: 0.2982 - mae: 0.2982 - val_loss: 0.6450 - val_mae: 0.6450 - 51ms/epoch - 9ms/step\n",
      "Epoch 77/100\n",
      "6/6 - 0s - loss: 0.3035 - mae: 0.3035 - val_loss: 0.6301 - val_mae: 0.6301 - 55ms/epoch - 9ms/step\n",
      "Epoch 78/100\n",
      "6/6 - 0s - loss: 0.2987 - mae: 0.2987 - val_loss: 0.6207 - val_mae: 0.6207 - 53ms/epoch - 9ms/step\n",
      "Epoch 79/100\n",
      "6/6 - 0s - loss: 0.2752 - mae: 0.2752 - val_loss: 0.6607 - val_mae: 0.6607 - 52ms/epoch - 9ms/step\n",
      "Epoch 80/100\n",
      "6/6 - 0s - loss: 0.2703 - mae: 0.2703 - val_loss: 0.6320 - val_mae: 0.6320 - 52ms/epoch - 9ms/step\n",
      "Epoch 81/100\n",
      "6/6 - 0s - loss: 0.2589 - mae: 0.2589 - val_loss: 0.6434 - val_mae: 0.6434 - 52ms/epoch - 9ms/step\n",
      "Epoch 82/100\n",
      "6/6 - 0s - loss: 0.2896 - mae: 0.2896 - val_loss: 0.6062 - val_mae: 0.6062 - 52ms/epoch - 9ms/step\n",
      "Epoch 83/100\n",
      "6/6 - 0s - loss: 0.3026 - mae: 0.3026 - val_loss: 0.6474 - val_mae: 0.6474 - 50ms/epoch - 8ms/step\n",
      "Epoch 84/100\n",
      "6/6 - 0s - loss: 0.2864 - mae: 0.2864 - val_loss: 0.6172 - val_mae: 0.6172 - 53ms/epoch - 9ms/step\n",
      "Epoch 85/100\n",
      "6/6 - 0s - loss: 0.2916 - mae: 0.2916 - val_loss: 0.6151 - val_mae: 0.6151 - 50ms/epoch - 8ms/step\n",
      "Epoch 86/100\n",
      "6/6 - 0s - loss: 0.2404 - mae: 0.2404 - val_loss: 0.6476 - val_mae: 0.6476 - 52ms/epoch - 9ms/step\n",
      "Epoch 87/100\n",
      "6/6 - 0s - loss: 0.2330 - mae: 0.2330 - val_loss: 0.6351 - val_mae: 0.6351 - 52ms/epoch - 9ms/step\n",
      "Epoch 88/100\n",
      "6/6 - 0s - loss: 0.2679 - mae: 0.2679 - val_loss: 0.6660 - val_mae: 0.6660 - 62ms/epoch - 10ms/step\n",
      "Epoch 89/100\n",
      "6/6 - 0s - loss: 0.2725 - mae: 0.2725 - val_loss: 0.6268 - val_mae: 0.6268 - 61ms/epoch - 10ms/step\n",
      "Epoch 90/100\n",
      "6/6 - 0s - loss: 0.2528 - mae: 0.2528 - val_loss: 0.6522 - val_mae: 0.6522 - 60ms/epoch - 10ms/step\n",
      "Epoch 91/100\n",
      "6/6 - 0s - loss: 0.2457 - mae: 0.2457 - val_loss: 0.6414 - val_mae: 0.6414 - 59ms/epoch - 10ms/step\n",
      "Epoch 92/100\n",
      "6/6 - 0s - loss: 0.2493 - mae: 0.2493 - val_loss: 0.6433 - val_mae: 0.6433 - 52ms/epoch - 9ms/step\n",
      "Epoch 93/100\n",
      "6/6 - 0s - loss: 0.2189 - mae: 0.2189 - val_loss: 0.6351 - val_mae: 0.6351 - 52ms/epoch - 9ms/step\n",
      "Epoch 94/100\n",
      "6/6 - 0s - loss: 0.2160 - mae: 0.2160 - val_loss: 0.6294 - val_mae: 0.6294 - 49ms/epoch - 8ms/step\n",
      "Epoch 95/100\n",
      "6/6 - 0s - loss: 0.2104 - mae: 0.2104 - val_loss: 0.6309 - val_mae: 0.6309 - 53ms/epoch - 9ms/step\n",
      "Epoch 96/100\n",
      "6/6 - 0s - loss: 0.2090 - mae: 0.2090 - val_loss: 0.6432 - val_mae: 0.6432 - 60ms/epoch - 10ms/step\n",
      "Epoch 97/100\n",
      "6/6 - 0s - loss: 0.2264 - mae: 0.2264 - val_loss: 0.6423 - val_mae: 0.6423 - 62ms/epoch - 10ms/step\n",
      "Epoch 98/100\n",
      "6/6 - 0s - loss: 0.2328 - mae: 0.2328 - val_loss: 0.6229 - val_mae: 0.6229 - 60ms/epoch - 10ms/step\n",
      "Epoch 99/100\n",
      "6/6 - 0s - loss: 0.2614 - mae: 0.2614 - val_loss: 0.6382 - val_mae: 0.6382 - 54ms/epoch - 9ms/step\n",
      "Epoch 100/100\n",
      "6/6 - 0s - loss: 0.2198 - mae: 0.2198 - val_loss: 0.6313 - val_mae: 0.6313 - 56ms/epoch - 9ms/step\n"
     ]
    }
   ],
   "source": [
    "# Train the model, with some of the data reserved for validation\n",
    "history = model.fit(train_data, train_targets, epochs=100, validation_split=0.15, batch_size=64, verbose = 2)\n"
   ]
  },
  {
   "cell_type": "code",
   "execution_count": 10,
   "metadata": {},
   "outputs": [
    {
     "name": "stdout",
     "output_type": "stream",
     "text": [
      "2/2 - 0s - loss: 0.6383 - mae: 0.6383 - 29ms/epoch - 14ms/step\n"
     ]
    },
    {
     "data": {
      "text/plain": [
       "[0.6382623314857483, 0.6382623314857483]"
      ]
     },
     "execution_count": 10,
     "metadata": {},
     "output_type": "execute_result"
    }
   ],
   "source": [
    "# Evaluate the model on the test set\n",
    "model.evaluate(test_data, test_targets, verbose=2)\n"
   ]
  },
  {
   "cell_type": "markdown",
   "metadata": {},
   "source": [
    "#### Plot the learning curves"
   ]
  },
  {
   "cell_type": "code",
   "execution_count": 11,
   "metadata": {},
   "outputs": [],
   "source": [
    "import matplotlib.pyplot as plt\n",
    "%matplotlib inline"
   ]
  },
  {
   "cell_type": "code",
   "execution_count": 12,
   "metadata": {},
   "outputs": [
    {
     "data": {
      "image/png": "[encoded data removed]",
      "text/plain": [
       "<Figure size 640x480 with 1 Axes>"
      ]
     },
     "metadata": {},
     "output_type": "display_data"
    }
   ],
   "source": [
    "# Plot the training and validation loss\n",
    "\n",
    "plt.plot(history.history['loss'])\n",
    "plt.plot(history.history['val_loss'])\n",
    "plt.title('Loss vs. epochs')\n",
    "plt.ylabel('Loss')\n",
    "plt.xlabel('Epoch')\n",
    "plt.legend(['Training', 'Validation'], loc='upper right')\n",
    "plt.show()"
   ]
  },
  {
   "cell_type": "markdown",
   "metadata": {},
   "source": [
    "***\n",
    "<a id=\"coding_tutorial_2\"></a>\n",
    "## Model regularisation"
   ]
  },
  {
   "cell_type": "markdown",
   "metadata": {},
   "source": [
    "#### Adding regularisation with weight decay and dropout"
   ]
  },
  {
   "cell_type": "code",
   "execution_count": 13,
   "metadata": {},
   "outputs": [],
   "source": [
    "from tensorflow.keras.layers import Dropout\n",
    "from tensorflow.keras import regularizers"
   ]
  },
  {
   "cell_type": "code",
   "execution_count": 31,
   "metadata": {},
   "outputs": [],
   "source": [
    "def get_regularised_model(wd, rate):\n",
    "    model = Sequential([\n",
    "        Dense(128, kernel_regularizer = regularizers.l2(wd), activation=\"relu\", input_shape=(train_data.shape[1],)),\n",
    "        Dropout(rate),\n",
    "        Dense(128, kernel_regularizer = regularizers.l2(wd), activation=\"relu\"),\n",
    "        Dropout(rate),\n",
    "        Dense(128, kernel_regularizer = regularizers.l2(wd), activation=\"relu\"),\n",
    "        Dropout(rate),\n",
    "        Dense(128, kernel_regularizer = regularizers.l2(wd), activation=\"relu\"),\n",
    "        Dropout(rate),\n",
    "        Dense(128, kernel_regularizer = regularizers.l2(wd), activation=\"relu\"),\n",
    "        Dropout(rate),\n",
    "        Dense(128, kernel_regularizer = regularizers.l2(wd), activation=\"relu\"),\n",
    "        Dropout(rate),\n",
    "        Dense(1)\n",
    "    ])\n",
    "    return model"
   ]
  },
  {
   "cell_type": "code",
   "execution_count": 32,
   "metadata": {},
   "outputs": [],
   "source": [
    "# Re-build the model with weight decay and dropout layers\n",
    "model = get_regularised_model(1e-5, 0.3)\n"
   ]
  },
  {
   "cell_type": "code",
   "execution_count": 33,
   "metadata": {},
   "outputs": [],
   "source": [
    "# Compile the model\n",
    "model.compile(optimizer=\"adam\", loss=\"mae\", metrics=[\"mae\"])\n"
   ]
  },
  {
   "cell_type": "code",
   "execution_count": 34,
   "metadata": {},
   "outputs": [
    {
     "name": "stdout",
     "output_type": "stream",
     "text": [
      "Epoch 1/100\n",
      "6/6 - 1s - loss: 0.8430 - mae: 0.8365 - val_loss: 0.9468 - val_mae: 0.9403 - 965ms/epoch - 161ms/step\n",
      "Epoch 2/100\n",
      "6/6 - 0s - loss: 0.8377 - mae: 0.8311 - val_loss: 0.9291 - val_mae: 0.9226 - 64ms/epoch - 11ms/step\n",
      "Epoch 3/100\n",
      "6/6 - 0s - loss: 0.8228 - mae: 0.8163 - val_loss: 0.8891 - val_mae: 0.8826 - 65ms/epoch - 11ms/step\n",
      "Epoch 4/100\n",
      "6/6 - 0s - loss: 0.7907 - mae: 0.7842 - val_loss: 0.8066 - val_mae: 0.8001 - 66ms/epoch - 11ms/step\n",
      "Epoch 5/100\n",
      "6/6 - 0s - loss: 0.7165 - mae: 0.7100 - val_loss: 0.6882 - val_mae: 0.6817 - 63ms/epoch - 10ms/step\n",
      "Epoch 6/100\n",
      "6/6 - 0s - loss: 0.6607 - mae: 0.6542 - val_loss: 0.6808 - val_mae: 0.6743 - 63ms/epoch - 10ms/step\n",
      "Epoch 7/100\n",
      "6/6 - 0s - loss: 0.6545 - mae: 0.6480 - val_loss: 0.6395 - val_mae: 0.6330 - 61ms/epoch - 10ms/step\n",
      "Epoch 8/100\n",
      "6/6 - 0s - loss: 0.6268 - mae: 0.6203 - val_loss: 0.6239 - val_mae: 0.6174 - 63ms/epoch - 11ms/step\n",
      "Epoch 9/100\n",
      "6/6 - 0s - loss: 0.6097 - mae: 0.6033 - val_loss: 0.6053 - val_mae: 0.5988 - 64ms/epoch - 11ms/step\n",
      "Epoch 10/100\n",
      "6/6 - 0s - loss: 0.6443 - mae: 0.6379 - val_loss: 0.5848 - val_mae: 0.5784 - 62ms/epoch - 10ms/step\n",
      "Epoch 11/100\n",
      "6/6 - 0s - loss: 0.6244 - mae: 0.6179 - val_loss: 0.5732 - val_mae: 0.5668 - 65ms/epoch - 11ms/step\n",
      "Epoch 12/100\n",
      "6/6 - 0s - loss: 0.6149 - mae: 0.6084 - val_loss: 0.5841 - val_mae: 0.5776 - 63ms/epoch - 10ms/step\n",
      "Epoch 13/100\n",
      "6/6 - 0s - loss: 0.6083 - mae: 0.6018 - val_loss: 0.5797 - val_mae: 0.5732 - 62ms/epoch - 10ms/step\n",
      "Epoch 14/100\n",
      "6/6 - 0s - loss: 0.5897 - mae: 0.5833 - val_loss: 0.5843 - val_mae: 0.5779 - 62ms/epoch - 10ms/step\n",
      "Epoch 15/100\n",
      "6/6 - 0s - loss: 0.6066 - mae: 0.6001 - val_loss: 0.5846 - val_mae: 0.5782 - 62ms/epoch - 10ms/step\n",
      "Epoch 16/100\n",
      "6/6 - 0s - loss: 0.6200 - mae: 0.6135 - val_loss: 0.5877 - val_mae: 0.5813 - 63ms/epoch - 11ms/step\n",
      "Epoch 17/100\n",
      "6/6 - 0s - loss: 0.5914 - mae: 0.5850 - val_loss: 0.5901 - val_mae: 0.5837 - 63ms/epoch - 10ms/step\n",
      "Epoch 18/100\n",
      "6/6 - 0s - loss: 0.5992 - mae: 0.5928 - val_loss: 0.5849 - val_mae: 0.5785 - 64ms/epoch - 11ms/step\n",
      "Epoch 19/100\n",
      "6/6 - 0s - loss: 0.5839 - mae: 0.5775 - val_loss: 0.5722 - val_mae: 0.5658 - 62ms/epoch - 10ms/step\n",
      "Epoch 20/100\n",
      "6/6 - 0s - loss: 0.6016 - mae: 0.5952 - val_loss: 0.5726 - val_mae: 0.5662 - 64ms/epoch - 11ms/step\n",
      "Epoch 21/100\n",
      "6/6 - 0s - loss: 0.5644 - mae: 0.5580 - val_loss: 0.5584 - val_mae: 0.5520 - 60ms/epoch - 10ms/step\n",
      "Epoch 22/100\n",
      "6/6 - 0s - loss: 0.5636 - mae: 0.5572 - val_loss: 0.5927 - val_mae: 0.5863 - 62ms/epoch - 10ms/step\n",
      "Epoch 23/100\n",
      "6/6 - 0s - loss: 0.5727 - mae: 0.5664 - val_loss: 0.5692 - val_mae: 0.5628 - 74ms/epoch - 12ms/step\n",
      "Epoch 24/100\n",
      "6/6 - 0s - loss: 0.5998 - mae: 0.5934 - val_loss: 0.5777 - val_mae: 0.5713 - 68ms/epoch - 11ms/step\n",
      "Epoch 25/100\n",
      "6/6 - 0s - loss: 0.5803 - mae: 0.5739 - val_loss: 0.5863 - val_mae: 0.5800 - 66ms/epoch - 11ms/step\n",
      "Epoch 26/100\n",
      "6/6 - 0s - loss: 0.5798 - mae: 0.5734 - val_loss: 0.5946 - val_mae: 0.5882 - 69ms/epoch - 11ms/step\n",
      "Epoch 27/100\n",
      "6/6 - 0s - loss: 0.5820 - mae: 0.5756 - val_loss: 0.5768 - val_mae: 0.5705 - 67ms/epoch - 11ms/step\n",
      "Epoch 28/100\n",
      "6/6 - 0s - loss: 0.5665 - mae: 0.5602 - val_loss: 0.5681 - val_mae: 0.5617 - 85ms/epoch - 14ms/step\n",
      "Epoch 29/100\n",
      "6/6 - 0s - loss: 0.5821 - mae: 0.5757 - val_loss: 0.5607 - val_mae: 0.5543 - 83ms/epoch - 14ms/step\n",
      "Epoch 30/100\n",
      "6/6 - 0s - loss: 0.5568 - mae: 0.5505 - val_loss: 0.5750 - val_mae: 0.5687 - 66ms/epoch - 11ms/step\n",
      "Epoch 31/100\n",
      "6/6 - 0s - loss: 0.5682 - mae: 0.5619 - val_loss: 0.5782 - val_mae: 0.5719 - 65ms/epoch - 11ms/step\n",
      "Epoch 32/100\n",
      "6/6 - 0s - loss: 0.5577 - mae: 0.5514 - val_loss: 0.5835 - val_mae: 0.5771 - 70ms/epoch - 12ms/step\n",
      "Epoch 33/100\n",
      "6/6 - 0s - loss: 0.5710 - mae: 0.5647 - val_loss: 0.5812 - val_mae: 0.5748 - 70ms/epoch - 12ms/step\n",
      "Epoch 34/100\n",
      "6/6 - 0s - loss: 0.5609 - mae: 0.5546 - val_loss: 0.5861 - val_mae: 0.5798 - 70ms/epoch - 12ms/step\n",
      "Epoch 35/100\n",
      "6/6 - 0s - loss: 0.5519 - mae: 0.5455 - val_loss: 0.5867 - val_mae: 0.5803 - 68ms/epoch - 11ms/step\n",
      "Epoch 36/100\n",
      "6/6 - 0s - loss: 0.5625 - mae: 0.5562 - val_loss: 0.5749 - val_mae: 0.5686 - 66ms/epoch - 11ms/step\n",
      "Epoch 37/100\n",
      "6/6 - 0s - loss: 0.5570 - mae: 0.5507 - val_loss: 0.5835 - val_mae: 0.5772 - 67ms/epoch - 11ms/step\n",
      "Epoch 38/100\n",
      "6/6 - 0s - loss: 0.5438 - mae: 0.5375 - val_loss: 0.5994 - val_mae: 0.5931 - 76ms/epoch - 13ms/step\n",
      "Epoch 39/100\n",
      "6/6 - 0s - loss: 0.5464 - mae: 0.5400 - val_loss: 0.5878 - val_mae: 0.5815 - 77ms/epoch - 13ms/step\n",
      "Epoch 40/100\n",
      "6/6 - 0s - loss: 0.5361 - mae: 0.5298 - val_loss: 0.5791 - val_mae: 0.5728 - 77ms/epoch - 13ms/step\n",
      "Epoch 41/100\n",
      "6/6 - 0s - loss: 0.5488 - mae: 0.5425 - val_loss: 0.5904 - val_mae: 0.5841 - 70ms/epoch - 12ms/step\n",
      "Epoch 42/100\n",
      "6/6 - 0s - loss: 0.5365 - mae: 0.5302 - val_loss: 0.5911 - val_mae: 0.5848 - 65ms/epoch - 11ms/step\n",
      "Epoch 43/100\n",
      "6/6 - 0s - loss: 0.5469 - mae: 0.5406 - val_loss: 0.5946 - val_mae: 0.5883 - 69ms/epoch - 12ms/step\n",
      "Epoch 44/100\n",
      "6/6 - 0s - loss: 0.5414 - mae: 0.5350 - val_loss: 0.5985 - val_mae: 0.5922 - 61ms/epoch - 10ms/step\n",
      "Epoch 45/100\n",
      "6/6 - 0s - loss: 0.5425 - mae: 0.5362 - val_loss: 0.5989 - val_mae: 0.5926 - 67ms/epoch - 11ms/step\n",
      "Epoch 46/100\n",
      "6/6 - 0s - loss: 0.5631 - mae: 0.5568 - val_loss: 0.6049 - val_mae: 0.5986 - 60ms/epoch - 10ms/step\n",
      "Epoch 47/100\n",
      "6/6 - 0s - loss: 0.5679 - mae: 0.5616 - val_loss: 0.6040 - val_mae: 0.5977 - 69ms/epoch - 12ms/step\n",
      "Epoch 48/100\n",
      "6/6 - 0s - loss: 0.5500 - mae: 0.5437 - val_loss: 0.5990 - val_mae: 0.5927 - 66ms/epoch - 11ms/step\n",
      "Epoch 49/100\n",
      "6/6 - 0s - loss: 0.5177 - mae: 0.5114 - val_loss: 0.6027 - val_mae: 0.5964 - 64ms/epoch - 11ms/step\n",
      "Epoch 50/100\n",
      "6/6 - 0s - loss: 0.5391 - mae: 0.5329 - val_loss: 0.5973 - val_mae: 0.5910 - 62ms/epoch - 10ms/step\n",
      "Epoch 51/100\n",
      "6/6 - 0s - loss: 0.5373 - mae: 0.5310 - val_loss: 0.5960 - val_mae: 0.5897 - 62ms/epoch - 10ms/step\n",
      "Epoch 52/100\n",
      "6/6 - 0s - loss: 0.5273 - mae: 0.5210 - val_loss: 0.5998 - val_mae: 0.5935 - 89ms/epoch - 15ms/step\n",
      "Epoch 53/100\n",
      "6/6 - 0s - loss: 0.5288 - mae: 0.5225 - val_loss: 0.5908 - val_mae: 0.5845 - 73ms/epoch - 12ms/step\n",
      "Epoch 54/100\n",
      "6/6 - 0s - loss: 0.5648 - mae: 0.5585 - val_loss: 0.5932 - val_mae: 0.5869 - 62ms/epoch - 10ms/step\n",
      "Epoch 55/100\n",
      "6/6 - 0s - loss: 0.4962 - mae: 0.4899 - val_loss: 0.6171 - val_mae: 0.6108 - 62ms/epoch - 10ms/step\n",
      "Epoch 56/100\n",
      "6/6 - 0s - loss: 0.5097 - mae: 0.5034 - val_loss: 0.5990 - val_mae: 0.5927 - 61ms/epoch - 10ms/step\n",
      "Epoch 57/100\n",
      "6/6 - 0s - loss: 0.5374 - mae: 0.5311 - val_loss: 0.5951 - val_mae: 0.5888 - 66ms/epoch - 11ms/step\n",
      "Epoch 58/100\n",
      "6/6 - 0s - loss: 0.5240 - mae: 0.5177 - val_loss: 0.5977 - val_mae: 0.5914 - 63ms/epoch - 10ms/step\n",
      "Epoch 59/100\n",
      "6/6 - 0s - loss: 0.5256 - mae: 0.5193 - val_loss: 0.6323 - val_mae: 0.6260 - 62ms/epoch - 10ms/step\n",
      "Epoch 60/100\n",
      "6/6 - 0s - loss: 0.5293 - mae: 0.5231 - val_loss: 0.6118 - val_mae: 0.6056 - 61ms/epoch - 10ms/step\n",
      "Epoch 61/100\n",
      "6/6 - 0s - loss: 0.5082 - mae: 0.5020 - val_loss: 0.6043 - val_mae: 0.5981 - 64ms/epoch - 11ms/step\n",
      "Epoch 62/100\n",
      "6/6 - 0s - loss: 0.5209 - mae: 0.5146 - val_loss: 0.6218 - val_mae: 0.6155 - 60ms/epoch - 10ms/step\n",
      "Epoch 63/100\n",
      "6/6 - 0s - loss: 0.4970 - mae: 0.4907 - val_loss: 0.6298 - val_mae: 0.6236 - 63ms/epoch - 10ms/step\n",
      "Epoch 64/100\n",
      "6/6 - 0s - loss: 0.5275 - mae: 0.5213 - val_loss: 0.6293 - val_mae: 0.6231 - 63ms/epoch - 11ms/step\n",
      "Epoch 65/100\n",
      "6/6 - 0s - loss: 0.5186 - mae: 0.5124 - val_loss: 0.6176 - val_mae: 0.6113 - 71ms/epoch - 12ms/step\n",
      "Epoch 66/100\n",
      "6/6 - 0s - loss: 0.5264 - mae: 0.5202 - val_loss: 0.6208 - val_mae: 0.6146 - 67ms/epoch - 11ms/step\n",
      "Epoch 67/100\n",
      "6/6 - 0s - loss: 0.5391 - mae: 0.5329 - val_loss: 0.6257 - val_mae: 0.6195 - 68ms/epoch - 11ms/step\n",
      "Epoch 68/100\n",
      "6/6 - 0s - loss: 0.5204 - mae: 0.5142 - val_loss: 0.6171 - val_mae: 0.6109 - 69ms/epoch - 11ms/step\n",
      "Epoch 69/100\n",
      "6/6 - 0s - loss: 0.5204 - mae: 0.5142 - val_loss: 0.6047 - val_mae: 0.5985 - 73ms/epoch - 12ms/step\n",
      "Epoch 70/100\n",
      "6/6 - 0s - loss: 0.5254 - mae: 0.5191 - val_loss: 0.6058 - val_mae: 0.5996 - 71ms/epoch - 12ms/step\n",
      "Epoch 71/100\n",
      "6/6 - 0s - loss: 0.5154 - mae: 0.5091 - val_loss: 0.6039 - val_mae: 0.5976 - 62ms/epoch - 10ms/step\n",
      "Epoch 72/100\n",
      "6/6 - 0s - loss: 0.5099 - mae: 0.5037 - val_loss: 0.6049 - val_mae: 0.5986 - 60ms/epoch - 10ms/step\n",
      "Epoch 73/100\n",
      "6/6 - 0s - loss: 0.4939 - mae: 0.4876 - val_loss: 0.6117 - val_mae: 0.6055 - 62ms/epoch - 10ms/step\n"
     ]
    },
    {
     "name": "stdout",
     "output_type": "stream",
     "text": [
      "Epoch 74/100\n",
      "6/6 - 0s - loss: 0.5013 - mae: 0.4950 - val_loss: 0.6129 - val_mae: 0.6066 - 60ms/epoch - 10ms/step\n",
      "Epoch 75/100\n",
      "6/6 - 0s - loss: 0.4960 - mae: 0.4898 - val_loss: 0.6153 - val_mae: 0.6090 - 59ms/epoch - 10ms/step\n",
      "Epoch 76/100\n",
      "6/6 - 0s - loss: 0.5001 - mae: 0.4938 - val_loss: 0.6231 - val_mae: 0.6169 - 61ms/epoch - 10ms/step\n",
      "Epoch 77/100\n",
      "6/6 - 0s - loss: 0.5042 - mae: 0.4979 - val_loss: 0.6105 - val_mae: 0.6043 - 61ms/epoch - 10ms/step\n",
      "Epoch 78/100\n",
      "6/6 - 0s - loss: 0.5118 - mae: 0.5056 - val_loss: 0.6123 - val_mae: 0.6060 - 60ms/epoch - 10ms/step\n",
      "Epoch 79/100\n",
      "6/6 - 0s - loss: 0.5100 - mae: 0.5038 - val_loss: 0.6314 - val_mae: 0.6252 - 62ms/epoch - 10ms/step\n",
      "Epoch 80/100\n",
      "6/6 - 0s - loss: 0.5137 - mae: 0.5075 - val_loss: 0.6268 - val_mae: 0.6206 - 64ms/epoch - 11ms/step\n",
      "Epoch 81/100\n",
      "6/6 - 0s - loss: 0.5179 - mae: 0.5117 - val_loss: 0.6449 - val_mae: 0.6387 - 63ms/epoch - 11ms/step\n",
      "Epoch 82/100\n",
      "6/6 - 0s - loss: 0.5237 - mae: 0.5174 - val_loss: 0.6173 - val_mae: 0.6111 - 63ms/epoch - 10ms/step\n",
      "Epoch 83/100\n",
      "6/6 - 0s - loss: 0.4863 - mae: 0.4801 - val_loss: 0.6032 - val_mae: 0.5970 - 66ms/epoch - 11ms/step\n",
      "Epoch 84/100\n",
      "6/6 - 0s - loss: 0.5047 - mae: 0.4985 - val_loss: 0.6038 - val_mae: 0.5976 - 70ms/epoch - 12ms/step\n",
      "Epoch 85/100\n",
      "6/6 - 0s - loss: 0.4889 - mae: 0.4827 - val_loss: 0.6094 - val_mae: 0.6032 - 84ms/epoch - 14ms/step\n",
      "Epoch 86/100\n",
      "6/6 - 0s - loss: 0.4998 - mae: 0.4936 - val_loss: 0.6482 - val_mae: 0.6420 - 63ms/epoch - 10ms/step\n",
      "Epoch 87/100\n",
      "6/6 - 0s - loss: 0.5352 - mae: 0.5289 - val_loss: 0.6235 - val_mae: 0.6173 - 62ms/epoch - 10ms/step\n",
      "Epoch 88/100\n",
      "6/6 - 0s - loss: 0.5139 - mae: 0.5077 - val_loss: 0.6573 - val_mae: 0.6511 - 73ms/epoch - 12ms/step\n",
      "Epoch 89/100\n",
      "6/6 - 0s - loss: 0.4945 - mae: 0.4883 - val_loss: 0.6459 - val_mae: 0.6397 - 72ms/epoch - 12ms/step\n",
      "Epoch 90/100\n",
      "6/6 - 0s - loss: 0.5252 - mae: 0.5190 - val_loss: 0.6218 - val_mae: 0.6156 - 58ms/epoch - 10ms/step\n",
      "Epoch 91/100\n",
      "6/6 - 0s - loss: 0.4916 - mae: 0.4854 - val_loss: 0.6323 - val_mae: 0.6260 - 61ms/epoch - 10ms/step\n",
      "Epoch 92/100\n",
      "6/6 - 0s - loss: 0.4789 - mae: 0.4727 - val_loss: 0.6209 - val_mae: 0.6146 - 63ms/epoch - 11ms/step\n",
      "Epoch 93/100\n",
      "6/6 - 0s - loss: 0.4978 - mae: 0.4916 - val_loss: 0.6316 - val_mae: 0.6254 - 60ms/epoch - 10ms/step\n",
      "Epoch 94/100\n",
      "6/6 - 0s - loss: 0.4793 - mae: 0.4731 - val_loss: 0.6273 - val_mae: 0.6211 - 60ms/epoch - 10ms/step\n",
      "Epoch 95/100\n",
      "6/6 - 0s - loss: 0.5080 - mae: 0.5018 - val_loss: 0.6354 - val_mae: 0.6291 - 75ms/epoch - 13ms/step\n",
      "Epoch 96/100\n",
      "6/6 - 0s - loss: 0.5033 - mae: 0.4971 - val_loss: 0.6241 - val_mae: 0.6178 - 66ms/epoch - 11ms/step\n",
      "Epoch 97/100\n",
      "6/6 - 0s - loss: 0.5018 - mae: 0.4956 - val_loss: 0.6247 - val_mae: 0.6185 - 65ms/epoch - 11ms/step\n",
      "Epoch 98/100\n",
      "6/6 - 0s - loss: 0.5021 - mae: 0.4958 - val_loss: 0.6044 - val_mae: 0.5982 - 63ms/epoch - 11ms/step\n",
      "Epoch 99/100\n",
      "6/6 - 0s - loss: 0.4900 - mae: 0.4838 - val_loss: 0.5977 - val_mae: 0.5915 - 67ms/epoch - 11ms/step\n",
      "Epoch 100/100\n",
      "6/6 - 0s - loss: 0.4944 - mae: 0.4882 - val_loss: 0.6049 - val_mae: 0.5987 - 67ms/epoch - 11ms/step\n"
     ]
    }
   ],
   "source": [
    "# Train the model, with some of the data reserved for validation\n",
    "history = model.fit(train_data, train_targets, epochs=100,\n",
    "                   validation_split=0.15, batch_size=64, verbose=2)\n"
   ]
  },
  {
   "cell_type": "code",
   "execution_count": 35,
   "metadata": {},
   "outputs": [
    {
     "name": "stdout",
     "output_type": "stream",
     "text": [
      "2/2 - 0s - loss: 0.5281 - mae: 0.5219 - 26ms/epoch - 13ms/step\n"
     ]
    },
    {
     "data": {
      "text/plain": [
       "[0.5281479954719543, 0.521942138671875]"
      ]
     },
     "execution_count": 35,
     "metadata": {},
     "output_type": "execute_result"
    }
   ],
   "source": [
    "# Evaluate the model on the test set\n",
    "\n",
    "model.evaluate(test_data, test_targets, verbose = 2)"
   ]
  },
  {
   "cell_type": "markdown",
   "metadata": {},
   "source": [
    "#### Plot the learning curves"
   ]
  },
  {
   "cell_type": "code",
   "execution_count": 36,
   "metadata": {},
   "outputs": [
    {
     "data": {
      "image/png": "[encoded data removed]",
      "text/plain": [
       "<Figure size 640x480 with 1 Axes>"
      ]
     },
     "metadata": {},
     "output_type": "display_data"
    }
   ],
   "source": [
    "# Plot the training and validation loss\n",
    "\n",
    "import matplotlib.pyplot as plt\n",
    "\n",
    "plt.plot(history.history['loss'])\n",
    "plt.plot(history.history['val_loss'])\n",
    "plt.title('Loss vs. epochs')\n",
    "plt.ylabel('Loss')\n",
    "plt.xlabel('Epoch')\n",
    "plt.legend(['Training', 'Validation'], loc='upper right')\n",
    "plt.show()"
   ]
  },
  {
   "cell_type": "markdown",
   "metadata": {},
   "source": [
    "***\n",
    "<a id=\"coding_tutorial_3\"></a>\n",
    "## Introduction to callbacks"
   ]
  },
  {
   "cell_type": "markdown",
   "metadata": {},
   "source": [
    "#### Example training callback"
   ]
  },
  {
   "cell_type": "code",
   "execution_count": 20,
   "metadata": {},
   "outputs": [],
   "source": [
    "# Write a custom callback\n",
    "\n"
   ]
  },
  {
   "cell_type": "code",
   "execution_count": 21,
   "metadata": {},
   "outputs": [],
   "source": [
    "# Re-build the model\n",
    "\n"
   ]
  },
  {
   "cell_type": "code",
   "execution_count": 22,
   "metadata": {},
   "outputs": [],
   "source": [
    "# Compile the model\n",
    "\n"
   ]
  },
  {
   "cell_type": "markdown",
   "metadata": {},
   "source": [
    "#### Train the model with the callback"
   ]
  },
  {
   "cell_type": "code",
   "execution_count": 23,
   "metadata": {},
   "outputs": [],
   "source": [
    "# Train the model, with some of the data reserved for validation\n",
    "\n"
   ]
  },
  {
   "cell_type": "code",
   "execution_count": 24,
   "metadata": {},
   "outputs": [],
   "source": [
    "# Evaluate the model\n",
    "\n"
   ]
  },
  {
   "cell_type": "code",
   "execution_count": 25,
   "metadata": {},
   "outputs": [],
   "source": [
    "# Make predictions with the model\n",
    "\n"
   ]
  },
  {
   "cell_type": "markdown",
   "metadata": {},
   "source": [
    "***\n",
    "<a id=\"coding_tutorial_4\"></a>\n",
    "## Early stopping / patience"
   ]
  },
  {
   "cell_type": "markdown",
   "metadata": {},
   "source": [
    "#### Re-train the models with early stopping"
   ]
  },
  {
   "cell_type": "code",
   "execution_count": 26,
   "metadata": {},
   "outputs": [],
   "source": [
    "# Re-train the unregularised model\n",
    "\n"
   ]
  },
  {
   "cell_type": "code",
   "execution_count": 27,
   "metadata": {},
   "outputs": [],
   "source": [
    "# Evaluate the model on the test set\n",
    "\n"
   ]
  },
  {
   "cell_type": "code",
   "execution_count": 28,
   "metadata": {},
   "outputs": [],
   "source": [
    "# Re-train the regularised model\n",
    "\n"
   ]
  },
  {
   "cell_type": "code",
   "execution_count": 29,
   "metadata": {},
   "outputs": [],
   "source": [
    "# Evaluate the model on the test set\n",
    "\n"
   ]
  },
  {
   "cell_type": "markdown",
   "metadata": {},
   "source": [
    "#### Plot the learning curves"
   ]
  },
  {
   "cell_type": "code",
   "execution_count": 30,
   "metadata": {},
   "outputs": [
    {
     "ename": "NameError",
     "evalue": "name 'unreg_history' is not defined",
     "output_type": "error",
     "traceback": [
      "\u001b[1;31m---------------------------------------------------------------------------\u001b[0m",
      "\u001b[1;31mNameError\u001b[0m                                 Traceback (most recent call last)",
      "Cell \u001b[1;32mIn[30], line 9\u001b[0m\n\u001b[0;32m      5\u001b[0m fig \u001b[38;5;241m=\u001b[39m plt\u001b[38;5;241m.\u001b[39mfigure(figsize\u001b[38;5;241m=\u001b[39m(\u001b[38;5;241m12\u001b[39m, \u001b[38;5;241m5\u001b[39m))\n\u001b[0;32m      7\u001b[0m fig\u001b[38;5;241m.\u001b[39madd_subplot(\u001b[38;5;241m121\u001b[39m)\n\u001b[1;32m----> 9\u001b[0m plt\u001b[38;5;241m.\u001b[39mplot(\u001b[43munreg_history\u001b[49m\u001b[38;5;241m.\u001b[39mhistory[\u001b[38;5;124m'\u001b[39m\u001b[38;5;124mloss\u001b[39m\u001b[38;5;124m'\u001b[39m])\n\u001b[0;32m     10\u001b[0m plt\u001b[38;5;241m.\u001b[39mplot(unreg_history\u001b[38;5;241m.\u001b[39mhistory[\u001b[38;5;124m'\u001b[39m\u001b[38;5;124mval_loss\u001b[39m\u001b[38;5;124m'\u001b[39m])\n\u001b[0;32m     11\u001b[0m plt\u001b[38;5;241m.\u001b[39mtitle(\u001b[38;5;124m'\u001b[39m\u001b[38;5;124mUnregularised model: loss vs. epochs\u001b[39m\u001b[38;5;124m'\u001b[39m)\n",
      "\u001b[1;31mNameError\u001b[0m: name 'unreg_history' is not defined"
     ]
    },
    {
     "data": {
      "image/png": "[encoded data removed]",
      "text/plain": [
       "<Figure size 1200x500 with 1 Axes>"
      ]
     },
     "metadata": {},
     "output_type": "display_data"
    }
   ],
   "source": [
    "# Plot the training and validation loss\n",
    "\n",
    "import matplotlib.pyplot as plt\n",
    "\n",
    "fig = plt.figure(figsize=(12, 5))\n",
    "\n",
    "fig.add_subplot(121)\n",
    "\n",
    "plt.plot(unreg_history.history['loss'])\n",
    "plt.plot(unreg_history.history['val_loss'])\n",
    "plt.title('Unregularised model: loss vs. epochs')\n",
    "plt.ylabel('Loss')\n",
    "plt.xlabel('Epoch')\n",
    "plt.legend(['Training', 'Validation'], loc='upper right')\n",
    "\n",
    "fig.add_subplot(122)\n",
    "\n",
    "plt.plot(reg_history.history['loss'])\n",
    "plt.plot(reg_history.history['val_loss'])\n",
    "plt.title('Regularised model: loss vs. epochs')\n",
    "plt.ylabel('Loss')\n",
    "plt.xlabel('Epoch')\n",
    "plt.legend(['Training', 'Validation'], loc='upper right')\n",
    "\n",
    "plt.show()"
   ]
  }
 ],
 "metadata": {
  "kernelspec": {
   "display_name": "py3-TF2.0",
   "language": "python",
   "name": "py3-tf2.0"
  },
  "language_info": {
   "codemirror_mode": {
    "name": "ipython",
    "version": 3
   },
   "file_extension": ".py",
   "mimetype": "text/x-python",
   "name": "python",
   "nbconvert_exporter": "python",
   "pygments_lexer": "ipython3",
   "version": "3.10.9"
  }
 },
 "nbformat": 4,
 "nbformat_minor": 2
}
