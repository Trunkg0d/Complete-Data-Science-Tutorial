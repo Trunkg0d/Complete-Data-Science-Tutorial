{
 "cells": [
  {
   "cell_type": "code",
   "execution_count": 1,
   "metadata": {
    "scrolled": true
   },
   "outputs": [
    {
     "name": "stdout",
     "output_type": "stream",
     "text": [
      "2.10.0\n"
     ]
    }
   ],
   "source": [
    "import tensorflow as tf\n",
    "print(tf.__version__)"
   ]
  },
  {
   "cell_type": "markdown",
   "metadata": {},
   "source": [
    "# Validation, regularisation and callbacks"
   ]
  },
  {
   "cell_type": "markdown",
   "metadata": {},
   "source": [
    " ## Coding tutorials\n",
    " #### [1. Validation sets](#coding_tutorial_1)\n",
    " #### [2. Model regularisation](#coding_tutorial_2)\n",
    " #### [3. Introduction to callbacks](#coding_tutorial_3)\n",
    " #### [4. Early stopping / patience](#coding_tutorial_4)"
   ]
  },
  {
   "cell_type": "markdown",
   "metadata": {},
   "source": [
    "***\n",
    "<a id=\"coding_tutorial_1\"></a>\n",
    "## Validation sets"
   ]
  },
  {
   "cell_type": "markdown",
   "metadata": {},
   "source": [
    "#### Load the data"
   ]
  },
  {
   "cell_type": "code",
   "execution_count": 2,
   "metadata": {},
   "outputs": [
    {
     "name": "stdout",
     "output_type": "stream",
     "text": [
      ".. _diabetes_dataset:\n",
      "\n",
      "Diabetes dataset\n",
      "----------------\n",
      "\n",
      "Ten baseline variables, age, sex, body mass index, average blood\n",
      "pressure, and six blood serum measurements were obtained for each of n =\n",
      "442 diabetes patients, as well as the response of interest, a\n",
      "quantitative measure of disease progression one year after baseline.\n",
      "\n",
      "**Data Set Characteristics:**\n",
      "\n",
      "  :Number of Instances: 442\n",
      "\n",
      "  :Number of Attributes: First 10 columns are numeric predictive values\n",
      "\n",
      "  :Target: Column 11 is a quantitative measure of disease progression one year after baseline\n",
      "\n",
      "  :Attribute Information:\n",
      "      - age     age in years\n",
      "      - sex\n",
      "      - bmi     body mass index\n",
      "      - bp      average blood pressure\n",
      "      - s1      tc, total serum cholesterol\n",
      "      - s2      ldl, low-density lipoproteins\n",
      "      - s3      hdl, high-density lipoproteins\n",
      "      - s4      tch, total cholesterol / HDL\n",
      "      - s5      ltg, possibly log of serum triglycerides level\n",
      "      - s6      glu, blood sugar level\n",
      "\n",
      "Note: Each of these 10 feature variables have been mean centered and scaled by the standard deviation times the square root of `n_samples` (i.e. the sum of squares of each column totals 1).\n",
      "\n",
      "Source URL:\n",
      "https://www4.stat.ncsu.edu/~boos/var.select/diabetes.html\n",
      "\n",
      "For more information see:\n",
      "Bradley Efron, Trevor Hastie, Iain Johnstone and Robert Tibshirani (2004) \"Least Angle Regression,\" Annals of Statistics (with discussion), 407-499.\n",
      "(https://web.stanford.edu/~hastie/Papers/LARS/LeastAngle_2002.pdf)\n",
      "\n"
     ]
    }
   ],
   "source": [
    "# Load the diabetes dataset\n",
    "from sklearn.datasets import load_diabetes\n",
    "\n",
    "diabetes_dataset = load_diabetes()\n",
    "print(diabetes_dataset[\"DESCR\"])"
   ]
  },
  {
   "cell_type": "code",
   "execution_count": 3,
   "metadata": {},
   "outputs": [
    {
     "name": "stdout",
     "output_type": "stream",
     "text": [
      "dict_keys(['data', 'target', 'frame', 'DESCR', 'feature_names', 'data_filename', 'target_filename', 'data_module'])\n"
     ]
    }
   ],
   "source": [
    "# Save the input and target variables\n",
    "print(diabetes_dataset.keys())\n",
    "data = diabetes_dataset[\"data\"]\n",
    "targets = diabetes_dataset[\"target\"]"
   ]
  },
  {
   "cell_type": "code",
   "execution_count": 4,
   "metadata": {},
   "outputs": [
    {
     "data": {
      "text/plain": [
       "array([-1.47194752e-02, -1.00165882e+00, -1.44579915e-01,  6.99512942e-01,\n",
       "       -2.22496178e-01, -7.15965848e-01, -1.83538046e-01, -1.15749134e+00,\n",
       "       -5.47147277e-01,  2.05006151e+00, -6.64021672e-01, -1.07957508e+00,\n",
       "        3.48889755e-01,  4.26806019e-01, -4.43258925e-01,  2.45001404e-01,\n",
       "        1.80071184e-01, -1.05621783e-01, -7.15965848e-01,  2.06043272e-01,\n",
       "       -1.09256112e+00, -1.33929596e+00, -1.09256112e+00,  1.20596866e+00,\n",
       "        4.13819975e-01,  6.47568766e-01, -1.96524090e-01, -8.71798376e-01,\n",
       "       -2.74440354e-01,  1.69943833e+00, -3.00412442e-01, -1.20943552e+00,\n",
       "        2.45262887e+00, -8.45826288e-01, -1.13151925e+00, -6.51035629e-01,\n",
       "        1.46568953e+00,  1.60853602e+00,  1.29687096e+00, -8.06868156e-01,\n",
       "       -6.77007716e-01, -1.26137969e+00, -1.18346343e+00, -7.80896068e-01,\n",
       "        1.38777327e+00, -1.28735178e+00,  4.91736239e-01, -1.31593871e-01,\n",
       "       -1.00165882e+00, -1.31593871e-01,  3.72247006e-02,  9.46247777e-01,\n",
       "       -1.20943552e+00, -6.25063541e-01,  3.87847887e-01, -3.13398486e-01,\n",
       "       -1.30033783e+00, -1.49512849e+00,  2.32015360e-01,  2.32015360e-01,\n",
       "       -1.18346343e+00, -1.05621783e-01, -1.30033783e+00, -3.13398486e-01,\n",
       "       -1.05360299e+00,  1.41113052e-01, -2.77055191e-02, -7.15965848e-01,\n",
       "        1.02154920e-01,  3.35903711e-01, -1.35228200e+00,  1.53061975e+00,\n",
       "        6.47568766e-01, -5.34161233e-01, -8.71798376e-01, -1.43019827e+00,\n",
       "        2.32015360e-01,  6.21596678e-01,  1.29687096e+00, -5.08189145e-01,\n",
       "       -1.18607827e-01, -1.31332387e+00, -1.30033783e+00,  7.51457118e-01,\n",
       "       -1.13151925e+00, -1.44579915e-01, -1.26137969e+00, -2.35482222e-01,\n",
       "       -1.43019827e+00, -5.34161233e-01, -7.02979804e-01,  1.54099096e-01,\n",
       "       -1.35228200e+00, -7.28951892e-01, -8.06868156e-01,  1.28127008e-01,\n",
       "       -2.77055191e-02,  1.64749415e+00, -7.80896068e-01, -8.97770464e-01,\n",
       "       -3.13398486e-01, -6.51035629e-01,  1.94617316e+00,  5.95624590e-01,\n",
       "       -7.41937936e-01, -1.28735178e+00, -2.35482222e-01, -1.05621783e-01,\n",
       "        1.03715008e+00, -9.23742551e-01, -6.25063541e-01, -1.20943552e+00,\n",
       "        1.21895470e+00,  1.88124294e+00,  1.37478723e+00,  9.98191953e-01,\n",
       "        1.59554997e+00,  1.67346624e+00,  3.48889755e-01,  6.21596678e-01,\n",
       "        6.21596678e-01,  2.70973492e-01,  3.61875799e-01, -8.84784420e-01,\n",
       "       -4.04300794e-01,  1.15140964e-01, -6.89993760e-01, -5.60133321e-01,\n",
       "       -4.82217057e-01,  1.50464767e+00,  1.58256393e+00,  7.61828325e-02,\n",
       "       -5.86105409e-01, -8.97770464e-01, -6.38049585e-01,  1.55659184e+00,\n",
       "       -8.71798376e-01,  1.66048019e+00,  2.38769865e+00,  1.67346624e+00,\n",
       "       -4.43258925e-01,  2.14096382e+00,  1.07610822e+00, -1.19644947e+00,\n",
       "        2.83959536e-01,  1.38777327e+00,  3.35903711e-01, -3.13398486e-01,\n",
       "       -7.28951892e-01, -3.39370574e-01,  1.76436855e+00, -8.32840244e-01,\n",
       "        1.81631272e+00, -1.05360299e+00,  5.82638546e-01,  4.39792063e-01,\n",
       "       -1.65096101e+00, -8.84784420e-01, -7.28951892e-01,  5.56666458e-01,\n",
       "       -1.28735178e+00,  8.42359425e-01,  2.57987448e-01, -2.74440354e-01,\n",
       "        8.03401293e-01, -1.20943552e+00, -1.06658903e+00,  8.81317557e-01,\n",
       "        1.50464767e+00, -1.73343121e-03, -1.36526805e+00, -1.01464486e+00,\n",
       "        1.85527085e+00, -6.64021672e-01, -1.47194752e-02, -3.26384530e-01,\n",
       "        1.10208030e+00,  9.46247777e-01, -9.23742551e-01, -1.47194752e-02,\n",
       "       -5.86105409e-01, -1.14450530e+00, -1.83538046e-01,  4.26806019e-01,\n",
       "        1.46568953e+00, -6.64021672e-01, -1.96524090e-01, -1.18607827e-01,\n",
       "       -1.44579915e-01, -9.49714639e-01,  1.81631272e+00,  3.35903711e-01,\n",
       "       -7.93882112e-01, -4.69231013e-01, -8.58812332e-01, -3.91314750e-01,\n",
       "       -1.04061695e+00, -3.00412442e-01, -1.31593871e-01, -8.06868156e-01,\n",
       "        7.61828325e-02, -1.46915640e+00,  5.69652502e-01,  9.07289645e-01,\n",
       "        1.62152206e+00, -6.89993760e-01,  5.69652502e-01,  6.47568766e-01,\n",
       "        3.72247006e-02, -9.75686727e-01,  5.04722283e-01, -1.06658903e+00,\n",
       "       -1.02763090e+00, -1.33929596e+00, -1.13151925e+00,  1.43971745e+00,\n",
       "        1.24492679e+00,  1.86825690e+00,  8.03401293e-01,  4.26806019e-01,\n",
       "       -9.62700683e-01, -7.67910024e-01,  1.29687096e+00, -2.77055191e-02,\n",
       "       -9.75686727e-01,  7.25485030e-01, -9.75686727e-01, -5.73119365e-01,\n",
       "        1.02154920e-01, -1.28735178e+00,  8.81317557e-01,  2.42386567e-02,\n",
       "        1.38777327e+00, -8.06868156e-01,  1.21895470e+00, -3.65342662e-01,\n",
       "       -1.10554717e+00, -1.04061695e+00,  1.36180118e+00,  1.42673140e+00,\n",
       "        1.59554997e+00,  3.22917667e-01, -1.05360299e+00, -1.36526805e+00,\n",
       "        4.52778107e-01, -3.52356618e-01, -9.62700683e-01, -1.31332387e+00,\n",
       "        1.37478723e+00,  8.16387337e-01,  1.95915920e+00,  1.17999657e+00,\n",
       "       -7.93882112e-01, -2.77055191e-02,  2.05006151e+00,  1.12526127e-02,\n",
       "        2.51755909e+00, -1.15749134e+00, -8.19854200e-01, -1.32630991e+00,\n",
       "       -1.46915640e+00, -6.38049585e-01,  2.02408942e+00, -4.69231013e-01,\n",
       "       -9.26357388e-02, -1.01464486e+00, -1.39124013e+00, -4.82217057e-01,\n",
       "        1.45270349e+00, -8.45826288e-01,  6.47568766e-01, -3.26384530e-01,\n",
       "        3.87847887e-01,  1.15402448e+00, -1.11853321e+00, -7.54923980e-01,\n",
       "        1.69943833e+00, -1.14450530e+00, -6.51035629e-01,  6.21596678e-01,\n",
       "        1.46568953e+00, -7.54923980e-01,  1.01117800e+00,  3.74861843e-01,\n",
       "        5.02107446e-02,  1.05013613e+00, -1.19644947e+00,  8.68331513e-01,\n",
       "       -9.36728595e-01, -1.09256112e+00,  2.33575448e+00,  1.24492679e+00,\n",
       "       -8.84784420e-01,  6.21596678e-01, -1.26137969e+00, -8.71798376e-01,\n",
       "       -8.19854200e-01, -1.57304475e+00, -3.00412442e-01, -8.97770464e-01,\n",
       "        1.59554997e+00, -1.13151925e+00,  5.95624590e-01,  1.08909426e+00,\n",
       "        1.30985701e+00, -3.65342662e-01, -1.40422618e+00,  2.57987448e-01,\n",
       "       -4.95203101e-01, -1.31593871e-01, -5.60133321e-01,  3.61875799e-01,\n",
       "       -1.05621783e-01,  1.41113052e-01, -6.66636509e-02, -7.15965848e-01,\n",
       "        8.81317557e-01,  4.91736239e-01, -5.60133321e-01,  5.04722283e-01,\n",
       "       -3.91314750e-01,  1.01117800e+00,  1.16701052e+00,  1.24492679e+00,\n",
       "        1.25791283e+00,  5.17708327e-01, -2.74440354e-01,  1.10208030e+00,\n",
       "       -9.62700683e-01, -2.22496178e-01,  1.19298261e+00,  6.08610634e-01,\n",
       "        1.53061975e+00,  1.54099096e-01, -1.04061695e+00, -7.28951892e-01,\n",
       "        1.99811734e+00, -7.93882112e-01,  8.03401293e-01, -7.41937936e-01,\n",
       "        8.29373381e-01,  1.43971745e+00,  3.35903711e-01, -5.08189145e-01,\n",
       "        6.21596678e-01, -1.70552003e-01, -1.70552003e-01, -8.32840244e-01,\n",
       "       -5.36776070e-02, -8.32840244e-01,  1.17999657e+00, -1.05360299e+00,\n",
       "       -9.75686727e-01, -5.60133321e-01,  1.55659184e+00, -1.19644947e+00,\n",
       "       -1.27436574e+00,  8.94303601e-01, -8.06868156e-01,  2.06304756e+00,\n",
       "        1.67346624e+00,  3.87847887e-01,  2.19290800e+00, -1.22242156e+00,\n",
       "        1.42673140e+00,  6.99512942e-01,  1.05013613e+00,  1.16701052e+00,\n",
       "       -3.78328706e-01,  1.93057228e-01, -1.15749134e+00,  5.82638546e-01,\n",
       "       -1.05360299e+00,  2.06043272e-01, -1.57565959e-01,  8.42359425e-01,\n",
       "       -4.04300794e-01,  1.07610822e+00,  1.20596866e+00, -1.45617035e+00,\n",
       "       -1.30033783e+00, -6.25063541e-01, -2.61454310e-01, -8.32840244e-01,\n",
       "       -1.07957508e+00,  8.68331513e-01, -1.04061695e+00,  6.34582722e-01,\n",
       "       -5.47147277e-01, -1.31332387e+00,  1.62152206e+00, -1.15749134e+00,\n",
       "       -4.43258925e-01, -1.07957508e+00,  1.56957789e+00,  1.37478723e+00,\n",
       "       -1.41721222e+00,  5.95624590e-01,  1.16701052e+00,  1.03715008e+00,\n",
       "        2.96945580e-01, -7.67910024e-01,  2.06043272e-01,  1.59554997e+00,\n",
       "        1.82929877e+00,  1.67346624e+00, -1.04061695e+00, -1.57565959e-01,\n",
       "        4.78750195e-01,  3.74861843e-01,  7.38471074e-01, -2.09510134e-01,\n",
       "        1.41374536e+00, -5.08189145e-01, -2.74440354e-01,  2.83959536e-01,\n",
       "        1.36180118e+00, -1.26137969e+00, -8.84784420e-01, -1.43019827e+00,\n",
       "       -7.96496949e-02,  7.77429206e-01,  1.05013613e+00, -7.93882112e-01,\n",
       "       -5.34161233e-01, -1.73343121e-03, -4.17286837e-01, -1.10554717e+00,\n",
       "        2.05006151e+00, -7.54923980e-01,  4.00833931e-01, -1.11853321e+00,\n",
       "        2.70973492e-01, -1.04061695e+00, -1.33929596e+00, -1.14450530e+00,\n",
       "       -1.35228200e+00,  3.35903711e-01, -6.25063541e-01, -2.61454310e-01,\n",
       "        8.81317557e-01, -1.23540761e+00])"
      ]
     },
     "execution_count": 4,
     "metadata": {},
     "output_type": "execute_result"
    }
   ],
   "source": [
    "# Normalise the target data (this will make clearer training curves)\n",
    "targets = (targets - targets.mean(axis = 0)) / targets.std()\n",
    "targets"
   ]
  },
  {
   "cell_type": "code",
   "execution_count": 5,
   "metadata": {},
   "outputs": [
    {
     "name": "stdout",
     "output_type": "stream",
     "text": [
      "(397, 10)\n",
      "(45, 10)\n",
      "(397,)\n",
      "(45,)\n"
     ]
    }
   ],
   "source": [
    "# Split the data into train and test sets\n",
    "\n",
    "from sklearn.model_selection import train_test_split\n",
    "\n",
    "train_data, test_data, train_targets, test_targets = train_test_split(data, targets, test_size= 0.1)\n",
    "\n",
    "print(train_data.shape)\n",
    "print(test_data.shape)\n",
    "print(train_targets.shape)\n",
    "print(test_targets.shape)"
   ]
  },
  {
   "cell_type": "markdown",
   "metadata": {},
   "source": [
    "#### Train a feedforward neural network model"
   ]
  },
  {
   "cell_type": "code",
   "execution_count": 6,
   "metadata": {},
   "outputs": [],
   "source": [
    "# Build the model\n",
    "from tensorflow.keras.models import Sequential\n",
    "from tensorflow.keras.layers import Dense\n",
    "\n",
    "def get_model():\n",
    "    model = Sequential([\n",
    "        Dense(128, activation=\"relu\", input_shape=(train_data.shape[1],)),\n",
    "        Dense(128, activation=\"relu\"),\n",
    "        Dense(128, activation=\"relu\"),\n",
    "        Dense(128, activation=\"relu\"),\n",
    "        Dense(128, activation=\"relu\"),\n",
    "        Dense(128, activation=\"relu\"),\n",
    "        Dense(1)\n",
    "    ])\n",
    "    return model\n",
    "\n",
    "model = get_model()"
   ]
  },
  {
   "cell_type": "code",
   "execution_count": 7,
   "metadata": {},
   "outputs": [
    {
     "name": "stdout",
     "output_type": "stream",
     "text": [
      "Model: \"sequential\"\n",
      "_________________________________________________________________\n",
      " Layer (type)                Output Shape              Param #   \n",
      "=================================================================\n",
      " dense (Dense)               (None, 128)               1408      \n",
      "                                                                 \n",
      " dense_1 (Dense)             (None, 128)               16512     \n",
      "                                                                 \n",
      " dense_2 (Dense)             (None, 128)               16512     \n",
      "                                                                 \n",
      " dense_3 (Dense)             (None, 128)               16512     \n",
      "                                                                 \n",
      " dense_4 (Dense)             (None, 128)               16512     \n",
      "                                                                 \n",
      " dense_5 (Dense)             (None, 128)               16512     \n",
      "                                                                 \n",
      " dense_6 (Dense)             (None, 1)                 129       \n",
      "                                                                 \n",
      "=================================================================\n",
      "Total params: 84,097\n",
      "Trainable params: 84,097\n",
      "Non-trainable params: 0\n",
      "_________________________________________________________________\n"
     ]
    }
   ],
   "source": [
    "# Print the model summary\n",
    "model.summary()\n"
   ]
  },
  {
   "cell_type": "code",
   "execution_count": 8,
   "metadata": {},
   "outputs": [],
   "source": [
    "# Compile the model\n",
    "model.compile(optimizer=\"adam\", loss=\"mae\", metrics=[\"mae\"])\n"
   ]
  },
  {
   "cell_type": "code",
   "execution_count": 9,
   "metadata": {},
   "outputs": [
    {
     "name": "stdout",
     "output_type": "stream",
     "text": [
      "Epoch 1/100\n",
      "6/6 - 2s - loss: 0.8615 - mae: 0.8615 - val_loss: 0.7529 - val_mae: 0.7529 - 2s/epoch - 265ms/step\n",
      "Epoch 2/100\n",
      "6/6 - 0s - loss: 0.8222 - mae: 0.8222 - val_loss: 0.7067 - val_mae: 0.7067 - 75ms/epoch - 12ms/step\n",
      "Epoch 3/100\n",
      "6/6 - 0s - loss: 0.7446 - mae: 0.7446 - val_loss: 0.6401 - val_mae: 0.6401 - 74ms/epoch - 12ms/step\n",
      "Epoch 4/100\n",
      "6/6 - 0s - loss: 0.6812 - mae: 0.6812 - val_loss: 0.6175 - val_mae: 0.6175 - 77ms/epoch - 13ms/step\n",
      "Epoch 5/100\n",
      "6/6 - 0s - loss: 0.6419 - mae: 0.6419 - val_loss: 0.6006 - val_mae: 0.6006 - 77ms/epoch - 13ms/step\n",
      "Epoch 6/100\n",
      "6/6 - 0s - loss: 0.5553 - mae: 0.5553 - val_loss: 0.5829 - val_mae: 0.5829 - 79ms/epoch - 13ms/step\n",
      "Epoch 7/100\n",
      "6/6 - 0s - loss: 0.5367 - mae: 0.5367 - val_loss: 0.5969 - val_mae: 0.5969 - 75ms/epoch - 12ms/step\n",
      "Epoch 8/100\n",
      "6/6 - 0s - loss: 0.5245 - mae: 0.5245 - val_loss: 0.5749 - val_mae: 0.5749 - 104ms/epoch - 17ms/step\n",
      "Epoch 9/100\n",
      "6/6 - 0s - loss: 0.5088 - mae: 0.5088 - val_loss: 0.6936 - val_mae: 0.6936 - 86ms/epoch - 14ms/step\n",
      "Epoch 10/100\n",
      "6/6 - 0s - loss: 0.5437 - mae: 0.5437 - val_loss: 0.5995 - val_mae: 0.5995 - 89ms/epoch - 15ms/step\n",
      "Epoch 11/100\n",
      "6/6 - 0s - loss: 0.5046 - mae: 0.5046 - val_loss: 0.6334 - val_mae: 0.6334 - 81ms/epoch - 14ms/step\n",
      "Epoch 12/100\n",
      "6/6 - 0s - loss: 0.5097 - mae: 0.5097 - val_loss: 0.5772 - val_mae: 0.5772 - 74ms/epoch - 12ms/step\n",
      "Epoch 13/100\n",
      "6/6 - 0s - loss: 0.4943 - mae: 0.4943 - val_loss: 0.6280 - val_mae: 0.6280 - 77ms/epoch - 13ms/step\n",
      "Epoch 14/100\n",
      "6/6 - 0s - loss: 0.4914 - mae: 0.4914 - val_loss: 0.5624 - val_mae: 0.5624 - 81ms/epoch - 13ms/step\n",
      "Epoch 15/100\n",
      "6/6 - 0s - loss: 0.5004 - mae: 0.5004 - val_loss: 0.6023 - val_mae: 0.6023 - 66ms/epoch - 11ms/step\n",
      "Epoch 16/100\n",
      "6/6 - 0s - loss: 0.4793 - mae: 0.4793 - val_loss: 0.5940 - val_mae: 0.5940 - 100ms/epoch - 17ms/step\n",
      "Epoch 17/100\n",
      "6/6 - 0s - loss: 0.4892 - mae: 0.4892 - val_loss: 0.5682 - val_mae: 0.5682 - 73ms/epoch - 12ms/step\n",
      "Epoch 18/100\n",
      "6/6 - 0s - loss: 0.4748 - mae: 0.4748 - val_loss: 0.5879 - val_mae: 0.5879 - 76ms/epoch - 13ms/step\n",
      "Epoch 19/100\n",
      "6/6 - 0s - loss: 0.4643 - mae: 0.4643 - val_loss: 0.5983 - val_mae: 0.5983 - 70ms/epoch - 12ms/step\n",
      "Epoch 20/100\n",
      "6/6 - 0s - loss: 0.4582 - mae: 0.4582 - val_loss: 0.5936 - val_mae: 0.5936 - 64ms/epoch - 11ms/step\n",
      "Epoch 21/100\n",
      "6/6 - 0s - loss: 0.4587 - mae: 0.4587 - val_loss: 0.6069 - val_mae: 0.6069 - 62ms/epoch - 10ms/step\n",
      "Epoch 22/100\n",
      "6/6 - 0s - loss: 0.4498 - mae: 0.4498 - val_loss: 0.5848 - val_mae: 0.5848 - 63ms/epoch - 11ms/step\n",
      "Epoch 23/100\n",
      "6/6 - 0s - loss: 0.4409 - mae: 0.4409 - val_loss: 0.6063 - val_mae: 0.6063 - 58ms/epoch - 10ms/step\n",
      "Epoch 24/100\n",
      "6/6 - 0s - loss: 0.4457 - mae: 0.4457 - val_loss: 0.6066 - val_mae: 0.6066 - 59ms/epoch - 10ms/step\n",
      "Epoch 25/100\n",
      "6/6 - 0s - loss: 0.4471 - mae: 0.4471 - val_loss: 0.5828 - val_mae: 0.5828 - 57ms/epoch - 10ms/step\n",
      "Epoch 26/100\n",
      "6/6 - 0s - loss: 0.4363 - mae: 0.4363 - val_loss: 0.5902 - val_mae: 0.5902 - 57ms/epoch - 10ms/step\n",
      "Epoch 27/100\n",
      "6/6 - 0s - loss: 0.4424 - mae: 0.4424 - val_loss: 0.6247 - val_mae: 0.6247 - 59ms/epoch - 10ms/step\n",
      "Epoch 28/100\n",
      "6/6 - 0s - loss: 0.4276 - mae: 0.4276 - val_loss: 0.6149 - val_mae: 0.6149 - 58ms/epoch - 10ms/step\n",
      "Epoch 29/100\n",
      "6/6 - 0s - loss: 0.4274 - mae: 0.4274 - val_loss: 0.6188 - val_mae: 0.6188 - 59ms/epoch - 10ms/step\n",
      "Epoch 30/100\n",
      "6/6 - 0s - loss: 0.4346 - mae: 0.4346 - val_loss: 0.5859 - val_mae: 0.5859 - 54ms/epoch - 9ms/step\n",
      "Epoch 31/100\n",
      "6/6 - 0s - loss: 0.4175 - mae: 0.4175 - val_loss: 0.5992 - val_mae: 0.5992 - 62ms/epoch - 10ms/step\n",
      "Epoch 32/100\n",
      "6/6 - 0s - loss: 0.4118 - mae: 0.4118 - val_loss: 0.5893 - val_mae: 0.5893 - 63ms/epoch - 10ms/step\n",
      "Epoch 33/100\n",
      "6/6 - 0s - loss: 0.4164 - mae: 0.4164 - val_loss: 0.6568 - val_mae: 0.6568 - 62ms/epoch - 10ms/step\n",
      "Epoch 34/100\n",
      "6/6 - 0s - loss: 0.4541 - mae: 0.4541 - val_loss: 0.5990 - val_mae: 0.5990 - 57ms/epoch - 10ms/step\n",
      "Epoch 35/100\n",
      "6/6 - 0s - loss: 0.4655 - mae: 0.4655 - val_loss: 0.6513 - val_mae: 0.6513 - 54ms/epoch - 9ms/step\n",
      "Epoch 36/100\n",
      "6/6 - 0s - loss: 0.4389 - mae: 0.4389 - val_loss: 0.5939 - val_mae: 0.5939 - 56ms/epoch - 9ms/step\n",
      "Epoch 37/100\n",
      "6/6 - 0s - loss: 0.4510 - mae: 0.4510 - val_loss: 0.6331 - val_mae: 0.6331 - 56ms/epoch - 9ms/step\n",
      "Epoch 38/100\n",
      "6/6 - 0s - loss: 0.4261 - mae: 0.4261 - val_loss: 0.6604 - val_mae: 0.6604 - 55ms/epoch - 9ms/step\n",
      "Epoch 39/100\n",
      "6/6 - 0s - loss: 0.4715 - mae: 0.4715 - val_loss: 0.5761 - val_mae: 0.5761 - 58ms/epoch - 10ms/step\n",
      "Epoch 40/100\n",
      "6/6 - 0s - loss: 0.4306 - mae: 0.4306 - val_loss: 0.6741 - val_mae: 0.6741 - 55ms/epoch - 9ms/step\n",
      "Epoch 41/100\n",
      "6/6 - 0s - loss: 0.4126 - mae: 0.4126 - val_loss: 0.6212 - val_mae: 0.6212 - 60ms/epoch - 10ms/step\n",
      "Epoch 42/100\n",
      "6/6 - 0s - loss: 0.4134 - mae: 0.4134 - val_loss: 0.6191 - val_mae: 0.6191 - 57ms/epoch - 10ms/step\n",
      "Epoch 43/100\n",
      "6/6 - 0s - loss: 0.4029 - mae: 0.4029 - val_loss: 0.6381 - val_mae: 0.6381 - 60ms/epoch - 10ms/step\n",
      "Epoch 44/100\n",
      "6/6 - 0s - loss: 0.3882 - mae: 0.3882 - val_loss: 0.6050 - val_mae: 0.6050 - 57ms/epoch - 10ms/step\n",
      "Epoch 45/100\n",
      "6/6 - 0s - loss: 0.3856 - mae: 0.3856 - val_loss: 0.6175 - val_mae: 0.6175 - 59ms/epoch - 10ms/step\n",
      "Epoch 46/100\n",
      "6/6 - 0s - loss: 0.3831 - mae: 0.3831 - val_loss: 0.6172 - val_mae: 0.6172 - 57ms/epoch - 9ms/step\n",
      "Epoch 47/100\n",
      "6/6 - 0s - loss: 0.3792 - mae: 0.3792 - val_loss: 0.6175 - val_mae: 0.6175 - 52ms/epoch - 9ms/step\n",
      "Epoch 48/100\n",
      "6/6 - 0s - loss: 0.3598 - mae: 0.3598 - val_loss: 0.6346 - val_mae: 0.6346 - 53ms/epoch - 9ms/step\n",
      "Epoch 49/100\n",
      "6/6 - 0s - loss: 0.3736 - mae: 0.3736 - val_loss: 0.6042 - val_mae: 0.6042 - 62ms/epoch - 10ms/step\n",
      "Epoch 50/100\n",
      "6/6 - 0s - loss: 0.3706 - mae: 0.3706 - val_loss: 0.6461 - val_mae: 0.6461 - 65ms/epoch - 11ms/step\n",
      "Epoch 51/100\n",
      "6/6 - 0s - loss: 0.3641 - mae: 0.3641 - val_loss: 0.6607 - val_mae: 0.6607 - 60ms/epoch - 10ms/step\n",
      "Epoch 52/100\n",
      "6/6 - 0s - loss: 0.3767 - mae: 0.3767 - val_loss: 0.6143 - val_mae: 0.6143 - 90ms/epoch - 15ms/step\n",
      "Epoch 53/100\n",
      "6/6 - 0s - loss: 0.3678 - mae: 0.3678 - val_loss: 0.6465 - val_mae: 0.6465 - 65ms/epoch - 11ms/step\n",
      "Epoch 54/100\n",
      "6/6 - 0s - loss: 0.3532 - mae: 0.3532 - val_loss: 0.6678 - val_mae: 0.6678 - 58ms/epoch - 10ms/step\n",
      "Epoch 55/100\n",
      "6/6 - 0s - loss: 0.3540 - mae: 0.3540 - val_loss: 0.6062 - val_mae: 0.6062 - 61ms/epoch - 10ms/step\n",
      "Epoch 56/100\n",
      "6/6 - 0s - loss: 0.3606 - mae: 0.3606 - val_loss: 0.6227 - val_mae: 0.6227 - 57ms/epoch - 10ms/step\n",
      "Epoch 57/100\n",
      "6/6 - 0s - loss: 0.3767 - mae: 0.3767 - val_loss: 0.6211 - val_mae: 0.6211 - 54ms/epoch - 9ms/step\n",
      "Epoch 58/100\n",
      "6/6 - 0s - loss: 0.3740 - mae: 0.3740 - val_loss: 0.6922 - val_mae: 0.6922 - 56ms/epoch - 9ms/step\n",
      "Epoch 59/100\n",
      "6/6 - 0s - loss: 0.3756 - mae: 0.3756 - val_loss: 0.6095 - val_mae: 0.6095 - 56ms/epoch - 9ms/step\n",
      "Epoch 60/100\n",
      "6/6 - 0s - loss: 0.3571 - mae: 0.3571 - val_loss: 0.6595 - val_mae: 0.6595 - 55ms/epoch - 9ms/step\n",
      "Epoch 61/100\n",
      "6/6 - 0s - loss: 0.3975 - mae: 0.3975 - val_loss: 0.6401 - val_mae: 0.6401 - 64ms/epoch - 11ms/step\n",
      "Epoch 62/100\n",
      "6/6 - 0s - loss: 0.3733 - mae: 0.3733 - val_loss: 0.6531 - val_mae: 0.6531 - 59ms/epoch - 10ms/step\n",
      "Epoch 63/100\n",
      "6/6 - 0s - loss: 0.3545 - mae: 0.3545 - val_loss: 0.6331 - val_mae: 0.6331 - 63ms/epoch - 10ms/step\n",
      "Epoch 64/100\n",
      "6/6 - 0s - loss: 0.3420 - mae: 0.3420 - val_loss: 0.6203 - val_mae: 0.6203 - 66ms/epoch - 11ms/step\n",
      "Epoch 65/100\n",
      "6/6 - 0s - loss: 0.3611 - mae: 0.3611 - val_loss: 0.6478 - val_mae: 0.6478 - 61ms/epoch - 10ms/step\n",
      "Epoch 66/100\n",
      "6/6 - 0s - loss: 0.3350 - mae: 0.3350 - val_loss: 0.6848 - val_mae: 0.6848 - 63ms/epoch - 10ms/step\n",
      "Epoch 67/100\n",
      "6/6 - 0s - loss: 0.3260 - mae: 0.3260 - val_loss: 0.6456 - val_mae: 0.6456 - 57ms/epoch - 10ms/step\n",
      "Epoch 68/100\n",
      "6/6 - 0s - loss: 0.3314 - mae: 0.3314 - val_loss: 0.6200 - val_mae: 0.6200 - 56ms/epoch - 9ms/step\n",
      "Epoch 69/100\n",
      "6/6 - 0s - loss: 0.3328 - mae: 0.3328 - val_loss: 0.5876 - val_mae: 0.5876 - 60ms/epoch - 10ms/step\n",
      "Epoch 70/100\n",
      "6/6 - 0s - loss: 0.3345 - mae: 0.3345 - val_loss: 0.6795 - val_mae: 0.6795 - 60ms/epoch - 10ms/step\n",
      "Epoch 71/100\n",
      "6/6 - 0s - loss: 0.3243 - mae: 0.3243 - val_loss: 0.6227 - val_mae: 0.6227 - 62ms/epoch - 10ms/step\n",
      "Epoch 72/100\n",
      "6/6 - 0s - loss: 0.3198 - mae: 0.3198 - val_loss: 0.6426 - val_mae: 0.6426 - 56ms/epoch - 9ms/step\n",
      "Epoch 73/100\n",
      "6/6 - 0s - loss: 0.3035 - mae: 0.3035 - val_loss: 0.7202 - val_mae: 0.7202 - 51ms/epoch - 9ms/step\n"
     ]
    },
    {
     "name": "stdout",
     "output_type": "stream",
     "text": [
      "Epoch 74/100\n",
      "6/6 - 0s - loss: 0.3760 - mae: 0.3760 - val_loss: 0.5951 - val_mae: 0.5951 - 69ms/epoch - 11ms/step\n",
      "Epoch 75/100\n",
      "6/6 - 0s - loss: 0.3720 - mae: 0.3720 - val_loss: 0.6775 - val_mae: 0.6775 - 57ms/epoch - 9ms/step\n",
      "Epoch 76/100\n",
      "6/6 - 0s - loss: 0.3161 - mae: 0.3161 - val_loss: 0.7288 - val_mae: 0.7288 - 54ms/epoch - 9ms/step\n",
      "Epoch 77/100\n",
      "6/6 - 0s - loss: 0.3438 - mae: 0.3438 - val_loss: 0.5757 - val_mae: 0.5757 - 56ms/epoch - 9ms/step\n",
      "Epoch 78/100\n",
      "6/6 - 0s - loss: 0.3479 - mae: 0.3479 - val_loss: 0.6329 - val_mae: 0.6329 - 53ms/epoch - 9ms/step\n",
      "Epoch 79/100\n",
      "6/6 - 0s - loss: 0.3097 - mae: 0.3097 - val_loss: 0.6843 - val_mae: 0.6843 - 54ms/epoch - 9ms/step\n",
      "Epoch 80/100\n",
      "6/6 - 0s - loss: 0.2878 - mae: 0.2878 - val_loss: 0.6387 - val_mae: 0.6387 - 57ms/epoch - 10ms/step\n",
      "Epoch 81/100\n",
      "6/6 - 0s - loss: 0.2959 - mae: 0.2959 - val_loss: 0.6212 - val_mae: 0.6212 - 57ms/epoch - 9ms/step\n",
      "Epoch 82/100\n",
      "6/6 - 0s - loss: 0.2652 - mae: 0.2652 - val_loss: 0.6715 - val_mae: 0.6715 - 59ms/epoch - 10ms/step\n",
      "Epoch 83/100\n",
      "6/6 - 0s - loss: 0.2616 - mae: 0.2616 - val_loss: 0.6104 - val_mae: 0.6104 - 57ms/epoch - 9ms/step\n",
      "Epoch 84/100\n",
      "6/6 - 0s - loss: 0.2691 - mae: 0.2691 - val_loss: 0.6081 - val_mae: 0.6081 - 55ms/epoch - 9ms/step\n",
      "Epoch 85/100\n",
      "6/6 - 0s - loss: 0.3103 - mae: 0.3103 - val_loss: 0.6856 - val_mae: 0.6856 - 56ms/epoch - 9ms/step\n",
      "Epoch 86/100\n",
      "6/6 - 0s - loss: 0.2715 - mae: 0.2715 - val_loss: 0.6769 - val_mae: 0.6769 - 58ms/epoch - 10ms/step\n",
      "Epoch 87/100\n",
      "6/6 - 0s - loss: 0.2675 - mae: 0.2675 - val_loss: 0.6401 - val_mae: 0.6401 - 54ms/epoch - 9ms/step\n",
      "Epoch 88/100\n",
      "6/6 - 0s - loss: 0.2403 - mae: 0.2403 - val_loss: 0.7120 - val_mae: 0.7120 - 56ms/epoch - 9ms/step\n",
      "Epoch 89/100\n",
      "6/6 - 0s - loss: 0.2614 - mae: 0.2614 - val_loss: 0.6365 - val_mae: 0.6365 - 56ms/epoch - 9ms/step\n",
      "Epoch 90/100\n",
      "6/6 - 0s - loss: 0.2557 - mae: 0.2557 - val_loss: 0.6156 - val_mae: 0.6156 - 55ms/epoch - 9ms/step\n",
      "Epoch 91/100\n",
      "6/6 - 0s - loss: 0.2694 - mae: 0.2694 - val_loss: 0.6378 - val_mae: 0.6378 - 52ms/epoch - 9ms/step\n",
      "Epoch 92/100\n",
      "6/6 - 0s - loss: 0.2736 - mae: 0.2736 - val_loss: 0.6209 - val_mae: 0.6209 - 60ms/epoch - 10ms/step\n",
      "Epoch 93/100\n",
      "6/6 - 0s - loss: 0.2377 - mae: 0.2377 - val_loss: 0.6326 - val_mae: 0.6326 - 64ms/epoch - 11ms/step\n",
      "Epoch 94/100\n",
      "6/6 - 0s - loss: 0.2471 - mae: 0.2471 - val_loss: 0.7011 - val_mae: 0.7011 - 60ms/epoch - 10ms/step\n",
      "Epoch 95/100\n",
      "6/6 - 0s - loss: 0.2517 - mae: 0.2517 - val_loss: 0.6952 - val_mae: 0.6952 - 62ms/epoch - 10ms/step\n",
      "Epoch 96/100\n",
      "6/6 - 0s - loss: 0.2805 - mae: 0.2805 - val_loss: 0.7943 - val_mae: 0.7943 - 60ms/epoch - 10ms/step\n",
      "Epoch 97/100\n",
      "6/6 - 0s - loss: 0.2903 - mae: 0.2903 - val_loss: 0.6156 - val_mae: 0.6156 - 59ms/epoch - 10ms/step\n",
      "Epoch 98/100\n",
      "6/6 - 0s - loss: 0.2599 - mae: 0.2599 - val_loss: 0.6614 - val_mae: 0.6614 - 59ms/epoch - 10ms/step\n",
      "Epoch 99/100\n",
      "6/6 - 0s - loss: 0.2562 - mae: 0.2562 - val_loss: 0.6103 - val_mae: 0.6103 - 61ms/epoch - 10ms/step\n",
      "Epoch 100/100\n",
      "6/6 - 0s - loss: 0.2400 - mae: 0.2400 - val_loss: 0.6197 - val_mae: 0.6197 - 60ms/epoch - 10ms/step\n"
     ]
    }
   ],
   "source": [
    "# Train the model, with some of the data reserved for validation\n",
    "history = model.fit(train_data, train_targets, epochs=100, validation_split=0.15, batch_size=64, verbose = 2)\n"
   ]
  },
  {
   "cell_type": "code",
   "execution_count": 10,
   "metadata": {},
   "outputs": [
    {
     "name": "stdout",
     "output_type": "stream",
     "text": [
      "2/2 - 0s - loss: 0.7669 - mae: 0.7669 - 35ms/epoch - 17ms/step\n"
     ]
    },
    {
     "data": {
      "text/plain": [
       "[0.766862154006958, 0.766862154006958]"
      ]
     },
     "execution_count": 10,
     "metadata": {},
     "output_type": "execute_result"
    }
   ],
   "source": [
    "# Evaluate the model on the test set\n",
    "model.evaluate(test_data, test_targets, verbose=2)\n"
   ]
  },
  {
   "cell_type": "markdown",
   "metadata": {},
   "source": [
    "#### Plot the learning curves"
   ]
  },
  {
   "cell_type": "code",
   "execution_count": 11,
   "metadata": {},
   "outputs": [],
   "source": [
    "import matplotlib.pyplot as plt\n",
    "%matplotlib inline"
   ]
  },
  {
   "cell_type": "code",
   "execution_count": 12,
   "metadata": {},
   "outputs": [
    {
     "data": {
      "image/png": "[encoded data removed]",
      "text/plain": [
       "<Figure size 640x480 with 1 Axes>"
      ]
     },
     "metadata": {},
     "output_type": "display_data"
    }
   ],
   "source": [
    "# Plot the training and validation loss\n",
    "\n",
    "plt.plot(history.history['loss'])\n",
    "plt.plot(history.history['val_loss'])\n",
    "plt.title('Loss vs. epochs')\n",
    "plt.ylabel('Loss')\n",
    "plt.xlabel('Epoch')\n",
    "plt.legend(['Training', 'Validation'], loc='upper right')\n",
    "plt.show()"
   ]
  },
  {
   "cell_type": "markdown",
   "metadata": {},
   "source": [
    "***\n",
    "<a id=\"coding_tutorial_2\"></a>\n",
    "## Model regularisation"
   ]
  },
  {
   "cell_type": "markdown",
   "metadata": {},
   "source": [
    "#### Adding regularisation with weight decay and dropout"
   ]
  },
  {
   "cell_type": "code",
   "execution_count": 13,
   "metadata": {},
   "outputs": [],
   "source": [
    "from tensorflow.keras.layers import Dropout\n",
    "from tensorflow.keras import regularizers"
   ]
  },
  {
   "cell_type": "code",
   "execution_count": 14,
   "metadata": {},
   "outputs": [],
   "source": [
    "def get_regularised_model(wd, rate):\n",
    "    model = Sequential([\n",
    "        Dense(128, kernel_regularizer = regularizers.l2(wd), activation=\"relu\", input_shape=(train_data.shape[1],)),\n",
    "        Dropout(rate),\n",
    "        Dense(128, kernel_regularizer = regularizers.l2(wd), activation=\"relu\"),\n",
    "        Dropout(rate),\n",
    "        Dense(128, kernel_regularizer = regularizers.l2(wd), activation=\"relu\"),\n",
    "        Dropout(rate),\n",
    "        Dense(128, kernel_regularizer = regularizers.l2(wd), activation=\"relu\"),\n",
    "        Dropout(rate),\n",
    "        Dense(128, kernel_regularizer = regularizers.l2(wd), activation=\"relu\"),\n",
    "        Dropout(rate),\n",
    "        Dense(128, kernel_regularizer = regularizers.l2(wd), activation=\"relu\"),\n",
    "        Dropout(rate),\n",
    "        Dense(1)\n",
    "    ])\n",
    "    return model"
   ]
  },
  {
   "cell_type": "code",
   "execution_count": 15,
   "metadata": {},
   "outputs": [],
   "source": [
    "# Re-build the model with weight decay and dropout layers\n",
    "model = get_regularised_model(1e-5, 0.3)\n"
   ]
  },
  {
   "cell_type": "code",
   "execution_count": 16,
   "metadata": {},
   "outputs": [],
   "source": [
    "# Compile the model\n",
    "model.compile(optimizer=\"adam\", loss=\"mae\", metrics=[\"mae\"])\n"
   ]
  },
  {
   "cell_type": "code",
   "execution_count": 17,
   "metadata": {},
   "outputs": [
    {
     "name": "stdout",
     "output_type": "stream",
     "text": [
      "Epoch 1/100\n",
      "6/6 - 2s - loss: 0.8758 - mae: 0.8692 - val_loss: 0.7741 - val_mae: 0.7675 - 2s/epoch - 277ms/step\n",
      "Epoch 2/100\n",
      "6/6 - 0s - loss: 0.8695 - mae: 0.8630 - val_loss: 0.7679 - val_mae: 0.7613 - 87ms/epoch - 14ms/step\n",
      "Epoch 3/100\n",
      "6/6 - 0s - loss: 0.8590 - mae: 0.8525 - val_loss: 0.7511 - val_mae: 0.7446 - 74ms/epoch - 12ms/step\n",
      "Epoch 4/100\n",
      "6/6 - 0s - loss: 0.8300 - mae: 0.8235 - val_loss: 0.7195 - val_mae: 0.7130 - 77ms/epoch - 13ms/step\n",
      "Epoch 5/100\n",
      "6/6 - 0s - loss: 0.7786 - mae: 0.7721 - val_loss: 0.6568 - val_mae: 0.6503 - 70ms/epoch - 12ms/step\n",
      "Epoch 6/100\n",
      "6/6 - 0s - loss: 0.6603 - mae: 0.6538 - val_loss: 0.6911 - val_mae: 0.6845 - 83ms/epoch - 14ms/step\n",
      "Epoch 7/100\n",
      "6/6 - 0s - loss: 0.7090 - mae: 0.7025 - val_loss: 0.6720 - val_mae: 0.6655 - 75ms/epoch - 13ms/step\n",
      "Epoch 8/100\n",
      "6/6 - 0s - loss: 0.6289 - mae: 0.6224 - val_loss: 0.6214 - val_mae: 0.6149 - 71ms/epoch - 12ms/step\n",
      "Epoch 9/100\n",
      "6/6 - 0s - loss: 0.6014 - mae: 0.5949 - val_loss: 0.5945 - val_mae: 0.5880 - 66ms/epoch - 11ms/step\n",
      "Epoch 10/100\n",
      "6/6 - 0s - loss: 0.5939 - mae: 0.5875 - val_loss: 0.6653 - val_mae: 0.6588 - 60ms/epoch - 10ms/step\n",
      "Epoch 11/100\n",
      "6/6 - 0s - loss: 0.5922 - mae: 0.5857 - val_loss: 0.6247 - val_mae: 0.6182 - 64ms/epoch - 11ms/step\n",
      "Epoch 12/100\n",
      "6/6 - 0s - loss: 0.6175 - mae: 0.6110 - val_loss: 0.6054 - val_mae: 0.5989 - 66ms/epoch - 11ms/step\n",
      "Epoch 13/100\n",
      "6/6 - 0s - loss: 0.5894 - mae: 0.5830 - val_loss: 0.6707 - val_mae: 0.6642 - 70ms/epoch - 12ms/step\n",
      "Epoch 14/100\n",
      "6/6 - 0s - loss: 0.5757 - mae: 0.5693 - val_loss: 0.6061 - val_mae: 0.5996 - 61ms/epoch - 10ms/step\n",
      "Epoch 15/100\n",
      "6/6 - 0s - loss: 0.6062 - mae: 0.5998 - val_loss: 0.6202 - val_mae: 0.6138 - 65ms/epoch - 11ms/step\n",
      "Epoch 16/100\n",
      "6/6 - 0s - loss: 0.5991 - mae: 0.5926 - val_loss: 0.6481 - val_mae: 0.6417 - 98ms/epoch - 16ms/step\n",
      "Epoch 17/100\n",
      "6/6 - 0s - loss: 0.5606 - mae: 0.5541 - val_loss: 0.6160 - val_mae: 0.6095 - 78ms/epoch - 13ms/step\n",
      "Epoch 18/100\n",
      "6/6 - 0s - loss: 0.5595 - mae: 0.5531 - val_loss: 0.5911 - val_mae: 0.5847 - 72ms/epoch - 12ms/step\n",
      "Epoch 19/100\n",
      "6/6 - 0s - loss: 0.5682 - mae: 0.5617 - val_loss: 0.6218 - val_mae: 0.6153 - 68ms/epoch - 11ms/step\n",
      "Epoch 20/100\n",
      "6/6 - 0s - loss: 0.5455 - mae: 0.5391 - val_loss: 0.6049 - val_mae: 0.5985 - 65ms/epoch - 11ms/step\n",
      "Epoch 21/100\n",
      "6/6 - 0s - loss: 0.5870 - mae: 0.5805 - val_loss: 0.5985 - val_mae: 0.5920 - 91ms/epoch - 15ms/step\n",
      "Epoch 22/100\n",
      "6/6 - 0s - loss: 0.5548 - mae: 0.5483 - val_loss: 0.6092 - val_mae: 0.6028 - 90ms/epoch - 15ms/step\n",
      "Epoch 23/100\n",
      "6/6 - 0s - loss: 0.5674 - mae: 0.5610 - val_loss: 0.6192 - val_mae: 0.6128 - 78ms/epoch - 13ms/step\n",
      "Epoch 24/100\n",
      "6/6 - 0s - loss: 0.5501 - mae: 0.5437 - val_loss: 0.6097 - val_mae: 0.6033 - 127ms/epoch - 21ms/step\n",
      "Epoch 25/100\n",
      "6/6 - 0s - loss: 0.5463 - mae: 0.5399 - val_loss: 0.6163 - val_mae: 0.6099 - 78ms/epoch - 13ms/step\n",
      "Epoch 26/100\n",
      "6/6 - 0s - loss: 0.5429 - mae: 0.5364 - val_loss: 0.6257 - val_mae: 0.6193 - 80ms/epoch - 13ms/step\n",
      "Epoch 27/100\n",
      "6/6 - 0s - loss: 0.5666 - mae: 0.5601 - val_loss: 0.6299 - val_mae: 0.6235 - 83ms/epoch - 14ms/step\n",
      "Epoch 28/100\n",
      "6/6 - 0s - loss: 0.5580 - mae: 0.5516 - val_loss: 0.5786 - val_mae: 0.5722 - 80ms/epoch - 13ms/step\n",
      "Epoch 29/100\n",
      "6/6 - 0s - loss: 0.5479 - mae: 0.5415 - val_loss: 0.5816 - val_mae: 0.5752 - 75ms/epoch - 13ms/step\n",
      "Epoch 30/100\n",
      "6/6 - 0s - loss: 0.5425 - mae: 0.5361 - val_loss: 0.6242 - val_mae: 0.6178 - 72ms/epoch - 12ms/step\n",
      "Epoch 31/100\n",
      "6/6 - 0s - loss: 0.5328 - mae: 0.5264 - val_loss: 0.5859 - val_mae: 0.5795 - 74ms/epoch - 12ms/step\n",
      "Epoch 32/100\n",
      "6/6 - 0s - loss: 0.5441 - mae: 0.5377 - val_loss: 0.6122 - val_mae: 0.6059 - 77ms/epoch - 13ms/step\n",
      "Epoch 33/100\n",
      "6/6 - 0s - loss: 0.5255 - mae: 0.5191 - val_loss: 0.6543 - val_mae: 0.6479 - 79ms/epoch - 13ms/step\n",
      "Epoch 34/100\n",
      "6/6 - 0s - loss: 0.5387 - mae: 0.5323 - val_loss: 0.5927 - val_mae: 0.5863 - 87ms/epoch - 15ms/step\n",
      "Epoch 35/100\n",
      "6/6 - 0s - loss: 0.5291 - mae: 0.5227 - val_loss: 0.6068 - val_mae: 0.6004 - 86ms/epoch - 14ms/step\n",
      "Epoch 36/100\n",
      "6/6 - 0s - loss: 0.5540 - mae: 0.5476 - val_loss: 0.6376 - val_mae: 0.6312 - 94ms/epoch - 16ms/step\n",
      "Epoch 37/100\n",
      "6/6 - 0s - loss: 0.5391 - mae: 0.5328 - val_loss: 0.6072 - val_mae: 0.6008 - 100ms/epoch - 17ms/step\n",
      "Epoch 38/100\n",
      "6/6 - 0s - loss: 0.5244 - mae: 0.5181 - val_loss: 0.6137 - val_mae: 0.6073 - 105ms/epoch - 18ms/step\n",
      "Epoch 39/100\n",
      "6/6 - 0s - loss: 0.5502 - mae: 0.5438 - val_loss: 0.6227 - val_mae: 0.6163 - 105ms/epoch - 17ms/step\n",
      "Epoch 40/100\n",
      "6/6 - 0s - loss: 0.5386 - mae: 0.5323 - val_loss: 0.6229 - val_mae: 0.6165 - 75ms/epoch - 13ms/step\n",
      "Epoch 41/100\n",
      "6/6 - 0s - loss: 0.5278 - mae: 0.5214 - val_loss: 0.6082 - val_mae: 0.6018 - 76ms/epoch - 13ms/step\n",
      "Epoch 42/100\n",
      "6/6 - 0s - loss: 0.5112 - mae: 0.5048 - val_loss: 0.6210 - val_mae: 0.6146 - 79ms/epoch - 13ms/step\n",
      "Epoch 43/100\n",
      "6/6 - 0s - loss: 0.5292 - mae: 0.5228 - val_loss: 0.6162 - val_mae: 0.6098 - 100ms/epoch - 17ms/step\n",
      "Epoch 44/100\n",
      "6/6 - 0s - loss: 0.5304 - mae: 0.5240 - val_loss: 0.6186 - val_mae: 0.6122 - 118ms/epoch - 20ms/step\n",
      "Epoch 45/100\n",
      "6/6 - 0s - loss: 0.5176 - mae: 0.5112 - val_loss: 0.6200 - val_mae: 0.6136 - 91ms/epoch - 15ms/step\n",
      "Epoch 46/100\n",
      "6/6 - 0s - loss: 0.5048 - mae: 0.4985 - val_loss: 0.6351 - val_mae: 0.6288 - 84ms/epoch - 14ms/step\n",
      "Epoch 47/100\n",
      "6/6 - 0s - loss: 0.5249 - mae: 0.5185 - val_loss: 0.6265 - val_mae: 0.6201 - 75ms/epoch - 13ms/step\n",
      "Epoch 48/100\n",
      "6/6 - 0s - loss: 0.5173 - mae: 0.5109 - val_loss: 0.6090 - val_mae: 0.6027 - 75ms/epoch - 12ms/step\n",
      "Epoch 49/100\n",
      "6/6 - 0s - loss: 0.5208 - mae: 0.5145 - val_loss: 0.6020 - val_mae: 0.5957 - 73ms/epoch - 12ms/step\n",
      "Epoch 50/100\n",
      "6/6 - 0s - loss: 0.4955 - mae: 0.4892 - val_loss: 0.6182 - val_mae: 0.6118 - 77ms/epoch - 13ms/step\n",
      "Epoch 51/100\n",
      "6/6 - 0s - loss: 0.5061 - mae: 0.4998 - val_loss: 0.6314 - val_mae: 0.6251 - 70ms/epoch - 12ms/step\n",
      "Epoch 52/100\n",
      "6/6 - 0s - loss: 0.4970 - mae: 0.4907 - val_loss: 0.6099 - val_mae: 0.6035 - 79ms/epoch - 13ms/step\n",
      "Epoch 53/100\n",
      "6/6 - 0s - loss: 0.5338 - mae: 0.5274 - val_loss: 0.6135 - val_mae: 0.6072 - 78ms/epoch - 13ms/step\n",
      "Epoch 54/100\n",
      "6/6 - 0s - loss: 0.4935 - mae: 0.4872 - val_loss: 0.5986 - val_mae: 0.5923 - 71ms/epoch - 12ms/step\n",
      "Epoch 55/100\n",
      "6/6 - 0s - loss: 0.4931 - mae: 0.4868 - val_loss: 0.6593 - val_mae: 0.6530 - 85ms/epoch - 14ms/step\n",
      "Epoch 56/100\n",
      "6/6 - 0s - loss: 0.5302 - mae: 0.5239 - val_loss: 0.6300 - val_mae: 0.6237 - 81ms/epoch - 13ms/step\n",
      "Epoch 57/100\n",
      "6/6 - 0s - loss: 0.4877 - mae: 0.4813 - val_loss: 0.6338 - val_mae: 0.6275 - 78ms/epoch - 13ms/step\n",
      "Epoch 58/100\n",
      "6/6 - 0s - loss: 0.5121 - mae: 0.5058 - val_loss: 0.5859 - val_mae: 0.5796 - 68ms/epoch - 11ms/step\n",
      "Epoch 59/100\n",
      "6/6 - 0s - loss: 0.5013 - mae: 0.4949 - val_loss: 0.5912 - val_mae: 0.5848 - 67ms/epoch - 11ms/step\n",
      "Epoch 60/100\n",
      "6/6 - 0s - loss: 0.4973 - mae: 0.4909 - val_loss: 0.6050 - val_mae: 0.5987 - 93ms/epoch - 16ms/step\n",
      "Epoch 61/100\n",
      "6/6 - 0s - loss: 0.4973 - mae: 0.4910 - val_loss: 0.6108 - val_mae: 0.6045 - 91ms/epoch - 15ms/step\n",
      "Epoch 62/100\n",
      "6/6 - 0s - loss: 0.5187 - mae: 0.5123 - val_loss: 0.6076 - val_mae: 0.6013 - 69ms/epoch - 12ms/step\n",
      "Epoch 63/100\n",
      "6/6 - 0s - loss: 0.4954 - mae: 0.4890 - val_loss: 0.5896 - val_mae: 0.5833 - 64ms/epoch - 11ms/step\n",
      "Epoch 64/100\n",
      "6/6 - 0s - loss: 0.4844 - mae: 0.4781 - val_loss: 0.5957 - val_mae: 0.5894 - 70ms/epoch - 12ms/step\n",
      "Epoch 65/100\n",
      "6/6 - 0s - loss: 0.5004 - mae: 0.4940 - val_loss: 0.6079 - val_mae: 0.6016 - 67ms/epoch - 11ms/step\n",
      "Epoch 66/100\n",
      "6/6 - 0s - loss: 0.4827 - mae: 0.4764 - val_loss: 0.6067 - val_mae: 0.6004 - 68ms/epoch - 11ms/step\n",
      "Epoch 67/100\n",
      "6/6 - 0s - loss: 0.5040 - mae: 0.4976 - val_loss: 0.6069 - val_mae: 0.6006 - 69ms/epoch - 11ms/step\n",
      "Epoch 68/100\n",
      "6/6 - 0s - loss: 0.4811 - mae: 0.4748 - val_loss: 0.5894 - val_mae: 0.5831 - 72ms/epoch - 12ms/step\n",
      "Epoch 69/100\n",
      "6/6 - 0s - loss: 0.5026 - mae: 0.4963 - val_loss: 0.5901 - val_mae: 0.5838 - 70ms/epoch - 12ms/step\n",
      "Epoch 70/100\n",
      "6/6 - 0s - loss: 0.4927 - mae: 0.4864 - val_loss: 0.6257 - val_mae: 0.6194 - 69ms/epoch - 12ms/step\n",
      "Epoch 71/100\n",
      "6/6 - 0s - loss: 0.5078 - mae: 0.5015 - val_loss: 0.6100 - val_mae: 0.6037 - 73ms/epoch - 12ms/step\n",
      "Epoch 72/100\n",
      "6/6 - 0s - loss: 0.4803 - mae: 0.4740 - val_loss: 0.6089 - val_mae: 0.6026 - 94ms/epoch - 16ms/step\n",
      "Epoch 73/100\n",
      "6/6 - 0s - loss: 0.4959 - mae: 0.4896 - val_loss: 0.5718 - val_mae: 0.5655 - 71ms/epoch - 12ms/step\n"
     ]
    },
    {
     "name": "stdout",
     "output_type": "stream",
     "text": [
      "Epoch 74/100\n",
      "6/6 - 0s - loss: 0.4985 - mae: 0.4922 - val_loss: 0.5753 - val_mae: 0.5690 - 70ms/epoch - 12ms/step\n",
      "Epoch 75/100\n",
      "6/6 - 0s - loss: 0.4924 - mae: 0.4861 - val_loss: 0.5791 - val_mae: 0.5728 - 68ms/epoch - 11ms/step\n",
      "Epoch 76/100\n",
      "6/6 - 0s - loss: 0.4895 - mae: 0.4832 - val_loss: 0.6417 - val_mae: 0.6354 - 72ms/epoch - 12ms/step\n",
      "Epoch 77/100\n",
      "6/6 - 0s - loss: 0.4962 - mae: 0.4899 - val_loss: 0.6080 - val_mae: 0.6017 - 68ms/epoch - 11ms/step\n",
      "Epoch 78/100\n",
      "6/6 - 0s - loss: 0.4773 - mae: 0.4709 - val_loss: 0.6138 - val_mae: 0.6074 - 72ms/epoch - 12ms/step\n",
      "Epoch 79/100\n",
      "6/6 - 0s - loss: 0.4752 - mae: 0.4689 - val_loss: 0.6112 - val_mae: 0.6049 - 72ms/epoch - 12ms/step\n",
      "Epoch 80/100\n",
      "6/6 - 0s - loss: 0.4908 - mae: 0.4845 - val_loss: 0.6061 - val_mae: 0.5998 - 72ms/epoch - 12ms/step\n",
      "Epoch 81/100\n",
      "6/6 - 0s - loss: 0.5121 - mae: 0.5058 - val_loss: 0.5758 - val_mae: 0.5695 - 80ms/epoch - 13ms/step\n",
      "Epoch 82/100\n",
      "6/6 - 0s - loss: 0.4934 - mae: 0.4871 - val_loss: 0.6004 - val_mae: 0.5941 - 84ms/epoch - 14ms/step\n",
      "Epoch 83/100\n",
      "6/6 - 0s - loss: 0.5015 - mae: 0.4952 - val_loss: 0.6587 - val_mae: 0.6524 - 79ms/epoch - 13ms/step\n",
      "Epoch 84/100\n",
      "6/6 - 0s - loss: 0.5019 - mae: 0.4956 - val_loss: 0.6328 - val_mae: 0.6265 - 75ms/epoch - 13ms/step\n",
      "Epoch 85/100\n",
      "6/6 - 0s - loss: 0.4941 - mae: 0.4878 - val_loss: 0.6094 - val_mae: 0.6031 - 74ms/epoch - 12ms/step\n",
      "Epoch 86/100\n",
      "6/6 - 0s - loss: 0.4707 - mae: 0.4644 - val_loss: 0.5792 - val_mae: 0.5729 - 72ms/epoch - 12ms/step\n",
      "Epoch 87/100\n",
      "6/6 - 0s - loss: 0.4847 - mae: 0.4784 - val_loss: 0.6009 - val_mae: 0.5946 - 79ms/epoch - 13ms/step\n",
      "Epoch 88/100\n",
      "6/6 - 0s - loss: 0.5119 - mae: 0.5056 - val_loss: 0.6124 - val_mae: 0.6061 - 82ms/epoch - 14ms/step\n",
      "Epoch 89/100\n",
      "6/6 - 0s - loss: 0.4637 - mae: 0.4574 - val_loss: 0.6159 - val_mae: 0.6096 - 71ms/epoch - 12ms/step\n",
      "Epoch 90/100\n",
      "6/6 - 0s - loss: 0.4776 - mae: 0.4713 - val_loss: 0.6248 - val_mae: 0.6185 - 68ms/epoch - 11ms/step\n",
      "Epoch 91/100\n",
      "6/6 - 0s - loss: 0.4831 - mae: 0.4768 - val_loss: 0.6124 - val_mae: 0.6061 - 72ms/epoch - 12ms/step\n",
      "Epoch 92/100\n",
      "6/6 - 0s - loss: 0.4557 - mae: 0.4494 - val_loss: 0.6169 - val_mae: 0.6106 - 74ms/epoch - 12ms/step\n",
      "Epoch 93/100\n",
      "6/6 - 0s - loss: 0.4744 - mae: 0.4681 - val_loss: 0.6249 - val_mae: 0.6186 - 66ms/epoch - 11ms/step\n",
      "Epoch 94/100\n",
      "6/6 - 0s - loss: 0.4817 - mae: 0.4754 - val_loss: 0.6135 - val_mae: 0.6072 - 67ms/epoch - 11ms/step\n",
      "Epoch 95/100\n",
      "6/6 - 0s - loss: 0.4638 - mae: 0.4575 - val_loss: 0.6180 - val_mae: 0.6117 - 69ms/epoch - 12ms/step\n",
      "Epoch 96/100\n",
      "6/6 - 0s - loss: 0.4734 - mae: 0.4671 - val_loss: 0.6040 - val_mae: 0.5977 - 70ms/epoch - 12ms/step\n",
      "Epoch 97/100\n",
      "6/6 - 0s - loss: 0.4801 - mae: 0.4738 - val_loss: 0.6180 - val_mae: 0.6117 - 82ms/epoch - 14ms/step\n",
      "Epoch 98/100\n",
      "6/6 - 0s - loss: 0.4784 - mae: 0.4721 - val_loss: 0.6149 - val_mae: 0.6086 - 86ms/epoch - 14ms/step\n",
      "Epoch 99/100\n",
      "6/6 - 0s - loss: 0.4687 - mae: 0.4624 - val_loss: 0.6136 - val_mae: 0.6073 - 68ms/epoch - 11ms/step\n",
      "Epoch 100/100\n",
      "6/6 - 0s - loss: 0.4593 - mae: 0.4530 - val_loss: 0.6113 - val_mae: 0.6050 - 69ms/epoch - 11ms/step\n"
     ]
    }
   ],
   "source": [
    "# Train the model, with some of the data reserved for validation\n",
    "history = model.fit(train_data, train_targets, epochs=100,\n",
    "                   validation_split=0.15, batch_size=64, verbose=2)\n"
   ]
  },
  {
   "cell_type": "code",
   "execution_count": 18,
   "metadata": {},
   "outputs": [
    {
     "name": "stdout",
     "output_type": "stream",
     "text": [
      "2/2 - 0s - loss: 0.6904 - mae: 0.6841 - 39ms/epoch - 20ms/step\n"
     ]
    },
    {
     "data": {
      "text/plain": [
       "[0.6903911232948303, 0.6840919256210327]"
      ]
     },
     "execution_count": 18,
     "metadata": {},
     "output_type": "execute_result"
    }
   ],
   "source": [
    "# Evaluate the model on the test set\n",
    "\n",
    "model.evaluate(test_data, test_targets, verbose = 2)"
   ]
  },
  {
   "cell_type": "markdown",
   "metadata": {},
   "source": [
    "#### Plot the learning curves"
   ]
  },
  {
   "cell_type": "code",
   "execution_count": 19,
   "metadata": {},
   "outputs": [
    {
     "data": {
      "image/png": "[encoded data removed]",
      "text/plain": [
       "<Figure size 640x480 with 1 Axes>"
      ]
     },
     "metadata": {},
     "output_type": "display_data"
    }
   ],
   "source": [
    "# Plot the training and validation loss\n",
    "\n",
    "import matplotlib.pyplot as plt\n",
    "\n",
    "plt.plot(history.history['loss'])\n",
    "plt.plot(history.history['val_loss'])\n",
    "plt.title('Loss vs. epochs')\n",
    "plt.ylabel('Loss')\n",
    "plt.xlabel('Epoch')\n",
    "plt.legend(['Training', 'Validation'], loc='upper right')\n",
    "plt.show()"
   ]
  },
  {
   "cell_type": "markdown",
   "metadata": {},
   "source": [
    "***\n",
    "<a id=\"coding_tutorial_3\"></a>\n",
    "## Introduction to callbacks"
   ]
  },
  {
   "cell_type": "markdown",
   "metadata": {},
   "source": [
    "#### Example training callback"
   ]
  },
  {
   "cell_type": "code",
   "execution_count": 20,
   "metadata": {},
   "outputs": [],
   "source": [
    "# Write a custom callback\n",
    "from tensorflow.keras.callbacks import Callback\n",
    "\n",
    "class TrainingCallback(Callback):\n",
    "    def on_train_begin(self, logs = None):\n",
    "        print(\"Starting training ...\")\n",
    "        \n",
    "    def on_epoch_begin(self, epoch, logs = None):\n",
    "        print(f\"Starting epoch {epoch}\")\n",
    "    \n",
    "    def on_train_batch_begin(self, batch, logs = None):\n",
    "        print(f\"Training: Starting batch {batch}\")\n",
    "        \n",
    "    def on_train_batch_end(self, batch, logs = None):\n",
    "        print(f\"Training: Finished batch {batch}\")\n",
    "        \n",
    "    def on_epoch_end(self, epoch, logs = None):\n",
    "        print(f\"Finished epoch {epoch}\")\n",
    "        \n",
    "    def on_train_end(self, logs = None):\n",
    "        print(\"Finished training\")\n",
    "        \n",
    "######################################################\n",
    "class TestingCallback(Callback):\n",
    "    def on_test_begin(self, logs = None):\n",
    "        print(\"Starting testing ...\")\n",
    "    \n",
    "    def on_test_batch_begin(self, batch, logs = None):\n",
    "        print(f\"Testing: Starting batch {batch}\")\n",
    "        \n",
    "    def on_test_batch_end(self, batch, logs = None):\n",
    "        print(f\"Testing: Finished batch {batch}\")\n",
    "        \n",
    "    def on_test_end(self, logs = None):\n",
    "        print(\"Finished testing\")\n",
    "                \n",
    "######################################################\n",
    "class PredictionCallback(Callback):\n",
    "    def on_predict_begin(self, logs = None):\n",
    "        print(\"Starting prediction ...\")\n",
    "    \n",
    "    def on_predict_batch_begin(self, batch, logs = None):\n",
    "        print(f\"Prediction: Starting batch {batch}\")\n",
    "        \n",
    "    def on_predict_batch_end(self, batch, logs = None):\n",
    "        print(f\"Prediction: Finished batch {batch}\")\n",
    "        \n",
    "    def on_predict_end(self, logs = None):\n",
    "        print(\"Finished prediction\")"
   ]
  },
  {
   "cell_type": "code",
   "execution_count": 21,
   "metadata": {},
   "outputs": [],
   "source": [
    "# Re-build the model\n",
    "model = get_regularised_model(1e-5, 0.3)\n"
   ]
  },
  {
   "cell_type": "code",
   "execution_count": 22,
   "metadata": {},
   "outputs": [],
   "source": [
    "# Compile the model\n",
    "model.compile(optimizer=\"adam\", loss = \"mae\")\n"
   ]
  },
  {
   "cell_type": "markdown",
   "metadata": {},
   "source": [
    "#### Train the model with the callback"
   ]
  },
  {
   "cell_type": "code",
   "execution_count": 23,
   "metadata": {},
   "outputs": [
    {
     "name": "stdout",
     "output_type": "stream",
     "text": [
      "Starting training ...\n",
      "Starting epoch 0\n",
      "Training: Starting batch 0\n",
      "Training: Finished batch 0\n",
      "Training: Starting batch 1\n",
      "Training: Finished batch 1\n",
      "Training: Starting batch 2\n",
      "Training: Finished batch 2\n",
      "Training: Starting batch 3\n",
      "Training: Finished batch 3\n",
      "Finished epoch 0\n",
      "Starting epoch 1\n",
      "Training: Starting batch 0\n",
      "Training: Finished batch 0\n",
      "Training: Starting batch 1\n",
      "Training: Finished batch 1\n",
      "Training: Starting batch 2\n",
      "Training: Finished batch 2\n",
      "Training: Starting batch 3\n",
      "Training: Finished batch 3\n",
      "Finished epoch 1\n",
      "Starting epoch 2\n",
      "Training: Starting batch 0\n",
      "Training: Finished batch 0\n",
      "Training: Starting batch 1\n",
      "Training: Finished batch 1\n",
      "Training: Starting batch 2\n",
      "Training: Finished batch 2\n",
      "Training: Starting batch 3\n",
      "Training: Finished batch 3\n",
      "Finished epoch 2\n",
      "Finished training\n"
     ]
    },
    {
     "data": {
      "text/plain": [
       "<keras.callbacks.History at 0x209fced0220>"
      ]
     },
     "execution_count": 23,
     "metadata": {},
     "output_type": "execute_result"
    }
   ],
   "source": [
    "# Train the model, with some of the data reserved for validation\n",
    "model.fit(train_data, train_targets, epochs=3, batch_size=128, verbose=False, callbacks=[TrainingCallback()])"
   ]
  },
  {
   "cell_type": "code",
   "execution_count": 24,
   "metadata": {},
   "outputs": [
    {
     "name": "stdout",
     "output_type": "stream",
     "text": [
      "Starting testing ...\n",
      "Testing: Starting batch 0\n",
      "Testing: Finished batch 0\n",
      "Testing: Starting batch 1\n",
      "Testing: Finished batch 1\n",
      "Finished testing\n"
     ]
    },
    {
     "data": {
      "text/plain": [
       "0.8371232748031616"
      ]
     },
     "execution_count": 24,
     "metadata": {},
     "output_type": "execute_result"
    }
   ],
   "source": [
    "# Evaluate the model\n",
    "model.evaluate(test_data, test_targets, verbose=False, callbacks=[TestingCallback()])"
   ]
  },
  {
   "cell_type": "code",
   "execution_count": 25,
   "metadata": {},
   "outputs": [
    {
     "name": "stdout",
     "output_type": "stream",
     "text": [
      "Starting prediction ...\n",
      "Prediction: Starting batch 0\n",
      "Prediction: Finished batch 0\n",
      "Prediction: Starting batch 1\n",
      "Prediction: Finished batch 1\n",
      "Finished prediction\n"
     ]
    },
    {
     "data": {
      "text/plain": [
       "array([[-0.11927222],\n",
       "       [-0.17776377],\n",
       "       [-0.17167585],\n",
       "       [-0.2959365 ],\n",
       "       [-0.19063626],\n",
       "       [-0.23773482],\n",
       "       [-0.13177495],\n",
       "       [-0.14267482],\n",
       "       [-0.17520843],\n",
       "       [-0.16025336],\n",
       "       [-0.2877421 ],\n",
       "       [-0.27346236],\n",
       "       [-0.28429535],\n",
       "       [-0.28470466],\n",
       "       [-0.14720069],\n",
       "       [-0.19013399],\n",
       "       [-0.17306457],\n",
       "       [-0.14166836],\n",
       "       [-0.22834203],\n",
       "       [-0.17126158],\n",
       "       [-0.17989735],\n",
       "       [-0.21360211],\n",
       "       [-0.19544442],\n",
       "       [-0.25536498],\n",
       "       [-0.26895756],\n",
       "       [-0.15765192],\n",
       "       [-0.26506943],\n",
       "       [-0.2410651 ],\n",
       "       [-0.20259382],\n",
       "       [-0.18663175],\n",
       "       [-0.10513026],\n",
       "       [-0.1139053 ],\n",
       "       [-0.195592  ],\n",
       "       [-0.13262819],\n",
       "       [-0.20594893],\n",
       "       [-0.22298177],\n",
       "       [-0.24696718],\n",
       "       [-0.27215347],\n",
       "       [-0.26262188],\n",
       "       [-0.21430697],\n",
       "       [-0.2615374 ],\n",
       "       [-0.19251145],\n",
       "       [-0.18487692],\n",
       "       [-0.18343215],\n",
       "       [-0.10215706]], dtype=float32)"
      ]
     },
     "execution_count": 25,
     "metadata": {},
     "output_type": "execute_result"
    }
   ],
   "source": [
    "# Make predictions with the model\n",
    "model.predict(test_data, verbose=False, callbacks=[PredictionCallback()])"
   ]
  },
  {
   "cell_type": "markdown",
   "metadata": {},
   "source": [
    "***\n",
    "<a id=\"coding_tutorial_4\"></a>\n",
    "## Early stopping / patience"
   ]
  },
  {
   "cell_type": "markdown",
   "metadata": {},
   "source": [
    "#### Re-train the models with early stopping"
   ]
  },
  {
   "cell_type": "code",
   "execution_count": 26,
   "metadata": {},
   "outputs": [],
   "source": [
    "# Re-train the unregularised model\n",
    "unregularised_model = get_model()\n",
    "unregularised_model.compile(optimizer = \"adam\", loss = \"mae\")\n",
    "unreg_history = unregularised_model.fit(train_data, train_targets, epochs=100,\n",
    "                                       validation_split=0.15, batch_size=64, verbose=False,\n",
    "                                       callbacks=[tf.keras.callbacks.EarlyStopping(patience=1)])"
   ]
  },
  {
   "cell_type": "code",
   "execution_count": 27,
   "metadata": {},
   "outputs": [
    {
     "name": "stdout",
     "output_type": "stream",
     "text": [
      "2/2 - 0s - loss: 0.6302 - 29ms/epoch - 14ms/step\n"
     ]
    },
    {
     "data": {
      "text/plain": [
       "0.6302451491355896"
      ]
     },
     "execution_count": 27,
     "metadata": {},
     "output_type": "execute_result"
    }
   ],
   "source": [
    "# Evaluate the model on the test set\n",
    "unregularised_model.evaluate(test_data, test_targets, verbose=2)"
   ]
  },
  {
   "cell_type": "code",
   "execution_count": 28,
   "metadata": {},
   "outputs": [],
   "source": [
    "# Re-train the regularised model\n",
    "regularised_model = get_regularised_model(1e-8, 0.2)\n",
    "regularised_model.compile(optimizer=\"adam\", loss=\"mae\")\n",
    "reg_history = regularised_model.fit(train_data, train_targets, epochs=100,\n",
    "                                   validation_split=0.15, batch_size=64, verbose=False,\n",
    "                                   callbacks=[tf.keras.callbacks.EarlyStopping(patience=1)])"
   ]
  },
  {
   "cell_type": "code",
   "execution_count": 29,
   "metadata": {},
   "outputs": [
    {
     "name": "stdout",
     "output_type": "stream",
     "text": [
      "2/2 - 0s - loss: 0.6463 - 34ms/epoch - 17ms/step\n"
     ]
    },
    {
     "data": {
      "text/plain": [
       "0.6462743282318115"
      ]
     },
     "execution_count": 29,
     "metadata": {},
     "output_type": "execute_result"
    }
   ],
   "source": [
    "# Evaluate the model on the test set\n",
    "regularised_model.evaluate(test_data, test_targets, verbose=2)"
   ]
  },
  {
   "cell_type": "markdown",
   "metadata": {},
   "source": [
    "#### Plot the learning curves"
   ]
  },
  {
   "cell_type": "code",
   "execution_count": 30,
   "metadata": {},
   "outputs": [
    {
     "data": {
      "image/png": "[encoded data removed]",
      "text/plain": [
       "<Figure size 1200x500 with 2 Axes>"
      ]
     },
     "metadata": {},
     "output_type": "display_data"
    }
   ],
   "source": [
    "# Plot the training and validation loss\n",
    "\n",
    "import matplotlib.pyplot as plt\n",
    "\n",
    "fig = plt.figure(figsize=(12, 5))\n",
    "\n",
    "fig.add_subplot(121)\n",
    "\n",
    "plt.plot(unreg_history.history['loss'])\n",
    "plt.plot(unreg_history.history['val_loss'])\n",
    "plt.title('Unregularised model: loss vs. epochs')\n",
    "plt.ylabel('Loss')\n",
    "plt.xlabel('Epoch')\n",
    "plt.legend(['Training', 'Validation'], loc='upper right')\n",
    "\n",
    "fig.add_subplot(122)\n",
    "\n",
    "plt.plot(reg_history.history['loss'])\n",
    "plt.plot(reg_history.history['val_loss'])\n",
    "plt.title('Regularised model: loss vs. epochs')\n",
    "plt.ylabel('Loss')\n",
    "plt.xlabel('Epoch')\n",
    "plt.legend(['Training', 'Validation'], loc='upper right')\n",
    "\n",
    "plt.show()"
   ]
  }
 ],
 "metadata": {
  "kernelspec": {
   "display_name": "py3-TF2.0",
   "language": "python",
   "name": "py3-tf2.0"
  },
  "language_info": {
   "codemirror_mode": {
    "name": "ipython",
    "version": 3
   },
   "file_extension": ".py",
   "mimetype": "text/x-python",
   "name": "python",
   "nbconvert_exporter": "python",
   "pygments_lexer": "ipython3",
   "version": "3.10.9"
  }
 },
 "nbformat": 4,
 "nbformat_minor": 2
}
