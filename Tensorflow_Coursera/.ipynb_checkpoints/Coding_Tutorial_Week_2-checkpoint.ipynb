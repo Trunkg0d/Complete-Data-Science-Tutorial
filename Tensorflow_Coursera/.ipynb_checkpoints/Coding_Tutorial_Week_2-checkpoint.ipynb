{
 "cells": [
  {
   "cell_type": "code",
   "execution_count": 1,
   "metadata": {},
   "outputs": [
    {
     "name": "stdout",
     "output_type": "stream",
     "text": [
      "2.10.0\n"
     ]
    }
   ],
   "source": [
    "import tensorflow as tf\n",
    "print(tf.__version__)"
   ]
  },
  {
   "cell_type": "markdown",
   "metadata": {},
   "source": [
    "# The Sequential model API"
   ]
  },
  {
   "cell_type": "markdown",
   "metadata": {},
   "source": [
    " ## Coding tutorials\n",
    " #### [1. Building a Sequential model](#coding_tutorial_1)\n",
    " #### [2. Convolutional and pooling layers](#coding_tutorial_2)\n",
    " #### [3. The compile method](#coding_tutorial_3)\n",
    " #### [4. The fit method](#coding_tutorial_4)\n",
    " #### [5. The evaluate and predict methods](#coding_tutorial_5)"
   ]
  },
  {
   "cell_type": "markdown",
   "metadata": {},
   "source": [
    "***\n",
    "<a id=\"coding_tutorial_1\"></a>\n",
    "## Building a Sequential model"
   ]
  },
  {
   "cell_type": "code",
   "execution_count": 2,
   "metadata": {},
   "outputs": [],
   "source": [
    "from tensorflow.keras.models import Sequential\n",
    "from tensorflow.keras.layers import Dense, Flatten, Softmax"
   ]
  },
  {
   "cell_type": "markdown",
   "metadata": {},
   "source": [
    "#### Build a feedforward neural network model"
   ]
  },
  {
   "cell_type": "code",
   "execution_count": 3,
   "metadata": {},
   "outputs": [],
   "source": [
    "# Build the Sequential feedforward neural network model\n",
    "# Build the Sequential feedforward neural network model\n",
    "model = Sequential([\n",
    "    Flatten(input_shape = (28, 28, 1)),\n",
    "    Dense(16, activation = \"relu\", name = \"hidden_layer_1\"),\n",
    "    Dense(16, activation = \"relu\", name = \"hidden_layer_2\"),\n",
    "    Dense(10, activation = \"softmax\", name = \"hidden_layer_3\")\n",
    "])"
   ]
  },
  {
   "cell_type": "code",
   "execution_count": 4,
   "metadata": {},
   "outputs": [
    {
     "name": "stdout",
     "output_type": "stream",
     "text": [
      "Model: \"sequential\"\n",
      "_________________________________________________________________\n",
      " Layer (type)                Output Shape              Param #   \n",
      "=================================================================\n",
      " flatten (Flatten)           (None, 784)               0         \n",
      "                                                                 \n",
      " hidden_layer_1 (Dense)      (None, 16)                12560     \n",
      "                                                                 \n",
      " hidden_layer_2 (Dense)      (None, 16)                272       \n",
      "                                                                 \n",
      " hidden_layer_3 (Dense)      (None, 10)                170       \n",
      "                                                                 \n",
      "=================================================================\n",
      "Total params: 13,002\n",
      "Trainable params: 13,002\n",
      "Non-trainable params: 0\n",
      "_________________________________________________________________\n"
     ]
    },
    {
     "data": {
      "text/plain": [
       "([<tf.Variable 'hidden_layer_1/kernel:0' shape=(784, 16) dtype=float32, numpy=\n",
       "  array([[-0.06129675,  0.00810613, -0.06799661, ...,  0.02011381,\n",
       "           0.00413106,  0.01890191],\n",
       "         [-0.03895   , -0.06521247,  0.00979847, ...,  0.07783639,\n",
       "          -0.06802166,  0.05262788],\n",
       "         [ 0.04759675,  0.05508074, -0.04606341, ...,  0.04038548,\n",
       "          -0.00578719,  0.08069056],\n",
       "         ...,\n",
       "         [ 0.04040581, -0.07267923,  0.06186417, ..., -0.04718367,\n",
       "           0.00770905, -0.07736717],\n",
       "         [ 0.06953752,  0.05353968,  0.05678119, ...,  0.04530071,\n",
       "           0.06648855,  0.03838983],\n",
       "         [ 0.04118897,  0.04646973,  0.04995061, ...,  0.04642369,\n",
       "          -0.04225703,  0.07939559]], dtype=float32)>,\n",
       "  <tf.Variable 'hidden_layer_1/bias:0' shape=(16,) dtype=float32, numpy=\n",
       "  array([0., 0., 0., 0., 0., 0., 0., 0., 0., 0., 0., 0., 0., 0., 0., 0.],\n",
       "        dtype=float32)>,\n",
       "  <tf.Variable 'hidden_layer_2/kernel:0' shape=(16, 16) dtype=float32, numpy=\n",
       "  array([[ 0.34403482,  0.10428551,  0.10019884,  0.37571606, -0.3374893 ,\n",
       "          -0.35594377,  0.05930904, -0.03107265, -0.3827591 , -0.08863965,\n",
       "           0.3012493 , -0.3395736 , -0.00173968, -0.0231863 ,  0.06634524,\n",
       "          -0.08540809],\n",
       "         [ 0.11086944, -0.25808772, -0.14094037, -0.29683048, -0.1547584 ,\n",
       "           0.27975824,  0.17083797, -0.1534993 , -0.1852396 ,  0.28326932,\n",
       "           0.31047198,  0.42324677, -0.31241646,  0.11280629,  0.3265474 ,\n",
       "          -0.23960787],\n",
       "         [ 0.0225682 , -0.03132084,  0.04691115,  0.32189092, -0.04236931,\n",
       "           0.12103471,  0.28210774,  0.23994568, -0.37547532,  0.41193506,\n",
       "          -0.00220311,  0.10864601, -0.34374472,  0.16912141, -0.3983142 ,\n",
       "           0.27292266],\n",
       "         [-0.36015227,  0.36514077, -0.08149496, -0.37459677,  0.22677544,\n",
       "           0.12788156, -0.3709478 , -0.04793549, -0.06259605, -0.05608037,\n",
       "           0.22527686,  0.23856619,  0.30415443,  0.36473402, -0.31174365,\n",
       "           0.19787255],\n",
       "         [-0.38353565, -0.42265067, -0.37051657,  0.02229264, -0.15648806,\n",
       "           0.08086851, -0.34950006,  0.1555681 , -0.13161248, -0.11296362,\n",
       "           0.34558454,  0.01239261, -0.12090522, -0.40131855, -0.40717041,\n",
       "          -0.4114933 ],\n",
       "         [-0.05318525,  0.375182  , -0.07006028, -0.17005089, -0.15613529,\n",
       "          -0.32396716, -0.40584615, -0.21620913,  0.13909367, -0.10522044,\n",
       "          -0.40830386,  0.3112379 , -0.43060115,  0.3815184 , -0.42592847,\n",
       "          -0.0505977 ],\n",
       "         [-0.25421858, -0.40879422, -0.40426847, -0.08980429,  0.24818757,\n",
       "          -0.13362521,  0.3870246 ,  0.38971427,  0.30993906, -0.15721959,\n",
       "          -0.42519653, -0.11457694, -0.31930956, -0.10432929, -0.19501203,\n",
       "           0.04717225],\n",
       "         [-0.28268343, -0.33067682,  0.25761798, -0.05296019, -0.214069  ,\n",
       "           0.12504748,  0.38536122, -0.3225398 , -0.09003142,  0.15005139,\n",
       "           0.20093057, -0.15938854,  0.18745497, -0.16273129, -0.3519346 ,\n",
       "          -0.0930312 ],\n",
       "         [-0.12515017,  0.10850891,  0.39755383, -0.0020757 ,  0.19526097,\n",
       "           0.12260184, -0.26093432,  0.32135728, -0.1837311 ,  0.3192877 ,\n",
       "          -0.24467874, -0.23637879, -0.39553308, -0.30742747, -0.29813674,\n",
       "           0.01325023],\n",
       "         [-0.02078134, -0.07204255,  0.20048782,  0.1501253 , -0.02781746,\n",
       "          -0.06946853, -0.31464455, -0.18174437, -0.17562729, -0.07252252,\n",
       "          -0.3975775 , -0.33786035, -0.40354323, -0.4321272 ,  0.27422574,\n",
       "           0.03198394],\n",
       "         [ 0.20586619, -0.3544773 , -0.34067824, -0.0051744 ,  0.05626619,\n",
       "           0.27123895,  0.38326433, -0.0966906 ,  0.35598168, -0.09911668,\n",
       "          -0.32988015, -0.27858537,  0.23095301, -0.15180424, -0.3694401 ,\n",
       "           0.35875538],\n",
       "         [ 0.00386059, -0.3613006 , -0.42027268, -0.09719759,  0.2284542 ,\n",
       "           0.05475375,  0.3719109 , -0.27504164,  0.08043656, -0.3943033 ,\n",
       "          -0.19676286,  0.02173239,  0.14417574,  0.27432987,  0.30246893,\n",
       "          -0.00684315],\n",
       "         [ 0.0185068 , -0.4101768 ,  0.00571269, -0.37460256, -0.06380227,\n",
       "           0.30914703, -0.06297627, -0.4295343 , -0.1853448 , -0.4028535 ,\n",
       "          -0.10775536,  0.30283824,  0.02391556, -0.14347973, -0.26828757,\n",
       "           0.0601874 ],\n",
       "         [ 0.22292325, -0.10705355, -0.16473752,  0.18220863, -0.06473154,\n",
       "          -0.20037144,  0.32167342, -0.10015795, -0.36375046, -0.380186  ,\n",
       "           0.29617378,  0.0487642 ,  0.13146195,  0.1807479 ,  0.30515477,\n",
       "          -0.06531182],\n",
       "         [-0.30677304,  0.38124147, -0.18808733, -0.35370588,  0.19052884,\n",
       "           0.29074064, -0.2332929 ,  0.27823868, -0.30615032,  0.33819363,\n",
       "           0.2756429 ,  0.21658698, -0.258846  , -0.2006442 ,  0.4311228 ,\n",
       "          -0.4301598 ],\n",
       "         [ 0.19997087, -0.37202862,  0.22522119, -0.37080008, -0.40625095,\n",
       "          -0.30580807,  0.16126087,  0.1917294 , -0.3768072 , -0.3476835 ,\n",
       "           0.10242918, -0.06479988, -0.1229094 ,  0.07103464, -0.21183874,\n",
       "           0.21548697]], dtype=float32)>,\n",
       "  <tf.Variable 'hidden_layer_2/bias:0' shape=(16,) dtype=float32, numpy=\n",
       "  array([0., 0., 0., 0., 0., 0., 0., 0., 0., 0., 0., 0., 0., 0., 0., 0.],\n",
       "        dtype=float32)>,\n",
       "  <tf.Variable 'hidden_layer_3/kernel:0' shape=(16, 10) dtype=float32, numpy=\n",
       "  array([[-0.02104032, -0.3578865 ,  0.10140818,  0.31603134, -0.19183233,\n",
       "          -0.32135713,  0.04607874, -0.1709747 ,  0.40599775,  0.26916713],\n",
       "         [ 0.40020627, -0.06632847, -0.47381878, -0.329755  ,  0.16723645,\n",
       "          -0.05216661, -0.44556633, -0.4598331 ,  0.05243725, -0.32987398],\n",
       "         [-0.36970326,  0.05401838, -0.4721126 , -0.10183766,  0.0890286 ,\n",
       "           0.16912168, -0.03073815,  0.2527781 ,  0.35978794,  0.21750003],\n",
       "         [-0.38339415,  0.15256071,  0.07456791, -0.13687044,  0.07712418,\n",
       "          -0.3851015 ,  0.0280993 ,  0.12540948,  0.2675346 ,  0.13491917],\n",
       "         [-0.3789088 ,  0.26052088,  0.31771785,  0.02201456,  0.44353336,\n",
       "          -0.4695947 , -0.30805773,  0.41241705, -0.03347823, -0.21448404],\n",
       "         [-0.15805027,  0.3251075 ,  0.07484394,  0.47520167, -0.3010608 ,\n",
       "           0.08775258,  0.31293517,  0.26322323, -0.14581543,  0.1476214 ],\n",
       "         [ 0.06564128,  0.13162541, -0.02534458,  0.35385722, -0.32454973,\n",
       "          -0.379979  ,  0.28282344,  0.33160037, -0.09013554, -0.17001972],\n",
       "         [ 0.1597417 , -0.24947853,  0.1610468 , -0.22018063,  0.46221685,\n",
       "          -0.3685308 ,  0.28105712,  0.4053403 , -0.4002498 , -0.21205994],\n",
       "         [-0.37951678,  0.03726614,  0.47134542, -0.11886615,  0.3478415 ,\n",
       "           0.31028742, -0.40781707,  0.33588213, -0.09147099,  0.40601158],\n",
       "         [-0.42135036, -0.14248642, -0.14223573,  0.01575762, -0.12209037,\n",
       "           0.15437835, -0.3982599 , -0.04363108, -0.20637384, -0.2847445 ],\n",
       "         [-0.2358558 , -0.45672798, -0.3101382 ,  0.11845934,  0.03304529,\n",
       "           0.12491781,  0.44929886, -0.11200988,  0.11067194,  0.20075351],\n",
       "         [ 0.36730647, -0.2637866 , -0.00421676, -0.26251763,  0.3408383 ,\n",
       "           0.23187238, -0.2952169 , -0.1490266 ,  0.4484387 , -0.1124284 ],\n",
       "         [ 0.03001535,  0.02444655, -0.3648377 , -0.1666441 , -0.40906504,\n",
       "           0.42327154, -0.01069483,  0.2624781 , -0.3266537 ,  0.4061249 ],\n",
       "         [ 0.29186863,  0.34688675, -0.23449595, -0.22458383, -0.4770764 ,\n",
       "          -0.40206307,  0.16465366,  0.47505665, -0.2556768 , -0.20405078],\n",
       "         [ 0.12902427, -0.04775837, -0.33483106, -0.32573113,  0.16960675,\n",
       "           0.1555506 , -0.45737842,  0.29927945, -0.12497646, -0.45992288],\n",
       "         [ 0.01575282, -0.45818633, -0.11292753, -0.32583603,  0.27495056,\n",
       "           0.43952566,  0.10790491,  0.10114282, -0.1738663 , -0.06329471]],\n",
       "        dtype=float32)>,\n",
       "  <tf.Variable 'hidden_layer_3/bias:0' shape=(10,) dtype=float32, numpy=array([0., 0., 0., 0., 0., 0., 0., 0., 0., 0.], dtype=float32)>],\n",
       " None)"
      ]
     },
     "execution_count": 4,
     "metadata": {},
     "output_type": "execute_result"
    }
   ],
   "source": [
    "# Print the model summary\n",
    "model.weights, model.summary()"
   ]
  },
  {
   "cell_type": "markdown",
   "metadata": {},
   "source": [
    "***\n",
    "<a id=\"coding_tutorial_2\"></a>\n",
    "## Convolutional and pooling layers"
   ]
  },
  {
   "cell_type": "code",
   "execution_count": 5,
   "metadata": {},
   "outputs": [],
   "source": [
    "from tensorflow.keras.models import Sequential\n",
    "from tensorflow.keras.layers import Dense, Flatten, Conv2D, MaxPooling2D"
   ]
  },
  {
   "cell_type": "markdown",
   "metadata": {},
   "source": [
    "#### Build a convolutional neural network model"
   ]
  },
  {
   "cell_type": "code",
   "execution_count": 6,
   "metadata": {},
   "outputs": [],
   "source": [
    "# Build the Sequential convolutional neural network model\n",
    "\n",
    "model = Sequential([\n",
    "    Conv2D(16, (3,3), activation = \"relu\", input_shape = (28, 28, 1)),\n",
    "    MaxPooling2D((3,3)),\n",
    "    Flatten(),\n",
    "    Dense(10, activation= \"softmax\")\n",
    "])\n"
   ]
  },
  {
   "cell_type": "code",
   "execution_count": 7,
   "metadata": {},
   "outputs": [
    {
     "name": "stdout",
     "output_type": "stream",
     "text": [
      "Model: \"sequential_1\"\n",
      "_________________________________________________________________\n",
      " Layer (type)                Output Shape              Param #   \n",
      "=================================================================\n",
      " conv2d (Conv2D)             (None, 26, 26, 16)        160       \n",
      "                                                                 \n",
      " max_pooling2d (MaxPooling2D  (None, 8, 8, 16)         0         \n",
      " )                                                               \n",
      "                                                                 \n",
      " flatten_1 (Flatten)         (None, 1024)              0         \n",
      "                                                                 \n",
      " dense (Dense)               (None, 10)                10250     \n",
      "                                                                 \n",
      "=================================================================\n",
      "Total params: 10,410\n",
      "Trainable params: 10,410\n",
      "Non-trainable params: 0\n",
      "_________________________________________________________________\n"
     ]
    }
   ],
   "source": [
    "# Print the model summary\n",
    "model.summary()\n"
   ]
  },
  {
   "cell_type": "code",
   "execution_count": 8,
   "metadata": {},
   "outputs": [],
   "source": [
    "# or you can change the padding and stride\n",
    "model1 = Sequential([\n",
    "    Conv2D(16, (3, 3), padding=\"same\", strides= 2, activation=\"relu\", input_shape = (28, 28, 1)),\n",
    "    MaxPooling2D((3, 3)),\n",
    "    Flatten(),\n",
    "    Dense(10, activation=\"softmax\")\n",
    "])"
   ]
  },
  {
   "cell_type": "code",
   "execution_count": 9,
   "metadata": {},
   "outputs": [
    {
     "name": "stdout",
     "output_type": "stream",
     "text": [
      "Model: \"sequential_2\"\n",
      "_________________________________________________________________\n",
      " Layer (type)                Output Shape              Param #   \n",
      "=================================================================\n",
      " conv2d_1 (Conv2D)           (None, 14, 14, 16)        160       \n",
      "                                                                 \n",
      " max_pooling2d_1 (MaxPooling  (None, 4, 4, 16)         0         \n",
      " 2D)                                                             \n",
      "                                                                 \n",
      " flatten_2 (Flatten)         (None, 256)               0         \n",
      "                                                                 \n",
      " dense_1 (Dense)             (None, 10)                2570      \n",
      "                                                                 \n",
      "=================================================================\n",
      "Total params: 2,730\n",
      "Trainable params: 2,730\n",
      "Non-trainable params: 0\n",
      "_________________________________________________________________\n"
     ]
    }
   ],
   "source": [
    "model1.summary()"
   ]
  },
  {
   "cell_type": "code",
   "execution_count": 10,
   "metadata": {},
   "outputs": [],
   "source": [
    "# or you can change the data format of the model\n",
    "model2 = Sequential([\n",
    "    Conv2D(16, (3, 3), activation=\"relu\", input_shape = (1, 28, 28), data_format=\"channels_first\"),\n",
    "    MaxPooling2D((3, 3), data_format=\"channels_first\"),\n",
    "    Flatten(),\n",
    "    Dense(10, activation=\"softmax\")\n",
    "])"
   ]
  },
  {
   "cell_type": "code",
   "execution_count": 11,
   "metadata": {},
   "outputs": [
    {
     "name": "stdout",
     "output_type": "stream",
     "text": [
      "Model: \"sequential_3\"\n",
      "_________________________________________________________________\n",
      " Layer (type)                Output Shape              Param #   \n",
      "=================================================================\n",
      " conv2d_2 (Conv2D)           (None, 16, 26, 26)        160       \n",
      "                                                                 \n",
      " max_pooling2d_2 (MaxPooling  (None, 16, 8, 8)         0         \n",
      " 2D)                                                             \n",
      "                                                                 \n",
      " flatten_3 (Flatten)         (None, 1024)              0         \n",
      "                                                                 \n",
      " dense_2 (Dense)             (None, 10)                10250     \n",
      "                                                                 \n",
      "=================================================================\n",
      "Total params: 10,410\n",
      "Trainable params: 10,410\n",
      "Non-trainable params: 0\n",
      "_________________________________________________________________\n"
     ]
    }
   ],
   "source": [
    "model2.summary()"
   ]
  },
  {
   "cell_type": "markdown",
   "metadata": {},
   "source": [
    "***\n",
    "<a id=\"coding_tutorial_3\"></a>\n",
    "## The compile method"
   ]
  },
  {
   "cell_type": "markdown",
   "metadata": {},
   "source": [
    "#### Compile the model"
   ]
  },
  {
   "cell_type": "code",
   "execution_count": 12,
   "metadata": {},
   "outputs": [],
   "source": [
    "# Define the model optimizer, loss function and metrics\n",
    "model.compile(\n",
    "    optimizer=\"adam\",\n",
    "    loss=\"sparse_categorical_crossentropy\",\n",
    "    metrics=[\"accuray\"]\n",
    ")\n"
   ]
  },
  {
   "cell_type": "code",
   "execution_count": 13,
   "metadata": {},
   "outputs": [
    {
     "name": "stdout",
     "output_type": "stream",
     "text": [
      "<keras.optimizers.optimizer_v2.adam.Adam object at 0x000001D627A0BA60>\n",
      "sparse_categorical_crossentropy\n",
      "[]\n",
      "<tf.Variable 'learning_rate:0' shape=() dtype=float32, numpy=0.001>\n",
      "<tf.Variable 'learning_rate:0' shape=() dtype=float32, numpy=0.001>\n"
     ]
    }
   ],
   "source": [
    "# Print the resulting model attributes\n",
    "print(model.optimizer)\n",
    "print(model.loss)\n",
    "print(model.metrics)\n",
    "print(model.optimizer.lr)  # learning rate of the optimizer function\n",
    "# or\n",
    "print(model.optimizer.learning_rate)"
   ]
  },
  {
   "cell_type": "code",
   "execution_count": 14,
   "metadata": {},
   "outputs": [],
   "source": [
    "# or you can define model compile by\n",
    "opt = tf.keras.optimizers.Adam(learning_rate=0.005)\n",
    "acc = tf.keras.metrics.SparseCategoricalAccuracy()\n",
    "mae = tf.keras.metrics.MeanAbsoluteError()\n",
    "\n",
    "model.compile(\n",
    "    optimizer=opt,\n",
    "    loss=\"sparse_categorical_crossentropy\",\n",
    "    metrics=[acc, mae]\n",
    ")"
   ]
  },
  {
   "cell_type": "code",
   "execution_count": 15,
   "metadata": {},
   "outputs": [
    {
     "name": "stdout",
     "output_type": "stream",
     "text": [
      "<keras.optimizers.optimizer_v2.adam.Adam object at 0x000001D627A0BB50>\n",
      "sparse_categorical_crossentropy\n",
      "[]\n",
      "<tf.Variable 'learning_rate:0' shape=() dtype=float32, numpy=0.005>\n",
      "<tf.Variable 'learning_rate:0' shape=() dtype=float32, numpy=0.005>\n"
     ]
    }
   ],
   "source": [
    "# Print the resulting model attributes\n",
    "print(model.optimizer)\n",
    "print(model.loss)\n",
    "print(model.metrics)\n",
    "print(model.optimizer.lr)  # learning rate of the optimizer function\n",
    "# or\n",
    "print(model.optimizer.learning_rate)"
   ]
  },
  {
   "cell_type": "markdown",
   "metadata": {},
   "source": [
    "***\n",
    "<a id=\"coding_tutorial_4\"></a>\n",
    "## The fit method"
   ]
  },
  {
   "cell_type": "code",
   "execution_count": 16,
   "metadata": {},
   "outputs": [],
   "source": [
    "from tensorflow.keras.preprocessing import image\n",
    "import matplotlib.pyplot as plt\n",
    "import numpy as np\n",
    "import pandas as pd"
   ]
  },
  {
   "cell_type": "markdown",
   "metadata": {},
   "source": [
    "#### Load the data"
   ]
  },
  {
   "cell_type": "code",
   "execution_count": 17,
   "metadata": {},
   "outputs": [],
   "source": [
    "# Load the Fashion-MNIST dataset\n",
    "\n",
    "fashion_mnist_data = tf.keras.datasets.fashion_mnist\n",
    "(train_images, train_labels), (test_images, test_labels) = fashion_mnist_data.load_data()"
   ]
  },
  {
   "cell_type": "code",
   "execution_count": 18,
   "metadata": {},
   "outputs": [
    {
     "data": {
      "text/plain": [
       "(60000, 28, 28)"
      ]
     },
     "execution_count": 18,
     "metadata": {},
     "output_type": "execute_result"
    }
   ],
   "source": [
    "# Print the shape of the training data\n",
    "train_images.shape\n"
   ]
  },
  {
   "cell_type": "code",
   "execution_count": 19,
   "metadata": {},
   "outputs": [],
   "source": [
    "# Define the labels\n",
    "\n",
    "labels = [\n",
    "    'T-shirt/top',\n",
    "    'Trouser',\n",
    "    'Pullover',\n",
    "    'Dress',\n",
    "    'Coat',\n",
    "    'Sandal',\n",
    "    'Shirt',\n",
    "    'Sneaker',\n",
    "    'Bag',\n",
    "    'Ankle boot'\n",
    "]"
   ]
  },
  {
   "cell_type": "code",
   "execution_count": 20,
   "metadata": {},
   "outputs": [],
   "source": [
    "# Rescale the image values so that they lie in between 0 and 1.\n",
    "train_images = train_images / 255.\n",
    "test_images = test_images / 255."
   ]
  },
  {
   "cell_type": "code",
   "execution_count": 21,
   "metadata": {},
   "outputs": [
    {
     "data": {
      "image/png": "[encoded data removed]",
      "text/plain": [
       "<Figure size 640x480 with 1 Axes>"
      ]
     },
     "metadata": {},
     "output_type": "display_data"
    },
    {
     "name": "stdout",
     "output_type": "stream",
     "text": [
      "Label:  Ankle boot\n"
     ]
    }
   ],
   "source": [
    "# Display one of the images\n",
    "img = train_images[0,:,:]\n",
    "plt.imshow(img)\n",
    "plt.show()\n",
    "print(\"Label: \", labels[train_labels[0]])"
   ]
  },
  {
   "cell_type": "markdown",
   "metadata": {},
   "source": [
    "#### Fit the model"
   ]
  },
  {
   "cell_type": "code",
   "execution_count": 22,
   "metadata": {},
   "outputs": [
    {
     "name": "stdout",
     "output_type": "stream",
     "text": [
      "Epoch 1/8\n",
      "235/235 - 6s - loss: 0.5683 - sparse_categorical_accuracy: 0.7990 - mean_absolute_error: 4.4200 - 6s/epoch - 26ms/step\n",
      "Epoch 2/8\n",
      "235/235 - 4s - loss: 0.3897 - sparse_categorical_accuracy: 0.8633 - mean_absolute_error: 4.4200 - 4s/epoch - 15ms/step\n",
      "Epoch 3/8\n",
      "235/235 - 4s - loss: 0.3520 - sparse_categorical_accuracy: 0.8750 - mean_absolute_error: 4.4200 - 4s/epoch - 15ms/step\n",
      "Epoch 4/8\n",
      "235/235 - 3s - loss: 0.3308 - sparse_categorical_accuracy: 0.8824 - mean_absolute_error: 4.4200 - 3s/epoch - 15ms/step\n",
      "Epoch 5/8\n",
      "235/235 - 3s - loss: 0.3174 - sparse_categorical_accuracy: 0.8871 - mean_absolute_error: 4.4200 - 3s/epoch - 14ms/step\n",
      "Epoch 6/8\n",
      "235/235 - 3s - loss: 0.3055 - sparse_categorical_accuracy: 0.8906 - mean_absolute_error: 4.4200 - 3s/epoch - 14ms/step\n",
      "Epoch 7/8\n",
      "235/235 - 4s - loss: 0.2965 - sparse_categorical_accuracy: 0.8931 - mean_absolute_error: 4.4200 - 4s/epoch - 15ms/step\n",
      "Epoch 8/8\n",
      "235/235 - 4s - loss: 0.2890 - sparse_categorical_accuracy: 0.8968 - mean_absolute_error: 4.4200 - 4s/epoch - 16ms/step\n"
     ]
    }
   ],
   "source": [
    "# Fit the model\n",
    "history = model.fit(train_images[..., np.newaxis], train_labels, epochs=8, batch_size=256, verbose=2)\n"
   ]
  },
  {
   "cell_type": "markdown",
   "metadata": {},
   "source": [
    "#### Plot training history"
   ]
  },
  {
   "cell_type": "code",
   "execution_count": 23,
   "metadata": {},
   "outputs": [
    {
     "data": {
      "text/html": [
       "<div>\n",
       "<style scoped>\n",
       "    .dataframe tbody tr th:only-of-type {\n",
       "        vertical-align: middle;\n",
       "    }\n",
       "\n",
       "    .dataframe tbody tr th {\n",
       "        vertical-align: top;\n",
       "    }\n",
       "\n",
       "    .dataframe thead th {\n",
       "        text-align: right;\n",
       "    }\n",
       "</style>\n",
       "<table border=\"1\" class=\"dataframe\">\n",
       "  <thead>\n",
       "    <tr style=\"text-align: right;\">\n",
       "      <th></th>\n",
       "      <th>loss</th>\n",
       "      <th>sparse_categorical_accuracy</th>\n",
       "      <th>mean_absolute_error</th>\n",
       "    </tr>\n",
       "  </thead>\n",
       "  <tbody>\n",
       "    <tr>\n",
       "      <th>0</th>\n",
       "      <td>0.568258</td>\n",
       "      <td>0.798967</td>\n",
       "      <td>4.420002</td>\n",
       "    </tr>\n",
       "    <tr>\n",
       "      <th>1</th>\n",
       "      <td>0.389685</td>\n",
       "      <td>0.863300</td>\n",
       "      <td>4.420000</td>\n",
       "    </tr>\n",
       "    <tr>\n",
       "      <th>2</th>\n",
       "      <td>0.351950</td>\n",
       "      <td>0.875000</td>\n",
       "      <td>4.419999</td>\n",
       "    </tr>\n",
       "    <tr>\n",
       "      <th>3</th>\n",
       "      <td>0.330840</td>\n",
       "      <td>0.882367</td>\n",
       "      <td>4.419999</td>\n",
       "    </tr>\n",
       "    <tr>\n",
       "      <th>4</th>\n",
       "      <td>0.317402</td>\n",
       "      <td>0.887083</td>\n",
       "      <td>4.420000</td>\n",
       "    </tr>\n",
       "  </tbody>\n",
       "</table>\n",
       "</div>"
      ],
      "text/plain": [
       "       loss  sparse_categorical_accuracy  mean_absolute_error\n",
       "0  0.568258                     0.798967             4.420002\n",
       "1  0.389685                     0.863300             4.420000\n",
       "2  0.351950                     0.875000             4.419999\n",
       "3  0.330840                     0.882367             4.419999\n",
       "4  0.317402                     0.887083             4.420000"
      ]
     },
     "execution_count": 23,
     "metadata": {},
     "output_type": "execute_result"
    }
   ],
   "source": [
    "# Load the history into a pandas Dataframe\n",
    "df = pd.DataFrame(history.history)\n",
    "df.head()\n"
   ]
  },
  {
   "cell_type": "code",
   "execution_count": 24,
   "metadata": {},
   "outputs": [
    {
     "data": {
      "text/plain": [
       "[Text(0.5, 0, 'Epochs'), Text(0, 0.5, 'Loss')]"
      ]
     },
     "execution_count": 24,
     "metadata": {},
     "output_type": "execute_result"
    },
    {
     "data": {
      "image/png": "[encoded data removed]",
      "text/plain": [
       "<Figure size 640x480 with 1 Axes>"
      ]
     },
     "metadata": {},
     "output_type": "display_data"
    }
   ],
   "source": [
    "# Make a plot for the loss\n",
    "loss_plot = df.plot(y=\"loss\", title = \"Loss vs. Epochs\", legend=False)\n",
    "loss_plot.set(xlabel=\"Epochs\", ylabel = \"Loss\")"
   ]
  },
  {
   "cell_type": "code",
   "execution_count": 25,
   "metadata": {},
   "outputs": [
    {
     "data": {
      "text/plain": [
       "[Text(0.5, 0, 'Epochs'), Text(0, 0.5, 'sparse_categorical_accuracy')]"
      ]
     },
     "execution_count": 25,
     "metadata": {},
     "output_type": "execute_result"
    },
    {
     "data": {
      "image/png": "[encoded data removed]",
      "text/plain": [
       "<Figure size 640x480 with 1 Axes>"
      ]
     },
     "metadata": {},
     "output_type": "display_data"
    }
   ],
   "source": [
    "# Make a plot for the accuracy\n",
    "loss_plot = df.plot(y=\"sparse_categorical_accuracy\", title = \"Accuracy vs. Epochs\", legend=False)\n",
    "loss_plot.set(xlabel=\"Epochs\", ylabel = \"sparse_categorical_accuracy\")"
   ]
  },
  {
   "cell_type": "code",
   "execution_count": 26,
   "metadata": {},
   "outputs": [
    {
     "data": {
      "text/plain": [
       "[Text(0.5, 0, 'Epochs'), Text(0, 0.5, 'MAE')]"
      ]
     },
     "execution_count": 26,
     "metadata": {},
     "output_type": "execute_result"
    },
    {
     "data": {
      "image/png": "[encoded data removed]",
      "text/plain": [
       "<Figure size 640x480 with 1 Axes>"
      ]
     },
     "metadata": {},
     "output_type": "display_data"
    }
   ],
   "source": [
    "# Make a plot for the additional metric\n",
    "loss_plot = df.plot(y=\"mean_absolute_error\", title = \"MAE vs. Epochs\", legend=False)\n",
    "loss_plot.set(xlabel=\"Epochs\", ylabel = \"MAE\")"
   ]
  },
  {
   "cell_type": "markdown",
   "metadata": {},
   "source": [
    "***\n",
    "<a id=\"coding_tutorial_5\"></a>\n",
    "## The evaluate and predict methods"
   ]
  },
  {
   "cell_type": "code",
   "execution_count": 27,
   "metadata": {},
   "outputs": [],
   "source": [
    "import matplotlib.pyplot as plt\n",
    "import numpy as np"
   ]
  },
  {
   "cell_type": "markdown",
   "metadata": {},
   "source": [
    "#### Evaluate the model on the test set"
   ]
  },
  {
   "cell_type": "code",
   "execution_count": 28,
   "metadata": {},
   "outputs": [
    {
     "name": "stdout",
     "output_type": "stream",
     "text": [
      "313/313 [==============================] - 1s 3ms/step - loss: 0.3213 - sparse_categorical_accuracy: 0.8870 - mean_absolute_error: 4.4200\n"
     ]
    }
   ],
   "source": [
    "# Evaluate the model\n",
    "test_loss, test_accuract, test_mae = model.evaluate(test_images[..., np.newaxis], test_labels)"
   ]
  },
  {
   "cell_type": "markdown",
   "metadata": {},
   "source": [
    "#### Make predictions from the model"
   ]
  },
  {
   "cell_type": "code",
   "execution_count": 29,
   "metadata": {},
   "outputs": [
    {
     "data": {
      "image/png": "[encoded data removed]",
      "text/plain": [
       "<Figure size 640x480 with 1 Axes>"
      ]
     },
     "metadata": {},
     "output_type": "display_data"
    },
    {
     "name": "stdout",
     "output_type": "stream",
     "text": [
      "Label: Pullover\n"
     ]
    }
   ],
   "source": [
    "# Choose a random test image\n",
    "\n",
    "random_inx = np.random.choice(test_images.shape[0])\n",
    "\n",
    "test_image = test_images[random_inx]\n",
    "plt.imshow(test_image)\n",
    "plt.show()\n",
    "print(f\"Label: {labels[test_labels[random_inx]]}\")"
   ]
  },
  {
   "cell_type": "code",
   "execution_count": 30,
   "metadata": {},
   "outputs": [
    {
     "name": "stdout",
     "output_type": "stream",
     "text": [
      "1/1 [==============================] - 0s 99ms/step\n",
      "Nodel prediction:  Shirt\n"
     ]
    }
   ],
   "source": [
    "# Get the model predictions\n",
    "predictions = model.predict(test_image[np.newaxis,..., np.newaxis])\n",
    "print(\"Nodel prediction: \",labels[np.argmax(predictions)])"
   ]
  }
 ],
 "metadata": {
  "kernelspec": {
   "display_name": "py3-TF2.0",
   "language": "python",
   "name": "py3-tf2.0"
  },
  "language_info": {
   "codemirror_mode": {
    "name": "ipython",
    "version": 3
   },
   "file_extension": ".py",
   "mimetype": "text/x-python",
   "name": "python",
   "nbconvert_exporter": "python",
   "pygments_lexer": "ipython3",
   "version": "3.10.9"
  }
 },
 "nbformat": 4,
 "nbformat_minor": 2
}
