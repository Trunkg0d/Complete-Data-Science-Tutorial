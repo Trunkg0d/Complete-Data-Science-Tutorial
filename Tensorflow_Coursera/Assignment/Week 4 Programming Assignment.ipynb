{
 "cells": [
  {
   "cell_type": "markdown",
   "metadata": {},
   "source": [
    "# Programming Assignment\n",
    "\n",
    "## Saving and loading models, with application to the EuroSat dataset\n",
    "\n",
    "### Instructions\n",
    "\n",
    "In this notebook, you will create a neural network that classifies land uses and land covers from satellite imagery. You will save your model using Tensorflow's callbacks and reload it later. You will also load in a pre-trained neural network classifier and compare performance with it. \n",
    "\n",
    "Some code cells are provided for you in the notebook. You should avoid editing provided code, and make sure to execute the cells in order to avoid unexpected errors. Some cells begin with the line: \n",
    "\n",
    "`#### GRADED CELL ####`\n",
    "\n",
    "Don't move or edit this first line - this is what the automatic grader looks for to recognise graded cells. These cells require you to write your own code to complete them, and are automatically graded when you submit the notebook. Don't edit the function name or signature provided in these cells, otherwise the automatic grader might not function properly. Inside these graded cells, you can use any functions or classes that are imported below, but make sure you don't use any variables that are outside the scope of the function.\n",
    "\n",
    "### How to submit\n",
    "\n",
    "Complete all the tasks you are asked for in the worksheet. When you have finished and are happy with your code, press the **Submit Assignment** button at the top of this notebook.\n",
    "\n",
    "### Let's get started!\n",
    "\n",
    "We'll start running some imports, and loading the dataset. Do not edit the existing imports in the following cell. If you would like to make further Tensorflow imports, you should add them here."
   ]
  },
  {
   "cell_type": "code",
   "execution_count": 1,
   "metadata": {},
   "outputs": [],
   "source": [
    "#### PACKAGE IMPORTS ####\n",
    "\n",
    "# Run this cell first to import all required packages. Do not make any imports elsewhere in the notebook\n",
    "\n",
    "import tensorflow as tf\n",
    "from tensorflow.keras.preprocessing.image import load_img, img_to_array\n",
    "from tensorflow.keras.models import Sequential, load_model\n",
    "from tensorflow.keras.layers import Dense, Flatten, Conv2D, MaxPooling2D\n",
    "from tensorflow.keras.callbacks import ModelCheckpoint, EarlyStopping\n",
    "import os\n",
    "import numpy as np\n",
    "import pandas as pd\n",
    "\n",
    "# If you would like to make further imports from tensorflow, add them here\n",
    "\n"
   ]
  },
  {
   "cell_type": "markdown",
   "metadata": {},
   "source": [
    "![EuroSAT overview image](data/eurosat_overview.jpg)\n",
    "\n",
    "#### The EuroSAT dataset\n",
    "\n",
    "In this assignment, you will use the [EuroSAT dataset](https://github.com/phelber/EuroSAT). It consists of 27000 labelled Sentinel-2 satellite images of different land uses: residential, industrial, highway, river, forest, pasture, herbaceous vegetation, annual crop, permanent crop and sea/lake. For a reference, see the following papers:\n",
    "- Eurosat: A novel dataset and deep learning benchmark for land use and land cover classification. Patrick Helber, Benjamin Bischke, Andreas Dengel, Damian Borth. IEEE Journal of Selected Topics in Applied Earth Observations and Remote Sensing, 2019.\n",
    "- Introducing EuroSAT: A Novel Dataset and Deep Learning Benchmark for Land Use and Land Cover Classification. Patrick Helber, Benjamin Bischke, Andreas Dengel. 2018 IEEE International Geoscience and Remote Sensing Symposium, 2018.\n",
    "\n",
    "Your goal is to construct a neural network that classifies a satellite image into one of these 10 classes, as well as applying some of the saving and loading techniques you have learned in the previous sessions."
   ]
  },
  {
   "cell_type": "markdown",
   "metadata": {},
   "source": [
    "#### Import the data\n",
    "\n",
    "The dataset you will train your model on is a subset of the total data, with 4000 training images and 1000 testing images, with roughly equal numbers of each class. The code to import the data is provided below."
   ]
  },
  {
   "cell_type": "code",
   "execution_count": 3,
   "metadata": {},
   "outputs": [],
   "source": [
    "# Run this cell to import the Eurosat data\n",
    "\n",
    "def load_eurosat_data():\n",
    "    data_dir = 'data/'\n",
    "    x_train = np.load(os.path.join(data_dir, 'x_train.npy'))\n",
    "    y_train = np.load(os.path.join(data_dir, 'y_train.npy'))\n",
    "    x_test  = np.load(os.path.join(data_dir, 'x_test.npy'))\n",
    "    y_test  = np.load(os.path.join(data_dir, 'y_test.npy'))\n",
    "    return (x_train, y_train), (x_test, y_test)\n",
    "\n",
    "(x_train, y_train), (x_test, y_test) = load_eurosat_data()\n",
    "x_train = x_train / 255.0\n",
    "x_test = x_test / 255.0"
   ]
  },
  {
   "cell_type": "markdown",
   "metadata": {},
   "source": [
    "#### Build the neural network model"
   ]
  },
  {
   "cell_type": "markdown",
   "metadata": {},
   "source": [
    "You can now construct a model to fit to the data. Using the Sequential API, build your model according to the following specifications:\n",
    "\n",
    "* The model should use the input_shape in the function argument to set the input size in the first layer.\n",
    "* The first layer should be a Conv2D layer with 16 filters, a 3x3 kernel size, a ReLU activation function and 'SAME' padding. Name this layer 'conv_1'.\n",
    "* The second layer should also be a Conv2D layer with 8 filters, a 3x3 kernel size, a ReLU activation function and 'SAME' padding. Name this layer 'conv_2'.\n",
    "* The third layer should be a MaxPooling2D layer with a pooling window size of 8x8. Name this layer 'pool_1'.\n",
    "* The fourth layer should be a Flatten layer, named 'flatten'.\n",
    "* The fifth layer should be a Dense layer with 32 units, a ReLU activation. Name this layer 'dense_1'.\n",
    "* The sixth and final layer should be a Dense layer with 10 units and softmax activation. Name this layer 'dense_2'.\n",
    "\n",
    "In total, the network should have 6 layers."
   ]
  },
  {
   "cell_type": "code",
   "execution_count": 4,
   "metadata": {},
   "outputs": [],
   "source": [
    "#### GRADED CELL ####\n",
    "\n",
    "# Complete the following function. \n",
    "# Make sure to not change the function name or arguments.\n",
    "\n",
    "def get_new_model(input_shape):\n",
    "    model = Sequential([\n",
    "        Conv2D(filters=16, kernel_size = (3, 3), padding = \"SAME\", activation = \"relu\", input_shape = input_shape, name = \"conv_1\"),\n",
    "        Conv2D(filters = 8, kernel_size = (3, 3), padding = \"SAME\", activation = \"relu\", name = \"conv_2\"),\n",
    "        MaxPooling2D(pool_size = (8, 8),  name = \"pool_1\"),\n",
    "        Flatten(name = \"flatten\"),\n",
    "        Dense(32, activation = \"relu\", name = \"dense_1\"),\n",
    "        Dense(10, activation = \"softmax\", name = \"dense_2\")\n",
    "    ])\n",
    "    model.compile(optimizer='adam',\n",
    "                  loss='sparse_categorical_crossentropy',\n",
    "                  metrics=['accuracy'])\n",
    "    return model\n",
    "    "
   ]
  },
  {
   "cell_type": "markdown",
   "metadata": {},
   "source": [
    "#### Compile and evaluate the model"
   ]
  },
  {
   "cell_type": "code",
   "execution_count": 5,
   "metadata": {},
   "outputs": [],
   "source": [
    "# Run your function to create the model\n",
    "\n",
    "model = get_new_model(x_train[0].shape)"
   ]
  },
  {
   "cell_type": "code",
   "execution_count": 6,
   "metadata": {},
   "outputs": [],
   "source": [
    "# Run this cell to define a function to evaluate a model's test accuracy\n",
    "\n",
    "def get_test_accuracy(model, x_test, y_test):\n",
    "    \"\"\"Test model classification accuracy\"\"\"\n",
    "    test_loss, test_acc = model.evaluate(x=x_test, y=y_test, verbose=0)\n",
    "    print('accuracy: {acc:0.3f}'.format(acc=test_acc))"
   ]
  },
  {
   "cell_type": "code",
   "execution_count": 7,
   "metadata": {},
   "outputs": [
    {
     "name": "stdout",
     "output_type": "stream",
     "text": [
      "Model: \"sequential\"\n",
      "_________________________________________________________________\n",
      " Layer (type)                Output Shape              Param #   \n",
      "=================================================================\n",
      " conv_1 (Conv2D)             (None, 64, 64, 16)        448       \n",
      "                                                                 \n",
      " conv_2 (Conv2D)             (None, 64, 64, 8)         1160      \n",
      "                                                                 \n",
      " pool_1 (MaxPooling2D)       (None, 8, 8, 8)           0         \n",
      "                                                                 \n",
      " flatten (Flatten)           (None, 512)               0         \n",
      "                                                                 \n",
      " dense_1 (Dense)             (None, 32)                16416     \n",
      "                                                                 \n",
      " dense_2 (Dense)             (None, 10)                330       \n",
      "                                                                 \n",
      "=================================================================\n",
      "Total params: 18,354\n",
      "Trainable params: 18,354\n",
      "Non-trainable params: 0\n",
      "_________________________________________________________________\n",
      "accuracy: 0.097\n"
     ]
    }
   ],
   "source": [
    "# Print the model summary and calculate its initialised test accuracy\n",
    "\n",
    "model.summary()\n",
    "get_test_accuracy(model, x_test, y_test)"
   ]
  },
  {
   "cell_type": "markdown",
   "metadata": {},
   "source": [
    "#### Create checkpoints to save model during training, with a criterion\n",
    "\n",
    "You will now create three callbacks:\n",
    "- `checkpoint_every_epoch`: checkpoint that saves the model weights every epoch during training\n",
    "- `checkpoint_best_only`: checkpoint that saves only the weights with the highest validation accuracy. Use the testing data as the validation data.\n",
    "- `early_stopping`: early stopping object that ends training if the validation accuracy has not improved in 3 epochs."
   ]
  },
  {
   "cell_type": "code",
   "execution_count": 8,
   "metadata": {},
   "outputs": [],
   "source": [
    "#### GRADED CELL ####\n",
    "\n",
    "# Complete the following functions. \n",
    "# Make sure to not change the function names or arguments.\n",
    "\n",
    "def get_checkpoint_every_epoch():\n",
    "    \"\"\"\n",
    "    This function should return a ModelCheckpoint object that:\n",
    "    - saves the weights only at the end of every epoch\n",
    "    - saves into a directory called 'checkpoints_every_epoch' inside the current working directory\n",
    "    - generates filenames in that directory like 'checkpoint_XXX' where\n",
    "      XXX is the epoch number formatted to have three digits, e.g. 001, 002, 003, etc.\n",
    "    \"\"\"\n",
    "    checkpoint_path = \"checkpoints_every_epoch/checkpoint_{epoch:03d}\"\n",
    "    checkpoint = ModelCheckpoint(filepath=checkpoint_path,\n",
    "                            frequency = 'epoch',\n",
    "                            save_weights_only = True,\n",
    "                            verbose = 1)\n",
    "    return checkpoint\n",
    "\n",
    "def get_checkpoint_best_only():\n",
    "    \"\"\"\n",
    "    This function should return a ModelCheckpoint object that:\n",
    "    - saves only the weights that generate the highest validation (testing) accuracy\n",
    "    - saves into a directory called 'checkpoints_best_only' inside the current working directory\n",
    "    - generates a file called 'checkpoints_best_only/checkpoint' \n",
    "    \"\"\"\n",
    "    checkpoint_path = \"checkpoints_best_only/checkpoint\"\n",
    "    checkpoint = ModelCheckpoint(filepath=checkpoint_path,\n",
    "                            frequency = 'epoch',\n",
    "                            save_best_only = True,\n",
    "                            monitor = \"val_accuracy\",\n",
    "                            save_weights_only= True,\n",
    "                            verbose = 1)\n",
    "    return checkpoint"
   ]
  },
  {
   "cell_type": "code",
   "execution_count": 9,
   "metadata": {},
   "outputs": [],
   "source": [
    "#### GRADED CELL ####\n",
    "\n",
    "# Complete the following function. \n",
    "# Make sure to not change the function name or arguments.\n",
    "\n",
    "def get_early_stopping():\n",
    "    \"\"\"\n",
    "    This function should return an EarlyStopping callback that stops training when\n",
    "    the validation (testing) accuracy has not improved in the last 3 epochs.\n",
    "    HINT: use the EarlyStopping callback with the correct 'monitor' and 'patience'\n",
    "    \"\"\"\n",
    "    early_stopping = EarlyStopping(monitor='val_accuracy', patience=3)\n",
    "    return early_stopping"
   ]
  },
  {
   "cell_type": "code",
   "execution_count": 10,
   "metadata": {},
   "outputs": [],
   "source": [
    "# Run this cell to create the callbacks\n",
    "\n",
    "checkpoint_every_epoch = get_checkpoint_every_epoch()\n",
    "checkpoint_best_only = get_checkpoint_best_only()\n",
    "early_stopping = get_early_stopping()"
   ]
  },
  {
   "cell_type": "markdown",
   "metadata": {},
   "source": [
    "#### Train model using the callbacks\n",
    "\n",
    "Now, you will train the model using the three callbacks you created. If you created the callbacks correctly, three things should happen:\n",
    "- At the end of every epoch, the model weights are saved into a directory called `checkpoints_every_epoch`\n",
    "- At the end of every epoch, the model weights are saved into a directory called `checkpoints_best_only` **only** if those weights lead to the highest test accuracy\n",
    "- Training stops when the testing accuracy has not improved in three epochs.\n",
    "\n",
    "You should then have two directories:\n",
    "- A directory called `checkpoints_every_epoch` containing filenames that include `checkpoint_001`, `checkpoint_002`, etc with the `001`, `002` corresponding to the epoch\n",
    "- A directory called `checkpoints_best_only` containing filenames that include `checkpoint`, which contain only the weights leading to the highest testing accuracy"
   ]
  },
  {
   "cell_type": "code",
   "execution_count": 11,
   "metadata": {},
   "outputs": [
    {
     "name": "stdout",
     "output_type": "stream",
     "text": [
      "Epoch 1/50\n",
      "125/125 [==============================] - ETA: 0s - loss: 2.0618 - accuracy: 0.1957\n",
      "Epoch 1: saving model to checkpoints_every_epoch\\checkpoint_001\n",
      "\n",
      "Epoch 1: val_accuracy improved from -inf to 0.36900, saving model to checkpoints_best_only\\checkpoint\n",
      "125/125 [==============================] - 5s 34ms/step - loss: 2.0618 - accuracy: 0.1957 - val_loss: 1.7381 - val_accuracy: 0.3690\n",
      "Epoch 2/50\n",
      "124/125 [============================>.] - ETA: 0s - loss: 1.4940 - accuracy: 0.4206\n",
      "Epoch 2: saving model to checkpoints_every_epoch\\checkpoint_002\n",
      "\n",
      "Epoch 2: val_accuracy improved from 0.36900 to 0.41700, saving model to checkpoints_best_only\\checkpoint\n",
      "125/125 [==============================] - 4s 29ms/step - loss: 1.4939 - accuracy: 0.4200 - val_loss: 1.4624 - val_accuracy: 0.4170\n",
      "Epoch 3/50\n",
      "124/125 [============================>.] - ETA: 0s - loss: 1.3439 - accuracy: 0.4730\n",
      "Epoch 3: saving model to checkpoints_every_epoch\\checkpoint_003\n",
      "\n",
      "Epoch 3: val_accuracy improved from 0.41700 to 0.43500, saving model to checkpoints_best_only\\checkpoint\n",
      "125/125 [==============================] - 5s 36ms/step - loss: 1.3416 - accuracy: 0.4745 - val_loss: 1.4112 - val_accuracy: 0.4350\n",
      "Epoch 4/50\n",
      "124/125 [============================>.] - ETA: 0s - loss: 1.2656 - accuracy: 0.5257\n",
      "Epoch 4: saving model to checkpoints_every_epoch\\checkpoint_004\n",
      "\n",
      "Epoch 4: val_accuracy improved from 0.43500 to 0.53800, saving model to checkpoints_best_only\\checkpoint\n",
      "125/125 [==============================] - 3s 27ms/step - loss: 1.2619 - accuracy: 0.5280 - val_loss: 1.2500 - val_accuracy: 0.5380\n",
      "Epoch 5/50\n",
      "123/125 [============================>.] - ETA: 0s - loss: 1.1750 - accuracy: 0.5722\n",
      "Epoch 5: saving model to checkpoints_every_epoch\\checkpoint_005\n",
      "\n",
      "Epoch 5: val_accuracy improved from 0.53800 to 0.55400, saving model to checkpoints_best_only\\checkpoint\n",
      "125/125 [==============================] - 5s 35ms/step - loss: 1.1735 - accuracy: 0.5725 - val_loss: 1.1982 - val_accuracy: 0.5540\n",
      "Epoch 6/50\n",
      "123/125 [============================>.] - ETA: 0s - loss: 1.1220 - accuracy: 0.5912\n",
      "Epoch 6: saving model to checkpoints_every_epoch\\checkpoint_006\n",
      "\n",
      "Epoch 6: val_accuracy did not improve from 0.55400\n",
      "125/125 [==============================] - 4s 28ms/step - loss: 1.1202 - accuracy: 0.5915 - val_loss: 1.2148 - val_accuracy: 0.5360\n",
      "Epoch 7/50\n",
      "124/125 [============================>.] - ETA: 0s - loss: 1.0793 - accuracy: 0.6137\n",
      "Epoch 7: saving model to checkpoints_every_epoch\\checkpoint_007\n",
      "\n",
      "Epoch 7: val_accuracy did not improve from 0.55400\n",
      "125/125 [==============================] - 3s 26ms/step - loss: 1.0796 - accuracy: 0.6137 - val_loss: 1.1786 - val_accuracy: 0.5530\n",
      "Epoch 8/50\n",
      "125/125 [==============================] - ETA: 0s - loss: 1.0475 - accuracy: 0.6215\n",
      "Epoch 8: saving model to checkpoints_every_epoch\\checkpoint_008\n",
      "\n",
      "Epoch 8: val_accuracy improved from 0.55400 to 0.59800, saving model to checkpoints_best_only\\checkpoint\n",
      "125/125 [==============================] - 4s 31ms/step - loss: 1.0475 - accuracy: 0.6215 - val_loss: 1.1251 - val_accuracy: 0.5980\n",
      "Epoch 9/50\n",
      "125/125 [==============================] - ETA: 0s - loss: 0.9701 - accuracy: 0.6507\n",
      "Epoch 9: saving model to checkpoints_every_epoch\\checkpoint_009\n",
      "\n",
      "Epoch 9: val_accuracy did not improve from 0.59800\n",
      "125/125 [==============================] - 4s 33ms/step - loss: 0.9701 - accuracy: 0.6507 - val_loss: 1.1210 - val_accuracy: 0.5650\n",
      "Epoch 10/50\n",
      "125/125 [==============================] - ETA: 0s - loss: 0.9438 - accuracy: 0.6582\n",
      "Epoch 10: saving model to checkpoints_every_epoch\\checkpoint_010\n",
      "\n",
      "Epoch 10: val_accuracy improved from 0.59800 to 0.60500, saving model to checkpoints_best_only\\checkpoint\n",
      "125/125 [==============================] - 4s 27ms/step - loss: 0.9438 - accuracy: 0.6582 - val_loss: 1.0532 - val_accuracy: 0.6050\n",
      "Epoch 11/50\n",
      "124/125 [============================>.] - ETA: 0s - loss: 0.8923 - accuracy: 0.6764\n",
      "Epoch 11: saving model to checkpoints_every_epoch\\checkpoint_011\n",
      "\n",
      "Epoch 11: val_accuracy improved from 0.60500 to 0.64800, saving model to checkpoints_best_only\\checkpoint\n",
      "125/125 [==============================] - 4s 28ms/step - loss: 0.8912 - accuracy: 0.6765 - val_loss: 0.9780 - val_accuracy: 0.6480\n",
      "Epoch 12/50\n",
      "124/125 [============================>.] - ETA: 0s - loss: 0.8484 - accuracy: 0.6925\n",
      "Epoch 12: saving model to checkpoints_every_epoch\\checkpoint_012\n",
      "\n",
      "Epoch 12: val_accuracy did not improve from 0.64800\n",
      "125/125 [==============================] - 4s 31ms/step - loss: 0.8474 - accuracy: 0.6923 - val_loss: 0.9641 - val_accuracy: 0.6470\n",
      "Epoch 13/50\n",
      "123/125 [============================>.] - ETA: 0s - loss: 0.8278 - accuracy: 0.7027\n",
      "Epoch 13: saving model to checkpoints_every_epoch\\checkpoint_013\n",
      "\n",
      "Epoch 13: val_accuracy improved from 0.64800 to 0.66300, saving model to checkpoints_best_only\\checkpoint\n",
      "125/125 [==============================] - 4s 29ms/step - loss: 0.8278 - accuracy: 0.7030 - val_loss: 0.9433 - val_accuracy: 0.6630\n",
      "Epoch 14/50\n",
      "125/125 [==============================] - ETA: 0s - loss: 0.8068 - accuracy: 0.7010\n",
      "Epoch 14: saving model to checkpoints_every_epoch\\checkpoint_014\n",
      "\n",
      "Epoch 14: val_accuracy did not improve from 0.66300\n",
      "125/125 [==============================] - 4s 33ms/step - loss: 0.8068 - accuracy: 0.7010 - val_loss: 0.9270 - val_accuracy: 0.6560\n",
      "Epoch 15/50\n",
      "124/125 [============================>.] - ETA: 0s - loss: 0.7733 - accuracy: 0.7160\n",
      "Epoch 15: saving model to checkpoints_every_epoch\\checkpoint_015\n",
      "\n",
      "Epoch 15: val_accuracy improved from 0.66300 to 0.66700, saving model to checkpoints_best_only\\checkpoint\n",
      "125/125 [==============================] - 4s 30ms/step - loss: 0.7746 - accuracy: 0.7157 - val_loss: 0.9230 - val_accuracy: 0.6670\n",
      "Epoch 16/50\n",
      "125/125 [==============================] - ETA: 0s - loss: 0.7679 - accuracy: 0.7182\n",
      "Epoch 16: saving model to checkpoints_every_epoch\\checkpoint_016\n",
      "\n",
      "Epoch 16: val_accuracy improved from 0.66700 to 0.68000, saving model to checkpoints_best_only\\checkpoint\n",
      "125/125 [==============================] - 5s 36ms/step - loss: 0.7679 - accuracy: 0.7182 - val_loss: 0.8896 - val_accuracy: 0.6800\n",
      "Epoch 17/50\n",
      "124/125 [============================>.] - ETA: 0s - loss: 0.7383 - accuracy: 0.7329\n",
      "Epoch 17: saving model to checkpoints_every_epoch\\checkpoint_017\n",
      "\n",
      "Epoch 17: val_accuracy did not improve from 0.68000\n",
      "125/125 [==============================] - 3s 26ms/step - loss: 0.7397 - accuracy: 0.7325 - val_loss: 0.9181 - val_accuracy: 0.6670\n",
      "Epoch 18/50\n",
      "123/125 [============================>.] - ETA: 0s - loss: 0.7270 - accuracy: 0.7330\n",
      "Epoch 18: saving model to checkpoints_every_epoch\\checkpoint_018\n",
      "\n",
      "Epoch 18: val_accuracy did not improve from 0.68000\n",
      "125/125 [==============================] - 4s 31ms/step - loss: 0.7263 - accuracy: 0.7343 - val_loss: 0.8648 - val_accuracy: 0.6730\n",
      "Epoch 19/50\n",
      "123/125 [============================>.] - ETA: 0s - loss: 0.7038 - accuracy: 0.7401\n",
      "Epoch 19: saving model to checkpoints_every_epoch\\checkpoint_019\n",
      "\n",
      "Epoch 19: val_accuracy did not improve from 0.68000\n",
      "125/125 [==============================] - 4s 30ms/step - loss: 0.7014 - accuracy: 0.7408 - val_loss: 0.8752 - val_accuracy: 0.6770\n"
     ]
    },
    {
     "data": {
      "text/plain": [
       "<keras.callbacks.History at 0x1b2e0cf9540>"
      ]
     },
     "execution_count": 11,
     "metadata": {},
     "output_type": "execute_result"
    }
   ],
   "source": [
    "# Train model using the callbacks you just created\n",
    "\n",
    "callbacks = [checkpoint_every_epoch, checkpoint_best_only, early_stopping]\n",
    "model.fit(x_train, y_train, epochs=50, validation_data=(x_test, y_test), callbacks=callbacks)"
   ]
  },
  {
   "cell_type": "markdown",
   "metadata": {},
   "source": [
    "#### Create new instance of model and load on both sets of weights\n",
    "\n",
    "Now you will use the weights you just saved in a fresh model. You should create two functions, both of which take a freshly instantiated model instance:\n",
    "- `model_last_epoch` should contain the weights from the latest saved epoch\n",
    "- `model_best_epoch` should contain the weights from the saved epoch with the highest testing accuracy\n",
    "\n",
    "_Hint: use the_ `tf.train.latest_checkpoint` _function to get the filename of the latest saved checkpoint file. Check the docs_ [_here_](https://www.tensorflow.org/api_docs/python/tf/train/latest_checkpoint)."
   ]
  },
  {
   "cell_type": "code",
   "execution_count": 12,
   "metadata": {},
   "outputs": [],
   "source": [
    "#### GRADED CELL ####\n",
    "\n",
    "# Complete the following functions. \n",
    "# Make sure to not change the function name or arguments.\n",
    "\n",
    "def get_model_last_epoch(model):\n",
    "    \"\"\"\n",
    "    This function should create a new instance of the CNN you created earlier,\n",
    "    load on the weights from the last training epoch, and return this model.\n",
    "    \"\"\"\n",
    "    model.load_weights(tf.train.latest_checkpoint(\"checkpoints_every_epoch\"))\n",
    "    return model\n",
    "    \n",
    "    \n",
    "    \n",
    "def get_model_best_epoch(model):\n",
    "    \"\"\"\n",
    "    This function should create a new instance of the CNN you created earlier, load \n",
    "    on the weights leading to the highest validation accuracy, and return this model.\n",
    "    \"\"\"\n",
    "    model.load_weights(tf.train.latest_checkpoint(\"checkpoints_best_only\"))\n",
    "    return model\n",
    "    "
   ]
  },
  {
   "cell_type": "code",
   "execution_count": 13,
   "metadata": {},
   "outputs": [
    {
     "name": "stdout",
     "output_type": "stream",
     "text": [
      "Model with last epoch weights:\n",
      "accuracy: 0.677\n",
      "\n",
      "Model with best epoch weights:\n",
      "accuracy: 0.680\n"
     ]
    }
   ],
   "source": [
    "# Run this cell to create two models: one with the weights from the last training\n",
    "# epoch, and one with the weights leading to the highest validation (testing) accuracy.\n",
    "# Verify that the second has a higher validation (testing) accuarcy.\n",
    "\n",
    "model_last_epoch = get_model_last_epoch(get_new_model(x_train[0].shape))\n",
    "model_best_epoch = get_model_best_epoch(get_new_model(x_train[0].shape))\n",
    "print('Model with last epoch weights:')\n",
    "get_test_accuracy(model_last_epoch, x_test, y_test)\n",
    "print('')\n",
    "print('Model with best epoch weights:')\n",
    "get_test_accuracy(model_best_epoch, x_test, y_test)"
   ]
  },
  {
   "cell_type": "markdown",
   "metadata": {},
   "source": [
    "#### Load, from scratch, a model trained on the EuroSat dataset.\n",
    "\n",
    "In your workspace, you will find another model trained on the `EuroSAT` dataset in `.h5` format. This model is trained on a larger subset of the EuroSAT dataset and has a more complex architecture. The path to the model is `models/EuroSatNet.h5`. See how its testing accuracy compares to your model!"
   ]
  },
  {
   "cell_type": "code",
   "execution_count": 14,
   "metadata": {},
   "outputs": [],
   "source": [
    "#### GRADED CELL ####\n",
    "\n",
    "# Complete the following functions. \n",
    "# Make sure to not change the function name or arguments.\n",
    "\n",
    "def get_model_eurosatnet():\n",
    "    \"\"\"\n",
    "    This function should return the pretrained EuroSatNet.h5 model.\n",
    "    \"\"\"\n",
    "    model = load_model(\"models/EuroSatNet.h5\")\n",
    "    return model\n",
    "    "
   ]
  },
  {
   "cell_type": "code",
   "execution_count": 15,
   "metadata": {},
   "outputs": [
    {
     "name": "stdout",
     "output_type": "stream",
     "text": [
      "Model: \"sequential_21\"\n",
      "_________________________________________________________________\n",
      " Layer (type)                Output Shape              Param #   \n",
      "=================================================================\n",
      " conv_1 (Conv2D)             (None, 64, 64, 16)        448       \n",
      "                                                                 \n",
      " conv_2 (Conv2D)             (None, 64, 64, 16)        6416      \n",
      "                                                                 \n",
      " pool_1 (MaxPooling2D)       (None, 32, 32, 16)        0         \n",
      "                                                                 \n",
      " conv_3 (Conv2D)             (None, 32, 32, 16)        2320      \n",
      "                                                                 \n",
      " conv_4 (Conv2D)             (None, 32, 32, 16)        6416      \n",
      "                                                                 \n",
      " pool_2 (MaxPooling2D)       (None, 16, 16, 16)        0         \n",
      "                                                                 \n",
      " conv_5 (Conv2D)             (None, 16, 16, 16)        2320      \n",
      "                                                                 \n",
      " conv_6 (Conv2D)             (None, 16, 16, 16)        6416      \n",
      "                                                                 \n",
      " pool_3 (MaxPooling2D)       (None, 8, 8, 16)          0         \n",
      "                                                                 \n",
      " conv_7 (Conv2D)             (None, 8, 8, 16)          2320      \n",
      "                                                                 \n",
      " conv_8 (Conv2D)             (None, 8, 8, 16)          6416      \n",
      "                                                                 \n",
      " pool_4 (MaxPooling2D)       (None, 4, 4, 16)          0         \n",
      "                                                                 \n",
      " flatten (Flatten)           (None, 256)               0         \n",
      "                                                                 \n",
      " dense_1 (Dense)             (None, 32)                8224      \n",
      "                                                                 \n",
      " dense_2 (Dense)             (None, 10)                330       \n",
      "                                                                 \n",
      "=================================================================\n",
      "Total params: 41,626\n",
      "Trainable params: 41,626\n",
      "Non-trainable params: 0\n",
      "_________________________________________________________________\n",
      "accuracy: 0.080\n"
     ]
    }
   ],
   "source": [
    "# Run this cell to print a summary of the EuroSatNet model, along with its validation accuracy.\n",
    "\n",
    "model_eurosatnet = get_model_eurosatnet()\n",
    "model_eurosatnet.summary()\n",
    "get_test_accuracy(model_eurosatnet, x_test, y_test)"
   ]
  },
  {
   "cell_type": "markdown",
   "metadata": {},
   "source": [
    "Congratulations for completing this programming assignment! You're now ready to move on to the capstone project for this course."
   ]
  },
  {
   "cell_type": "code",
   "execution_count": null,
   "metadata": {},
   "outputs": [],
   "source": []
  }
 ],
 "metadata": {
  "coursera": {
   "course_slug": "tensor-flow-2-1",
   "graded_item_id": "JaRY0",
   "launcher_item_id": "mJ8fg"
  },
  "kernelspec": {
   "display_name": "py3-TF2.0",
   "language": "python",
   "name": "py3-tf2.0"
  },
  "language_info": {
   "codemirror_mode": {
    "name": "ipython",
    "version": 3
   },
   "file_extension": ".py",
   "mimetype": "text/x-python",
   "name": "python",
   "nbconvert_exporter": "python",
   "pygments_lexer": "ipython3",
   "version": "3.10.9"
  }
 },
 "nbformat": 4,
 "nbformat_minor": 2
}
