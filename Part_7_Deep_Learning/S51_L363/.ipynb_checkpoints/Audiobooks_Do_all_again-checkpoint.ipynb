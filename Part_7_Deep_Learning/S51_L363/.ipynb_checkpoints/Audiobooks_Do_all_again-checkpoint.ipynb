{
 "cells": [
  {
   "cell_type": "code",
   "execution_count": 1,
   "id": "cb5e5029",
   "metadata": {},
   "outputs": [],
   "source": [
    "import pandas as pd\n",
    "import numpy as np\n",
    "import tensorflow as tf\n",
    "\n",
    "from sklearn import preprocessing"
   ]
  },
  {
   "cell_type": "markdown",
   "id": "121be657",
   "metadata": {},
   "source": [
    "## Load Data - Preprocessing"
   ]
  },
  {
   "cell_type": "code",
   "execution_count": 2,
   "id": "a41c579a",
   "metadata": {},
   "outputs": [
    {
     "data": {
      "text/html": [
       "<div>\n",
       "<style scoped>\n",
       "    .dataframe tbody tr th:only-of-type {\n",
       "        vertical-align: middle;\n",
       "    }\n",
       "\n",
       "    .dataframe tbody tr th {\n",
       "        vertical-align: top;\n",
       "    }\n",
       "\n",
       "    .dataframe thead th {\n",
       "        text-align: right;\n",
       "    }\n",
       "</style>\n",
       "<table border=\"1\" class=\"dataframe\">\n",
       "  <thead>\n",
       "    <tr style=\"text-align: right;\">\n",
       "      <th></th>\n",
       "      <th>0</th>\n",
       "      <th>1</th>\n",
       "      <th>2</th>\n",
       "      <th>3</th>\n",
       "      <th>4</th>\n",
       "      <th>5</th>\n",
       "      <th>6</th>\n",
       "      <th>7</th>\n",
       "      <th>8</th>\n",
       "      <th>9</th>\n",
       "      <th>10</th>\n",
       "      <th>11</th>\n",
       "    </tr>\n",
       "  </thead>\n",
       "  <tbody>\n",
       "    <tr>\n",
       "      <th>0</th>\n",
       "      <td>873</td>\n",
       "      <td>2160.0</td>\n",
       "      <td>2160</td>\n",
       "      <td>10.13</td>\n",
       "      <td>10.13</td>\n",
       "      <td>0</td>\n",
       "      <td>8.91</td>\n",
       "      <td>0.00</td>\n",
       "      <td>0.0</td>\n",
       "      <td>0</td>\n",
       "      <td>0</td>\n",
       "      <td>1</td>\n",
       "    </tr>\n",
       "    <tr>\n",
       "      <th>1</th>\n",
       "      <td>611</td>\n",
       "      <td>1404.0</td>\n",
       "      <td>2808</td>\n",
       "      <td>6.66</td>\n",
       "      <td>13.33</td>\n",
       "      <td>1</td>\n",
       "      <td>6.50</td>\n",
       "      <td>0.00</td>\n",
       "      <td>0.0</td>\n",
       "      <td>0</td>\n",
       "      <td>182</td>\n",
       "      <td>1</td>\n",
       "    </tr>\n",
       "    <tr>\n",
       "      <th>2</th>\n",
       "      <td>705</td>\n",
       "      <td>324.0</td>\n",
       "      <td>324</td>\n",
       "      <td>10.13</td>\n",
       "      <td>10.13</td>\n",
       "      <td>1</td>\n",
       "      <td>9.00</td>\n",
       "      <td>0.00</td>\n",
       "      <td>0.0</td>\n",
       "      <td>1</td>\n",
       "      <td>334</td>\n",
       "      <td>1</td>\n",
       "    </tr>\n",
       "    <tr>\n",
       "      <th>3</th>\n",
       "      <td>391</td>\n",
       "      <td>1620.0</td>\n",
       "      <td>1620</td>\n",
       "      <td>15.31</td>\n",
       "      <td>15.31</td>\n",
       "      <td>0</td>\n",
       "      <td>9.00</td>\n",
       "      <td>0.00</td>\n",
       "      <td>0.0</td>\n",
       "      <td>0</td>\n",
       "      <td>183</td>\n",
       "      <td>1</td>\n",
       "    </tr>\n",
       "    <tr>\n",
       "      <th>4</th>\n",
       "      <td>819</td>\n",
       "      <td>432.0</td>\n",
       "      <td>1296</td>\n",
       "      <td>7.11</td>\n",
       "      <td>21.33</td>\n",
       "      <td>1</td>\n",
       "      <td>9.00</td>\n",
       "      <td>0.00</td>\n",
       "      <td>0.0</td>\n",
       "      <td>0</td>\n",
       "      <td>0</td>\n",
       "      <td>1</td>\n",
       "    </tr>\n",
       "    <tr>\n",
       "      <th>...</th>\n",
       "      <td>...</td>\n",
       "      <td>...</td>\n",
       "      <td>...</td>\n",
       "      <td>...</td>\n",
       "      <td>...</td>\n",
       "      <td>...</td>\n",
       "      <td>...</td>\n",
       "      <td>...</td>\n",
       "      <td>...</td>\n",
       "      <td>...</td>\n",
       "      <td>...</td>\n",
       "      <td>...</td>\n",
       "    </tr>\n",
       "    <tr>\n",
       "      <th>14079</th>\n",
       "      <td>27398</td>\n",
       "      <td>2160.0</td>\n",
       "      <td>2160</td>\n",
       "      <td>7.99</td>\n",
       "      <td>7.99</td>\n",
       "      <td>0</td>\n",
       "      <td>8.91</td>\n",
       "      <td>0.00</td>\n",
       "      <td>0.0</td>\n",
       "      <td>0</td>\n",
       "      <td>54</td>\n",
       "      <td>0</td>\n",
       "    </tr>\n",
       "    <tr>\n",
       "      <th>14080</th>\n",
       "      <td>28220</td>\n",
       "      <td>1620.0</td>\n",
       "      <td>1620</td>\n",
       "      <td>5.33</td>\n",
       "      <td>5.33</td>\n",
       "      <td>1</td>\n",
       "      <td>9.00</td>\n",
       "      <td>0.61</td>\n",
       "      <td>0.0</td>\n",
       "      <td>0</td>\n",
       "      <td>4</td>\n",
       "      <td>0</td>\n",
       "    </tr>\n",
       "    <tr>\n",
       "      <th>14081</th>\n",
       "      <td>28671</td>\n",
       "      <td>1080.0</td>\n",
       "      <td>1080</td>\n",
       "      <td>6.55</td>\n",
       "      <td>6.55</td>\n",
       "      <td>1</td>\n",
       "      <td>6.00</td>\n",
       "      <td>0.29</td>\n",
       "      <td>0.0</td>\n",
       "      <td>0</td>\n",
       "      <td>29</td>\n",
       "      <td>0</td>\n",
       "    </tr>\n",
       "    <tr>\n",
       "      <th>14082</th>\n",
       "      <td>31134</td>\n",
       "      <td>2160.0</td>\n",
       "      <td>2160</td>\n",
       "      <td>6.14</td>\n",
       "      <td>6.14</td>\n",
       "      <td>0</td>\n",
       "      <td>8.91</td>\n",
       "      <td>0.00</td>\n",
       "      <td>0.0</td>\n",
       "      <td>0</td>\n",
       "      <td>0</td>\n",
       "      <td>0</td>\n",
       "    </tr>\n",
       "    <tr>\n",
       "      <th>14083</th>\n",
       "      <td>32832</td>\n",
       "      <td>1620.0</td>\n",
       "      <td>1620</td>\n",
       "      <td>5.33</td>\n",
       "      <td>5.33</td>\n",
       "      <td>1</td>\n",
       "      <td>8.00</td>\n",
       "      <td>0.38</td>\n",
       "      <td>0.0</td>\n",
       "      <td>0</td>\n",
       "      <td>90</td>\n",
       "      <td>0</td>\n",
       "    </tr>\n",
       "  </tbody>\n",
       "</table>\n",
       "<p>14084 rows × 12 columns</p>\n",
       "</div>"
      ],
      "text/plain": [
       "          0       1     2      3      4   5     6     7    8   9    10  11\n",
       "0        873  2160.0  2160  10.13  10.13   0  8.91  0.00  0.0   0    0   1\n",
       "1        611  1404.0  2808   6.66  13.33   1  6.50  0.00  0.0   0  182   1\n",
       "2        705   324.0   324  10.13  10.13   1  9.00  0.00  0.0   1  334   1\n",
       "3        391  1620.0  1620  15.31  15.31   0  9.00  0.00  0.0   0  183   1\n",
       "4        819   432.0  1296   7.11  21.33   1  9.00  0.00  0.0   0    0   1\n",
       "...      ...     ...   ...    ...    ...  ..   ...   ...  ...  ..  ...  ..\n",
       "14079  27398  2160.0  2160   7.99   7.99   0  8.91  0.00  0.0   0   54   0\n",
       "14080  28220  1620.0  1620   5.33   5.33   1  9.00  0.61  0.0   0    4   0\n",
       "14081  28671  1080.0  1080   6.55   6.55   1  6.00  0.29  0.0   0   29   0\n",
       "14082  31134  2160.0  2160   6.14   6.14   0  8.91  0.00  0.0   0    0   0\n",
       "14083  32832  1620.0  1620   5.33   5.33   1  8.00  0.38  0.0   0   90   0\n",
       "\n",
       "[14084 rows x 12 columns]"
      ]
     },
     "execution_count": 2,
     "metadata": {},
     "output_type": "execute_result"
    }
   ],
   "source": [
    "raw_data = pd.read_csv(\"D:/Data Science Tutorial/Data/Audiobooks_data.csv\", header=None)\n",
    "raw_data"
   ]
  },
  {
   "cell_type": "code",
   "execution_count": 3,
   "id": "67809578",
   "metadata": {},
   "outputs": [],
   "source": [
    "raw_data = raw_data.values\n",
    "usefull_data = raw_data[:, 1:]"
   ]
  },
  {
   "cell_type": "code",
   "execution_count": 4,
   "id": "3f7375ec",
   "metadata": {},
   "outputs": [],
   "source": [
    "usefull_data\n",
    "inputs_data = usefull_data[:, : -1]\n",
    "targets_data = usefull_data[:, -1]"
   ]
  },
  {
   "cell_type": "code",
   "execution_count": 5,
   "id": "ddfdb7c7",
   "metadata": {},
   "outputs": [
    {
     "data": {
      "text/plain": [
       "(array([[2.160e+03, 2.160e+03, 1.013e+01, ..., 0.000e+00, 0.000e+00,\n",
       "         0.000e+00],\n",
       "        [1.404e+03, 2.808e+03, 6.660e+00, ..., 0.000e+00, 0.000e+00,\n",
       "         1.820e+02],\n",
       "        [3.240e+02, 3.240e+02, 1.013e+01, ..., 0.000e+00, 1.000e+00,\n",
       "         3.340e+02],\n",
       "        ...,\n",
       "        [1.080e+03, 1.080e+03, 6.550e+00, ..., 0.000e+00, 0.000e+00,\n",
       "         2.900e+01],\n",
       "        [2.160e+03, 2.160e+03, 6.140e+00, ..., 0.000e+00, 0.000e+00,\n",
       "         0.000e+00],\n",
       "        [1.620e+03, 1.620e+03, 5.330e+00, ..., 0.000e+00, 0.000e+00,\n",
       "         9.000e+01]]),\n",
       " array([1., 1., 1., ..., 0., 0., 0.]))"
      ]
     },
     "execution_count": 5,
     "metadata": {},
     "output_type": "execute_result"
    }
   ],
   "source": [
    "inputs_data, targets_data"
   ]
  },
  {
   "cell_type": "code",
   "execution_count": 6,
   "id": "3b7e12b0",
   "metadata": {},
   "outputs": [
    {
     "data": {
      "text/plain": [
       "(array([[ 1.12768719,  0.7351559 ,  0.61364906, ..., -0.44129834,\n",
       "         -0.14873032, -0.70217541],\n",
       "        [-0.37135283,  1.72474784, -0.08999108, ..., -0.44129834,\n",
       "         -0.14873032,  1.36121133],\n",
       "        [-2.51283858, -2.06868796,  0.61364906, ..., -0.44129834,\n",
       "          1.96928571,  3.08447937],\n",
       "        ...,\n",
       "        [-1.01379856, -0.91416402, -0.11229667, ..., -0.44129834,\n",
       "         -0.14873032, -0.37339401],\n",
       "        [ 1.12768719,  0.7351559 , -0.19543571, ..., -0.44129834,\n",
       "         -0.14873032, -0.70217541],\n",
       "        [ 0.05694432, -0.08950406, -0.359686  , ..., -0.44129834,\n",
       "         -0.14873032,  0.31818067]]),\n",
       " array([1., 1., 1., ..., 0., 0., 0.]))"
      ]
     },
     "execution_count": 6,
     "metadata": {},
     "output_type": "execute_result"
    }
   ],
   "source": [
    "scaled_inputs = preprocessing.scale(inputs_data)\n",
    "scaled_inputs, targets_data"
   ]
  },
  {
   "cell_type": "markdown",
   "id": "476dbf08",
   "metadata": {},
   "source": [
    "### Balance dataset"
   ]
  },
  {
   "cell_type": "code",
   "execution_count": 7,
   "id": "48066562",
   "metadata": {},
   "outputs": [
    {
     "data": {
      "text/plain": [
       "((4474, 10), (4474,))"
      ]
     },
     "execution_count": 7,
     "metadata": {},
     "output_type": "execute_result"
    }
   ],
   "source": [
    "sum_one = int(targets_data.sum())\n",
    "sum_one\n",
    "sum_zero = 0\n",
    "remove_indices = []\n",
    "for i in range(targets_data.shape[0]):\n",
    "    if(targets_data[i] == 0):\n",
    "        sum_zero += 1\n",
    "        if(sum_zero > sum_one):\n",
    "            remove_indices.append(i)\n",
    "balanced_targets = np.delete(targets_data, remove_indices, axis = 0)\n",
    "balanced_inputs = np.delete(inputs_data, remove_indices, axis = 0)\n",
    "balanced_inputs.shape, balanced_targets.shape"
   ]
  },
  {
   "cell_type": "code",
   "execution_count": 8,
   "id": "a8ae3a66",
   "metadata": {},
   "outputs": [
    {
     "data": {
      "text/plain": [
       "(array([[ 1.12768719,  0.7351559 ,  0.27095401, ..., -0.44129834,\n",
       "         -0.14873032, -0.70217541],\n",
       "        [ 1.12768719,  0.7351559 , -0.359686  , ...,  2.29967159,\n",
       "         -0.14873032,  1.00975534],\n",
       "        [ 0.05694432, -0.08950406,  0.17970385, ..., -0.20015729,\n",
       "         -0.14873032, -0.70217541],\n",
       "        ...,\n",
       "        [ 1.12768719,  0.7351559 , -0.359686  , ...,  2.29967159,\n",
       "         -0.14873032,  2.01877413],\n",
       "        [ 0.05694432, -0.08950406, -0.359686  , ..., -0.44129834,\n",
       "         -0.14873032, -0.70217541],\n",
       "        [-0.79964998, -0.74923203, -0.359686  , ...,  1.32706936,\n",
       "         -0.14873032, -0.69083812]]),\n",
       " array([1., 0., 1., ..., 0., 1., 0.]))"
      ]
     },
     "execution_count": 8,
     "metadata": {},
     "output_type": "execute_result"
    }
   ],
   "source": [
    "shuffle_indices = np.arange(balanced_targets.shape[0])\n",
    "np.random.shuffle(shuffle_indices)\n",
    "\n",
    "shuffle_inputs = scaled_inputs[shuffle_indices]\n",
    "shuffle_targets = targets_data[shuffle_indices]\n",
    "\n",
    "shuffle_inputs, shuffle_targets"
   ]
  },
  {
   "cell_type": "code",
   "execution_count": 9,
   "id": "a878f246",
   "metadata": {},
   "outputs": [
    {
     "data": {
      "text/plain": [
       "(3579, 447, 448)"
      ]
     },
     "execution_count": 9,
     "metadata": {},
     "output_type": "execute_result"
    }
   ],
   "source": [
    "train_num = int(0.8 * shuffle_targets.shape[0])\n",
    "validation_num = int(0.1 * shuffle_targets.shape[0])\n",
    "test_num = int(shuffle_targets.shape[0] - train_num - validation_num)\n",
    "train_num, validation_num, test_num"
   ]
  },
  {
   "cell_type": "code",
   "execution_count": 10,
   "id": "e498ae82",
   "metadata": {},
   "outputs": [
    {
     "data": {
      "text/plain": [
       "((4474, 10), (4474,))"
      ]
     },
     "execution_count": 10,
     "metadata": {},
     "output_type": "execute_result"
    }
   ],
   "source": [
    "shuffle_inputs.shape, shuffle_targets.shape"
   ]
  },
  {
   "cell_type": "code",
   "execution_count": 11,
   "id": "5381e0ba",
   "metadata": {},
   "outputs": [
    {
     "data": {
      "text/plain": [
       "(array([[ 1.12768719,  0.7351559 ,  0.27095401, ..., -0.44129834,\n",
       "         -0.14873032, -0.70217541],\n",
       "        [ 1.12768719,  0.7351559 , -0.359686  , ...,  2.29967159,\n",
       "         -0.14873032,  1.00975534],\n",
       "        [ 0.05694432, -0.08950406,  0.17970385, ..., -0.20015729,\n",
       "         -0.14873032, -0.70217541],\n",
       "        ...,\n",
       "        [ 0.05694432, -0.08950406, -0.359686  , ...,  1.16630866,\n",
       "         -0.14873032,  0.839696  ],\n",
       "        [ 0.05694432, -0.08950406,  0.07223143, ...,  0.20174446,\n",
       "         -0.14873032, -0.39606859],\n",
       "        [ 0.59231575,  3.20913577,  0.18173163, ...,  0.04500278,\n",
       "         -0.14873032,  0.51091459]]),\n",
       " array([1., 0., 1., ..., 0., 1., 1.]))"
      ]
     },
     "execution_count": 11,
     "metadata": {},
     "output_type": "execute_result"
    }
   ],
   "source": [
    "train_inputs = shuffle_inputs[:train_num, :]\n",
    "train_targets = shuffle_targets[:train_num]\n",
    "train_inputs, train_targets"
   ]
  },
  {
   "cell_type": "code",
   "execution_count": 12,
   "id": "7a353687",
   "metadata": {},
   "outputs": [
    {
     "data": {
      "text/plain": [
       "(array([[-0.79964998, -0.74923203, -0.22382465, ..., -0.44129834,\n",
       "         -0.14873032,  1.59929441],\n",
       "        [ 1.12768719,  0.7351559 , -0.359686  , ...,  1.32706936,\n",
       "         -0.14873032, -0.70217541],\n",
       "        [ 1.12768719,  0.7351559 ,  0.56092674, ..., -0.44129834,\n",
       "         -0.14873032, -0.70217541],\n",
       "        ...,\n",
       "        [-2.51283858, -2.06868796,  0.61364906, ..., -0.44129834,\n",
       "         -0.14873032, -0.70217541],\n",
       "        [ 1.12768719,  0.7351559 , -0.30290812, ..., -0.44129834,\n",
       "         -0.14873032,  0.21614506],\n",
       "        [-0.79964998, -0.74923203, -0.30290812, ...,  1.32706936,\n",
       "         -0.14873032,  1.59929441]]),\n",
       " array([0., 0., 1., 0., 1., 0., 1., 0., 0., 1., 1., 1., 1., 0., 0., 1., 1.,\n",
       "        1., 1., 1., 0., 0., 0., 1., 0., 1., 1., 1., 0., 0., 1., 0., 1., 0.,\n",
       "        1., 0., 0., 0., 1., 1., 1., 0., 1., 0., 0., 0., 0., 0., 0., 0., 0.,\n",
       "        1., 0., 1., 0., 1., 1., 0., 0., 0., 0., 0., 0., 0., 1., 0., 0., 1.,\n",
       "        1., 0., 1., 0., 1., 1., 1., 1., 1., 1., 0., 1., 0., 0., 1., 1., 1.,\n",
       "        1., 1., 0., 0., 1., 1., 0., 1., 0., 1., 0., 1., 1., 0., 0., 1., 0.,\n",
       "        1., 1., 0., 0., 0., 0., 1., 1., 0., 0., 1., 0., 1., 1., 0., 0., 1.,\n",
       "        0., 0., 0., 1., 1., 1., 1., 0., 1., 0., 1., 0., 1., 1., 0., 0., 0.,\n",
       "        1., 0., 1., 1., 1., 0., 1., 0., 0., 0., 1., 1., 0., 0., 1., 1., 0.,\n",
       "        1., 0., 0., 0., 0., 1., 0., 0., 1., 1., 0., 0., 0., 1., 0., 0., 0.,\n",
       "        1., 1., 1., 1., 0., 0., 1., 0., 1., 1., 1., 1., 1., 1., 0., 1., 0.,\n",
       "        0., 1., 1., 1., 1., 1., 1., 1., 0., 0., 0., 0., 0., 0., 1., 1., 0.,\n",
       "        0., 1., 1., 0., 0., 0., 1., 0., 1., 1., 1., 1., 1., 1., 1., 0., 0.,\n",
       "        0., 1., 1., 1., 0., 1., 1., 0., 0., 0., 0., 1., 0., 1., 0., 0., 1.,\n",
       "        0., 1., 0., 1., 1., 0., 0., 0., 1., 1., 1., 0., 0., 1., 0., 0., 1.,\n",
       "        0., 0., 1., 1., 0., 0., 1., 0., 1., 1., 0., 0., 0., 1., 0., 0., 0.,\n",
       "        0., 0., 1., 0., 1., 0., 0., 0., 0., 0., 0., 1., 1., 0., 1., 1., 1.,\n",
       "        1., 0., 1., 0., 0., 0., 0., 1., 0., 1., 0., 1., 1., 1., 0., 0., 1.,\n",
       "        0., 0., 0., 0., 0., 0., 0., 1., 1., 1., 0., 0., 0., 0., 1., 1., 0.,\n",
       "        1., 1., 0., 1., 0., 0., 1., 1., 0., 0., 1., 1., 0., 1., 1., 0., 0.,\n",
       "        0., 0., 1., 0., 1., 0., 1., 1., 1., 1., 0., 1., 1., 0., 1., 1., 0.,\n",
       "        0., 0., 1., 1., 0., 1., 1., 0., 0., 0., 1., 1., 0., 1., 1., 0., 0.,\n",
       "        0., 1., 0., 0., 1., 0., 1., 0., 0., 0., 1., 1., 0., 0., 0., 1., 0.,\n",
       "        1., 1., 1., 1., 1., 1., 1., 1., 1., 1., 0., 0., 0., 0., 0., 0., 0.,\n",
       "        1., 1., 1., 0., 0., 1., 0., 1., 1., 0., 1., 0., 0., 1., 0., 0., 0.,\n",
       "        1., 1., 0., 0., 1., 1., 1., 0., 1., 0., 1., 1., 0., 1., 1., 0., 0.,\n",
       "        1., 1., 1., 1., 1.]))"
      ]
     },
     "execution_count": 12,
     "metadata": {},
     "output_type": "execute_result"
    }
   ],
   "source": [
    "validation_inputs = shuffle_inputs[train_num:train_num + validation_num, :]\n",
    "validation_targets = shuffle_targets[train_num: train_num + validation_num]\n",
    "validation_inputs, validation_targets"
   ]
  },
  {
   "cell_type": "code",
   "execution_count": 13,
   "id": "f995506f",
   "metadata": {},
   "outputs": [
    {
     "data": {
      "text/plain": [
       "(array([[ 0.05694432, -0.08950406,  0.18173163, ..., -0.44129834,\n",
       "         -0.14873032, -0.30537027],\n",
       "        [ 0.05694432, -0.08950406, -0.359686  , ...,  1.87767475,\n",
       "         -0.14873032, -0.6001398 ],\n",
       "        [-0.79964998, -0.74923203,  0.61364906, ..., -0.44129834,\n",
       "         -0.14873032,  0.20480777],\n",
       "        ...,\n",
       "        [ 1.12768719,  0.7351559 , -0.359686  , ...,  2.29967159,\n",
       "         -0.14873032,  2.01877413],\n",
       "        [ 0.05694432, -0.08950406, -0.359686  , ..., -0.44129834,\n",
       "         -0.14873032, -0.70217541],\n",
       "        [-0.79964998, -0.74923203, -0.359686  , ...,  1.32706936,\n",
       "         -0.14873032, -0.69083812]]),\n",
       " array([1., 0., 1., 1., 1., 1., 1., 0., 1., 1., 1., 1., 0., 1., 1., 1., 0.,\n",
       "        0., 1., 1., 0., 0., 1., 1., 1., 0., 0., 0., 1., 0., 1., 0., 0., 0.,\n",
       "        1., 0., 1., 0., 0., 0., 0., 1., 1., 0., 0., 1., 0., 1., 1., 1., 1.,\n",
       "        0., 0., 0., 1., 1., 1., 1., 1., 0., 0., 0., 0., 1., 0., 1., 0., 1.,\n",
       "        1., 1., 1., 0., 0., 0., 0., 1., 0., 1., 0., 0., 1., 0., 1., 1., 1.,\n",
       "        1., 0., 1., 1., 1., 1., 1., 1., 1., 1., 0., 0., 0., 1., 1., 0., 0.,\n",
       "        0., 0., 1., 1., 1., 1., 1., 1., 1., 1., 1., 0., 1., 0., 0., 1., 1.,\n",
       "        0., 0., 0., 0., 1., 0., 0., 0., 1., 0., 1., 0., 0., 0., 0., 1., 0.,\n",
       "        0., 1., 0., 1., 0., 0., 0., 0., 1., 1., 0., 0., 0., 1., 0., 0., 1.,\n",
       "        1., 0., 0., 1., 1., 0., 0., 0., 1., 1., 0., 0., 0., 0., 1., 1., 1.,\n",
       "        0., 1., 0., 0., 1., 1., 0., 1., 0., 1., 0., 1., 1., 1., 1., 1., 0.,\n",
       "        0., 1., 1., 0., 1., 0., 1., 0., 1., 0., 0., 1., 0., 1., 0., 1., 1.,\n",
       "        1., 1., 1., 1., 0., 1., 1., 1., 0., 1., 0., 1., 1., 0., 1., 1., 1.,\n",
       "        0., 0., 1., 1., 0., 1., 1., 0., 1., 1., 1., 0., 0., 1., 1., 1., 1.,\n",
       "        1., 1., 1., 0., 0., 1., 0., 0., 1., 0., 1., 1., 1., 0., 0., 0., 1.,\n",
       "        0., 1., 0., 0., 0., 0., 1., 1., 1., 0., 1., 1., 0., 0., 0., 0., 1.,\n",
       "        0., 0., 0., 1., 1., 1., 1., 1., 0., 0., 0., 1., 0., 0., 1., 0., 1.,\n",
       "        1., 1., 1., 1., 0., 0., 0., 0., 0., 1., 0., 1., 0., 1., 1., 0., 0.,\n",
       "        0., 1., 1., 1., 1., 0., 1., 0., 1., 1., 0., 1., 1., 0., 1., 1., 1.,\n",
       "        0., 0., 0., 0., 1., 1., 0., 0., 0., 0., 0., 0., 1., 1., 0., 1., 1.,\n",
       "        1., 0., 0., 1., 1., 1., 1., 0., 0., 0., 0., 1., 0., 1., 0., 0., 1.,\n",
       "        1., 1., 0., 1., 0., 0., 0., 0., 0., 0., 1., 1., 1., 1., 1., 0., 0.,\n",
       "        0., 1., 1., 1., 1., 1., 0., 1., 1., 1., 0., 0., 0., 1., 1., 0., 1.,\n",
       "        1., 0., 1., 1., 0., 0., 1., 1., 1., 1., 0., 1., 1., 0., 0., 1., 1.,\n",
       "        1., 1., 0., 1., 0., 0., 0., 0., 0., 1., 0., 0., 0., 0., 0., 1., 0.,\n",
       "        0., 1., 1., 0., 0., 1., 1., 1., 1., 1., 0., 1., 0., 0., 0., 1., 1.,\n",
       "        1., 0., 1., 0., 1., 0.]))"
      ]
     },
     "execution_count": 13,
     "metadata": {},
     "output_type": "execute_result"
    }
   ],
   "source": [
    "test_inputs = shuffle_inputs[train_num + validation_num:, :]\n",
    "test_targets = shuffle_targets[train_num + validation_num:]\n",
    "test_inputs, test_targets"
   ]
  },
  {
   "cell_type": "code",
   "execution_count": 14,
   "id": "1acf470a",
   "metadata": {},
   "outputs": [
    {
     "name": "stdout",
     "output_type": "stream",
     "text": [
      "Number of one train:  1782.0 , percent:  0.4979044425817267\n",
      "Number of one validation:  219.0 , percent:  0.4899328859060403\n",
      "Number of one test:  236.0 , percent:  0.5267857142857143\n"
     ]
    }
   ],
   "source": [
    "print(\"Number of one train: \", train_targets.sum(), \", percent: \", train_targets.sum() / train_num)\n",
    "print(\"Number of one validation: \", validation_targets.sum(), \", percent: \", validation_targets.sum() / validation_num)\n",
    "print(\"Number of one test: \", test_targets.sum(), \", percent: \", test_targets.sum() / test_num)"
   ]
  },
  {
   "cell_type": "code",
   "execution_count": 15,
   "id": "aca9c018",
   "metadata": {},
   "outputs": [],
   "source": [
    "np.savez(\"Audiobooks_train\", inputs = train_inputs, targets = train_targets)\n",
    "np.savez(\"Audiobooks_validation\", inputs = validation_inputs, targets = validation_targets)\n",
    "np.savez(\"Audiobooks_test\", inputs = test_inputs, targets = test_targets)"
   ]
  },
  {
   "cell_type": "code",
   "execution_count": 16,
   "id": "6739e934",
   "metadata": {},
   "outputs": [],
   "source": [
    "train_data = np.load(\"Audiobooks_train.npz\")\n",
    "validation_data = np.load(\"Audiobooks_validation.npz\")\n",
    "test_data = np.load(\"Audiobooks_test.npz\")"
   ]
  },
  {
   "cell_type": "markdown",
   "id": "fea2b3d8",
   "metadata": {},
   "source": [
    "## Model"
   ]
  },
  {
   "cell_type": "code",
   "execution_count": 17,
   "id": "9b5323d6",
   "metadata": {},
   "outputs": [],
   "source": [
    "input_size = 10\n",
    "output_size = 2\n",
    "hidden_layer_size = 50\n",
    "\n",
    "model = tf.keras.Sequential([\n",
    "    tf.keras.layers.Dense(hidden_layer_size, activation=\"relu\"),\n",
    "    tf.keras.layers.Dense(hidden_layer_size, activation=\"relu\"),\n",
    "    tf.keras.layers.Dense(output_size, activation=\"softmax\")\n",
    "])"
   ]
  },
  {
   "cell_type": "code",
   "execution_count": 18,
   "id": "c930c4bd",
   "metadata": {},
   "outputs": [],
   "source": [
    "model.compile(optimizer=\"adam\", loss=\"sparse_categorical_crossentropy\", metrics=[\"accuracy\"])"
   ]
  },
  {
   "cell_type": "code",
   "execution_count": 19,
   "id": "3bf9d1fd",
   "metadata": {},
   "outputs": [
    {
     "data": {
      "text/plain": [
       "array([[ 1.12768719,  0.7351559 ,  0.27095401, ..., -0.44129834,\n",
       "        -0.14873032, -0.70217541],\n",
       "       [ 1.12768719,  0.7351559 , -0.359686  , ...,  2.29967159,\n",
       "        -0.14873032,  1.00975534],\n",
       "       [ 0.05694432, -0.08950406,  0.17970385, ..., -0.20015729,\n",
       "        -0.14873032, -0.70217541],\n",
       "       ...,\n",
       "       [ 0.05694432, -0.08950406, -0.359686  , ...,  1.16630866,\n",
       "        -0.14873032,  0.839696  ],\n",
       "       [ 0.05694432, -0.08950406,  0.07223143, ...,  0.20174446,\n",
       "        -0.14873032, -0.39606859],\n",
       "       [ 0.59231575,  3.20913577,  0.18173163, ...,  0.04500278,\n",
       "        -0.14873032,  0.51091459]])"
      ]
     },
     "execution_count": 19,
     "metadata": {},
     "output_type": "execute_result"
    }
   ],
   "source": [
    "train_data[\"inputs\"].astype(float)"
   ]
  },
  {
   "cell_type": "code",
   "execution_count": 20,
   "id": "305598e5",
   "metadata": {},
   "outputs": [
    {
     "name": "stdout",
     "output_type": "stream",
     "text": [
      "Epoch 1/100\n",
      "36/36 - 2s - loss: 0.5302 - accuracy: 0.7636 - val_loss: 0.4130 - val_accuracy: 0.8591 - 2s/epoch - 43ms/step\n",
      "Epoch 2/100\n",
      "36/36 - 0s - loss: 0.3802 - accuracy: 0.8664 - val_loss: 0.3551 - val_accuracy: 0.8635 - 149ms/epoch - 4ms/step\n",
      "Epoch 3/100\n",
      "36/36 - 0s - loss: 0.3356 - accuracy: 0.8785 - val_loss: 0.3236 - val_accuracy: 0.8837 - 136ms/epoch - 4ms/step\n",
      "Epoch 4/100\n",
      "36/36 - 0s - loss: 0.3149 - accuracy: 0.8854 - val_loss: 0.3088 - val_accuracy: 0.8770 - 156ms/epoch - 4ms/step\n",
      "Epoch 5/100\n",
      "36/36 - 0s - loss: 0.3018 - accuracy: 0.8899 - val_loss: 0.2995 - val_accuracy: 0.8859 - 151ms/epoch - 4ms/step\n",
      "Epoch 6/100\n",
      "36/36 - 0s - loss: 0.2908 - accuracy: 0.8921 - val_loss: 0.2875 - val_accuracy: 0.8859 - 185ms/epoch - 5ms/step\n",
      "Epoch 7/100\n",
      "36/36 - 0s - loss: 0.2828 - accuracy: 0.8947 - val_loss: 0.2869 - val_accuracy: 0.8859 - 173ms/epoch - 5ms/step\n",
      "Epoch 8/100\n",
      "36/36 - 0s - loss: 0.2766 - accuracy: 0.8952 - val_loss: 0.2786 - val_accuracy: 0.8949 - 149ms/epoch - 4ms/step\n",
      "Epoch 9/100\n",
      "36/36 - 0s - loss: 0.2705 - accuracy: 0.8986 - val_loss: 0.2689 - val_accuracy: 0.8949 - 161ms/epoch - 4ms/step\n",
      "Epoch 10/100\n",
      "36/36 - 0s - loss: 0.2660 - accuracy: 0.8986 - val_loss: 0.2680 - val_accuracy: 0.8993 - 191ms/epoch - 5ms/step\n",
      "Epoch 11/100\n",
      "36/36 - 0s - loss: 0.2642 - accuracy: 0.9019 - val_loss: 0.2780 - val_accuracy: 0.8949 - 181ms/epoch - 5ms/step\n",
      "Epoch 12/100\n",
      "36/36 - 0s - loss: 0.2602 - accuracy: 0.9022 - val_loss: 0.2672 - val_accuracy: 0.8971 - 175ms/epoch - 5ms/step\n",
      "Epoch 13/100\n",
      "36/36 - 0s - loss: 0.2568 - accuracy: 0.9044 - val_loss: 0.2628 - val_accuracy: 0.8993 - 173ms/epoch - 5ms/step\n",
      "Epoch 14/100\n",
      "36/36 - 0s - loss: 0.2545 - accuracy: 0.9042 - val_loss: 0.2573 - val_accuracy: 0.8971 - 140ms/epoch - 4ms/step\n",
      "Epoch 15/100\n",
      "36/36 - 0s - loss: 0.2508 - accuracy: 0.9056 - val_loss: 0.2636 - val_accuracy: 0.8949 - 165ms/epoch - 5ms/step\n",
      "Epoch 16/100\n",
      "36/36 - 0s - loss: 0.2503 - accuracy: 0.9061 - val_loss: 0.2551 - val_accuracy: 0.9038 - 139ms/epoch - 4ms/step\n",
      "Epoch 17/100\n",
      "36/36 - 0s - loss: 0.2470 - accuracy: 0.9064 - val_loss: 0.2606 - val_accuracy: 0.8993 - 146ms/epoch - 4ms/step\n",
      "Epoch 18/100\n",
      "36/36 - 0s - loss: 0.2452 - accuracy: 0.9078 - val_loss: 0.2584 - val_accuracy: 0.9060 - 147ms/epoch - 4ms/step\n"
     ]
    },
    {
     "data": {
      "text/plain": [
       "<keras.callbacks.History at 0x2e253183850>"
      ]
     },
     "execution_count": 20,
     "metadata": {},
     "output_type": "execute_result"
    }
   ],
   "source": [
    "max_epoch = 100\n",
    "batch_size = 100\n",
    "early_stopping = tf.keras.callbacks.EarlyStopping(patience=2)\n",
    "\n",
    "model.fit(\n",
    "    train_data[\"inputs\"].astype(float), \n",
    "    train_data[\"targets\"].astype(int), \n",
    "    validation_data=(validation_data[\"inputs\"].astype(float), validation_data[\"targets\"].astype(float)), \n",
    "    batch_size=batch_size,\n",
    "    epochs=max_epoch,\n",
    "    callbacks=[early_stopping],\n",
    "    verbose=2\n",
    ")"
   ]
  },
  {
   "cell_type": "code",
   "execution_count": 21,
   "id": "ea2dd752",
   "metadata": {},
   "outputs": [
    {
     "name": "stdout",
     "output_type": "stream",
     "text": [
      "14/14 [==============================] - 0s 3ms/step - loss: 0.2569 - accuracy: 0.9040\n"
     ]
    }
   ],
   "source": [
    "test_loss, test_accuracy = model.evaluate(test_data[\"inputs\"], test_data[\"targets\"])"
   ]
  },
  {
   "cell_type": "code",
   "execution_count": null,
   "id": "138167d5",
   "metadata": {},
   "outputs": [],
   "source": []
  }
 ],
 "metadata": {
  "kernelspec": {
   "display_name": "py3-TF2.0",
   "language": "python",
   "name": "py3-tf2.0"
  },
  "language_info": {
   "codemirror_mode": {
    "name": "ipython",
    "version": 3
   },
   "file_extension": ".py",
   "mimetype": "text/x-python",
   "name": "python",
   "nbconvert_exporter": "python",
   "pygments_lexer": "ipython3",
   "version": "3.10.9"
  }
 },
 "nbformat": 4,
 "nbformat_minor": 5
}
